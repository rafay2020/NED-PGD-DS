{
 "cells": [
  {
   "cell_type": "markdown",
   "id": "ae71662e",
   "metadata": {},
   "source": [
    "# Python Operators\n",
    "* Arithmetic operators.\n",
    "* Assignment operators.\n",
    "* Comparison operators.\n",
    "* Logical operators.\n",
    "* Identity operators.\n",
    "* Membership operators.\n",
    "* Bitwise operators"
   ]
  },
  {
   "cell_type": "markdown",
   "id": "96eeb91a",
   "metadata": {},
   "source": [
    "## Arithmetic operators."
   ]
  },
  {
   "cell_type": "markdown",
   "id": "bf7c7a52",
   "metadata": {},
   "source": [
    "#### + Operator with Intiger"
   ]
  },
  {
   "cell_type": "code",
   "execution_count": 1,
   "id": "89b96201",
   "metadata": {},
   "outputs": [
    {
     "data": {
      "text/plain": [
       "10"
      ]
     },
     "execution_count": 1,
     "metadata": {},
     "output_type": "execute_result"
    }
   ],
   "source": [
    "#int + int\n",
    "5 + 2\n",
    "3 + 7 # return only last line statment"
   ]
  },
  {
   "cell_type": "code",
   "execution_count": 2,
   "id": "9cc7f4b9",
   "metadata": {},
   "outputs": [
    {
     "name": "stdout",
     "output_type": "stream",
     "text": [
      "7\n",
      "10\n"
     ]
    }
   ],
   "source": [
    "print(5 + 2) # addition\n",
    "print(3 + 7) #addition"
   ]
  },
  {
   "cell_type": "code",
   "execution_count": 3,
   "id": "c79e9511",
   "metadata": {},
   "outputs": [
    {
     "data": {
      "text/plain": [
       "9"
      ]
     },
     "execution_count": 3,
     "metadata": {},
     "output_type": "execute_result"
    }
   ],
   "source": [
    "7 + 2"
   ]
  },
  {
   "cell_type": "code",
   "execution_count": 6,
   "id": "ac436e30",
   "metadata": {},
   "outputs": [
    {
     "data": {
      "text/plain": [
       "17"
      ]
     },
     "execution_count": 6,
     "metadata": {},
     "output_type": "execute_result"
    }
   ],
   "source": [
    "7 + 3 + 2 + 5 # addition\n",
    "#7 + 3 + 2 + 5\n",
    "#10 + 2 + 5\n",
    "#12 + 5\n",
    "#17"
   ]
  },
  {
   "cell_type": "markdown",
   "id": "05034fb2",
   "metadata": {},
   "source": [
    "#### + Operator with String data type"
   ]
  },
  {
   "cell_type": "code",
   "execution_count": 10,
   "id": "90227fed",
   "metadata": {},
   "outputs": [
    {
     "data": {
      "text/plain": [
       "'Muhammad Qasim'"
      ]
     },
     "execution_count": 10,
     "metadata": {},
     "output_type": "execute_result"
    }
   ],
   "source": [
    "# str       +   str\n",
    "\"Muhammad \" + \"Qasim\" # concatinact"
   ]
  },
  {
   "cell_type": "code",
   "execution_count": 13,
   "id": "cc1a5fd4",
   "metadata": {},
   "outputs": [
    {
     "data": {
      "text/plain": [
       "'11'"
      ]
     },
     "execution_count": 13,
     "metadata": {},
     "output_type": "execute_result"
    }
   ],
   "source": [
    "#str + str # concatenate\n",
    "\"1\"  + \"1\" # concatenate"
   ]
  },
  {
   "cell_type": "code",
   "execution_count": 11,
   "id": "8b3df4a0",
   "metadata": {},
   "outputs": [
    {
     "ename": "TypeError",
     "evalue": "can only concatenate str (not \"int\") to str",
     "output_type": "error",
     "traceback": [
      "\u001b[0;31m----------------------------------------------------------------------\u001b[0m",
      "\u001b[0;31mTypeError\u001b[0m                            Traceback (most recent call last)",
      "\u001b[0;32m<ipython-input-11-9bbca2426541>\u001b[0m in \u001b[0;36m<module>\u001b[0;34m\u001b[0m\n\u001b[1;32m      1\u001b[0m \u001b[0;31m#str + int\u001b[0m\u001b[0;34m\u001b[0m\u001b[0;34m\u001b[0m\u001b[0;34m\u001b[0m\u001b[0m\n\u001b[0;32m----> 2\u001b[0;31m \u001b[0;34m\"1\"\u001b[0m \u001b[0;34m+\u001b[0m \u001b[0;36m2\u001b[0m\u001b[0;34m\u001b[0m\u001b[0;34m\u001b[0m\u001b[0m\n\u001b[0m",
      "\u001b[0;31mTypeError\u001b[0m: can only concatenate str (not \"int\") to str"
     ]
    }
   ],
   "source": [
    "#str + int\n",
    "\"1\" + 2"
   ]
  },
  {
   "cell_type": "code",
   "execution_count": 15,
   "id": "22049724",
   "metadata": {},
   "outputs": [
    {
     "data": {
      "text/plain": [
       "'12'"
      ]
     },
     "execution_count": 15,
     "metadata": {},
     "output_type": "execute_result"
    }
   ],
   "source": [
    "#str + str\n",
    "\"1\" + str(2) # type casting"
   ]
  },
  {
   "cell_type": "code",
   "execution_count": 16,
   "id": "4dc7aad7",
   "metadata": {},
   "outputs": [
    {
     "ename": "TypeError",
     "evalue": "unsupported operand type(s) for +: 'int' and 'str'",
     "output_type": "error",
     "traceback": [
      "\u001b[0;31m----------------------------------------------------------------------\u001b[0m",
      "\u001b[0;31mTypeError\u001b[0m                            Traceback (most recent call last)",
      "\u001b[0;32m<ipython-input-16-c65217430e30>\u001b[0m in \u001b[0;36m<module>\u001b[0;34m\u001b[0m\n\u001b[1;32m      1\u001b[0m \u001b[0;31m#int + str\u001b[0m\u001b[0;34m\u001b[0m\u001b[0;34m\u001b[0m\u001b[0;34m\u001b[0m\u001b[0m\n\u001b[0;32m----> 2\u001b[0;31m \u001b[0;36m1\u001b[0m \u001b[0;34m+\u001b[0m \u001b[0;34m\"2\"\u001b[0m\u001b[0;34m\u001b[0m\u001b[0;34m\u001b[0m\u001b[0m\n\u001b[0m",
      "\u001b[0;31mTypeError\u001b[0m: unsupported operand type(s) for +: 'int' and 'str'"
     ]
    }
   ],
   "source": [
    "#int + str\n",
    "1 + \"2\""
   ]
  },
  {
   "cell_type": "code",
   "execution_count": 19,
   "id": "04efbe18",
   "metadata": {},
   "outputs": [
    {
     "data": {
      "text/plain": [
       "4.7"
      ]
     },
     "execution_count": 19,
     "metadata": {},
     "output_type": "execute_result"
    }
   ],
   "source": [
    "2.7 + 2.0"
   ]
  },
  {
   "cell_type": "code",
   "execution_count": 20,
   "id": "e79524e5",
   "metadata": {},
   "outputs": [
    {
     "data": {
      "text/plain": [
       "5.7"
      ]
     },
     "execution_count": 20,
     "metadata": {},
     "output_type": "execute_result"
    }
   ],
   "source": [
    "#int + float\n",
    "3 + 2.7"
   ]
  },
  {
   "cell_type": "markdown",
   "id": "fa62e8d4",
   "metadata": {},
   "source": [
    "#### + with List data type"
   ]
  },
  {
   "cell_type": "code",
   "execution_count": 18,
   "id": "b388932f",
   "metadata": {},
   "outputs": [
    {
     "data": {
      "text/plain": [
       "['a', 'b', 'c', 'x', 'y']"
      ]
     },
     "execution_count": 18,
     "metadata": {},
     "output_type": "execute_result"
    }
   ],
   "source": [
    "l1 = [\"a\",\"b\",\"c\"]\n",
    "l2 = [\"x\",\"y\"]\n",
    "\n",
    "l1 + l2 # combine two list"
   ]
  },
  {
   "cell_type": "code",
   "execution_count": null,
   "id": "485c28a4",
   "metadata": {},
   "outputs": [],
   "source": []
  },
  {
   "cell_type": "code",
   "execution_count": null,
   "id": "1db06e80",
   "metadata": {},
   "outputs": [],
   "source": []
  },
  {
   "cell_type": "code",
   "execution_count": null,
   "id": "2f5f497f",
   "metadata": {},
   "outputs": [],
   "source": []
  },
  {
   "cell_type": "code",
   "execution_count": 17,
   "id": "3ef399c2",
   "metadata": {},
   "outputs": [
    {
     "data": {
      "text/plain": [
       "3"
      ]
     },
     "execution_count": 17,
     "metadata": {},
     "output_type": "execute_result"
    }
   ],
   "source": [
    "#int + int\n",
    "1 + int(\"2\")"
   ]
  },
  {
   "cell_type": "markdown",
   "id": "69cbd438",
   "metadata": {},
   "source": [
    "# - Hypen \n",
    "* Subtraction with numbers oprands\n"
   ]
  },
  {
   "cell_type": "code",
   "execution_count": 8,
   "id": "1bf82c20",
   "metadata": {},
   "outputs": [
    {
     "data": {
      "text/plain": [
       "5"
      ]
     },
     "execution_count": 8,
     "metadata": {},
     "output_type": "execute_result"
    }
   ],
   "source": [
    "8 - 3"
   ]
  },
  {
   "cell_type": "code",
   "execution_count": 21,
   "id": "beea4329",
   "metadata": {},
   "outputs": [
    {
     "ename": "TypeError",
     "evalue": "unsupported operand type(s) for -: 'list' and 'list'",
     "output_type": "error",
     "traceback": [
      "\u001b[0;31m----------------------------------------------------------------------\u001b[0m",
      "\u001b[0;31mTypeError\u001b[0m                            Traceback (most recent call last)",
      "\u001b[0;32m<ipython-input-21-0c03b392a9b5>\u001b[0m in \u001b[0;36m<module>\u001b[0;34m\u001b[0m\n\u001b[1;32m      2\u001b[0m \u001b[0ml2\u001b[0m \u001b[0;34m=\u001b[0m \u001b[0;34m[\u001b[0m\u001b[0;34m\"a\"\u001b[0m\u001b[0;34m,\u001b[0m\u001b[0;34m\"b\"\u001b[0m\u001b[0;34m]\u001b[0m\u001b[0;34m\u001b[0m\u001b[0;34m\u001b[0m\u001b[0m\n\u001b[1;32m      3\u001b[0m \u001b[0;34m\u001b[0m\u001b[0m\n\u001b[0;32m----> 4\u001b[0;31m \u001b[0ml1\u001b[0m \u001b[0;34m-\u001b[0m \u001b[0ml2\u001b[0m \u001b[0;31m# combine two list\u001b[0m\u001b[0;34m\u001b[0m\u001b[0;34m\u001b[0m\u001b[0m\n\u001b[0m",
      "\u001b[0;31mTypeError\u001b[0m: unsupported operand type(s) for -: 'list' and 'list'"
     ]
    }
   ],
   "source": [
    "l1 = [\"a\",\"b\",\"c\"]\n",
    "l2 = [\"a\",\"b\"]\n",
    "\n",
    "l1 - l2 # combine two list"
   ]
  },
  {
   "cell_type": "markdown",
   "id": "0b265a9d",
   "metadata": {},
   "source": [
    "# * asterik \n",
    "* Numbers\n",
    "* String and Number"
   ]
  },
  {
   "cell_type": "code",
   "execution_count": 22,
   "id": "bc6fc61f",
   "metadata": {},
   "outputs": [
    {
     "data": {
      "text/plain": [
       "6"
      ]
     },
     "execution_count": 22,
     "metadata": {},
     "output_type": "execute_result"
    }
   ],
   "source": [
    "2 * 3 # Multiplication "
   ]
  },
  {
   "cell_type": "code",
   "execution_count": 23,
   "id": "57bdbb58",
   "metadata": {},
   "outputs": [
    {
     "data": {
      "text/plain": [
       "'QasimQasimQasim'"
      ]
     },
     "execution_count": 23,
     "metadata": {},
     "output_type": "execute_result"
    }
   ],
   "source": [
    "\"Qasim\" * 3 # repetation"
   ]
  },
  {
   "cell_type": "code",
   "execution_count": 24,
   "id": "6cb1388f",
   "metadata": {},
   "outputs": [
    {
     "data": {
      "text/plain": [
       "'Qasim Qasim Qasim Qasim Qasim Qasim Qasim Qasim Qasim Qasim '"
      ]
     },
     "execution_count": 24,
     "metadata": {},
     "output_type": "execute_result"
    }
   ],
   "source": [
    "\"Qasim \" * 10 # repetation"
   ]
  },
  {
   "cell_type": "code",
   "execution_count": 30,
   "id": "5ff655f7",
   "metadata": {},
   "outputs": [
    {
     "data": {
      "text/plain": [
       "'Qasim Qasim Qasim Qasim Qasim Qasim Qasim Qasim Qasim Qasim '"
      ]
     },
     "execution_count": 30,
     "metadata": {},
     "output_type": "execute_result"
    }
   ],
   "source": [
    "10 * \"Qasim \""
   ]
  },
  {
   "cell_type": "code",
   "execution_count": 32,
   "id": "40705e5c",
   "metadata": {},
   "outputs": [
    {
     "name": "stdout",
     "output_type": "stream",
     "text": [
      "\n",
      "Hello world\n",
      "Pakistan zinda bad\n",
      "\n",
      "Hello world\n",
      "Pakistan zinda bad\n",
      "\n",
      "Hello world\n",
      "Pakistan zinda bad\n",
      "\n"
     ]
    }
   ],
   "source": [
    "a = \"\"\"\n",
    "Hello world\n",
    "Pakistan zinda bad\n",
    "\"\"\" * 3\n",
    "\n",
    "print(a)"
   ]
  },
  {
   "cell_type": "code",
   "execution_count": 26,
   "id": "685b4b05",
   "metadata": {},
   "outputs": [
    {
     "data": {
      "text/plain": [
       "['a', 'b', 'a', 'b']"
      ]
     },
     "execution_count": 26,
     "metadata": {},
     "output_type": "execute_result"
    }
   ],
   "source": [
    "['a','b'] * 2"
   ]
  },
  {
   "cell_type": "code",
   "execution_count": 27,
   "id": "0f711e0c",
   "metadata": {},
   "outputs": [
    {
     "data": {
      "text/plain": [
       "('a', 'b', 'a', 'b')"
      ]
     },
     "execution_count": 27,
     "metadata": {},
     "output_type": "execute_result"
    }
   ],
   "source": [
    "('a','b') * 2"
   ]
  },
  {
   "cell_type": "code",
   "execution_count": 28,
   "id": "a94ad26b",
   "metadata": {},
   "outputs": [
    {
     "ename": "TypeError",
     "evalue": "unsupported operand type(s) for *: 'dict' and 'int'",
     "output_type": "error",
     "traceback": [
      "\u001b[0;31m----------------------------------------------------------------------\u001b[0m",
      "\u001b[0;31mTypeError\u001b[0m                            Traceback (most recent call last)",
      "\u001b[0;32m<ipython-input-28-a87976e7441c>\u001b[0m in \u001b[0;36m<module>\u001b[0;34m\u001b[0m\n\u001b[0;32m----> 1\u001b[0;31m \u001b[0;34m{\u001b[0m\u001b[0;34m\"a\"\u001b[0m\u001b[0;34m:\u001b[0m\u001b[0;34m'pakistan'\u001b[0m\u001b[0;34m}\u001b[0m \u001b[0;34m*\u001b[0m \u001b[0;36m2\u001b[0m\u001b[0;34m\u001b[0m\u001b[0;34m\u001b[0m\u001b[0m\n\u001b[0m",
      "\u001b[0;31mTypeError\u001b[0m: unsupported operand type(s) for *: 'dict' and 'int'"
     ]
    }
   ],
   "source": [
    "{\"a\":'pakistan'} * 2"
   ]
  },
  {
   "cell_type": "markdown",
   "id": "0a7b9565",
   "metadata": {},
   "source": [
    "# /"
   ]
  },
  {
   "cell_type": "code",
   "execution_count": 35,
   "id": "a6748635",
   "metadata": {},
   "outputs": [
    {
     "data": {
      "text/plain": [
       "9.0"
      ]
     },
     "execution_count": 35,
     "metadata": {},
     "output_type": "execute_result"
    }
   ],
   "source": [
    "27 / 3"
   ]
  },
  {
   "cell_type": "markdown",
   "id": "7e16c9ed",
   "metadata": {},
   "source": [
    "#### DIVIVE ANSWERS SHOULD BE IN INT"
   ]
  },
  {
   "cell_type": "code",
   "execution_count": 36,
   "id": "6e164076",
   "metadata": {},
   "outputs": [
    {
     "data": {
      "text/plain": [
       "9"
      ]
     },
     "execution_count": 36,
     "metadata": {},
     "output_type": "execute_result"
    }
   ],
   "source": [
    "27 // 3 # FLOOR DIVISION"
   ]
  },
  {
   "cell_type": "code",
   "execution_count": 37,
   "id": "fd27f2f6",
   "metadata": {},
   "outputs": [
    {
     "data": {
      "text/plain": [
       "9"
      ]
     },
     "execution_count": 37,
     "metadata": {},
     "output_type": "execute_result"
    }
   ],
   "source": [
    "29 // 3"
   ]
  },
  {
   "cell_type": "markdown",
   "id": "c830f51b",
   "metadata": {},
   "source": [
    "#### % Modulus"
   ]
  },
  {
   "cell_type": "code",
   "execution_count": 38,
   "id": "1deb8edd",
   "metadata": {},
   "outputs": [
    {
     "data": {
      "text/plain": [
       "2"
      ]
     },
     "execution_count": 38,
     "metadata": {},
     "output_type": "execute_result"
    }
   ],
   "source": [
    "11 % 3"
   ]
  },
  {
   "cell_type": "code",
   "execution_count": 39,
   "id": "3a772fff",
   "metadata": {},
   "outputs": [
    {
     "data": {
      "text/plain": [
       "1"
      ]
     },
     "execution_count": 39,
     "metadata": {},
     "output_type": "execute_result"
    }
   ],
   "source": [
    "77 % 2"
   ]
  },
  {
   "cell_type": "code",
   "execution_count": 40,
   "id": "0085a0ba",
   "metadata": {},
   "outputs": [
    {
     "data": {
      "text/plain": [
       "0"
      ]
     },
     "execution_count": 40,
     "metadata": {},
     "output_type": "execute_result"
    }
   ],
   "source": [
    "80 % 2"
   ]
  },
  {
   "cell_type": "markdown",
   "id": "f67e75e1",
   "metadata": {},
   "source": [
    "## **Exponentiation"
   ]
  },
  {
   "cell_type": "code",
   "execution_count": 41,
   "id": "b430dcda",
   "metadata": {},
   "outputs": [
    {
     "data": {
      "text/plain": [
       "8"
      ]
     },
     "execution_count": 41,
     "metadata": {},
     "output_type": "execute_result"
    }
   ],
   "source": [
    "2 ** 3\n",
    "# 2 * 2 * 2"
   ]
  },
  {
   "cell_type": "code",
   "execution_count": 44,
   "id": "e251cdf6",
   "metadata": {},
   "outputs": [
    {
     "data": {
      "text/plain": [
       "32"
      ]
     },
     "execution_count": 44,
     "metadata": {},
     "output_type": "execute_result"
    }
   ],
   "source": [
    "2 ** 5\n",
    "# 2 * 2 * 2 * 2 * 2"
   ]
  },
  {
   "cell_type": "markdown",
   "id": "e7943458",
   "metadata": {},
   "source": [
    "## Python Assignment Operators\n"
   ]
  },
  {
   "cell_type": "code",
   "execution_count": 45,
   "id": "10212f47",
   "metadata": {},
   "outputs": [
    {
     "name": "stdout",
     "output_type": "stream",
     "text": [
      "7\n",
      "7\n",
      "7\n"
     ]
    }
   ],
   "source": [
    "a = 7\n",
    "print(a)\n",
    "print(a)\n",
    "print(a)"
   ]
  },
  {
   "cell_type": "code",
   "execution_count": 46,
   "id": "e8744747",
   "metadata": {},
   "outputs": [
    {
     "name": "stdout",
     "output_type": "stream",
     "text": [
      "20\n",
      "20\n",
      "20\n"
     ]
    }
   ],
   "source": [
    "a = 20 # if change here then change all palceholder values\n",
    "print(a)\n",
    "print(a)\n",
    "print(a)"
   ]
  },
  {
   "cell_type": "code",
   "execution_count": 47,
   "id": "a6f9e70a",
   "metadata": {},
   "outputs": [
    {
     "name": "stdout",
     "output_type": "stream",
     "text": [
      "5\n"
     ]
    }
   ],
   "source": [
    "a = 20\n",
    "a = 10 # overwrite\n",
    "a = 5 # overwrite last value\n",
    "print(a)"
   ]
  },
  {
   "cell_type": "code",
   "execution_count": 50,
   "id": "44a5b0b3",
   "metadata": {},
   "outputs": [
    {
     "data": {
      "text/plain": [
       "15"
      ]
     },
     "execution_count": 50,
     "metadata": {},
     "output_type": "execute_result"
    }
   ],
   "source": [
    "a = 10\n",
    "a = a + 2 # 12\n",
    "a = a + 3 # 15\n",
    "a"
   ]
  },
  {
   "cell_type": "code",
   "execution_count": 51,
   "id": "6c5942a7",
   "metadata": {},
   "outputs": [
    {
     "data": {
      "text/plain": [
       "15"
      ]
     },
     "execution_count": 51,
     "metadata": {},
     "output_type": "execute_result"
    }
   ],
   "source": [
    "a = 10\n",
    "a += 2 # 12 addition with previouse value a + 2 \n",
    "a += 3 # 15  addition with previouse value a + 3 \n",
    "a"
   ]
  },
  {
   "cell_type": "code",
   "execution_count": 52,
   "id": "68f4966c",
   "metadata": {},
   "outputs": [
    {
     "data": {
      "text/plain": [
       "8"
      ]
     },
     "execution_count": 52,
     "metadata": {},
     "output_type": "execute_result"
    }
   ],
   "source": [
    "a = 10\n",
    "a = a - 2\n",
    "a"
   ]
  },
  {
   "cell_type": "code",
   "execution_count": 53,
   "id": "6d545368",
   "metadata": {},
   "outputs": [
    {
     "data": {
      "text/plain": [
       "8"
      ]
     },
     "execution_count": 53,
     "metadata": {},
     "output_type": "execute_result"
    }
   ],
   "source": [
    "a = 10\n",
    "a -= 2\n",
    "a"
   ]
  },
  {
   "cell_type": "code",
   "execution_count": null,
   "id": "d3e88676",
   "metadata": {},
   "outputs": [],
   "source": [
    "+=\n",
    "-=\n",
    "*=\n",
    "/=\n",
    "//=\n",
    "**=\n",
    "%="
   ]
  },
  {
   "cell_type": "markdown",
   "id": "8ba3d2f2",
   "metadata": {},
   "source": [
    "#### Python Comparison Operators\n"
   ]
  },
  {
   "cell_type": "code",
   "execution_count": 54,
   "id": "c2b9af05",
   "metadata": {},
   "outputs": [
    {
     "data": {
      "text/plain": [
       "False"
      ]
     },
     "execution_count": 54,
     "metadata": {},
     "output_type": "execute_result"
    }
   ],
   "source": [
    "2 == 4"
   ]
  },
  {
   "cell_type": "code",
   "execution_count": 55,
   "id": "ad895855",
   "metadata": {},
   "outputs": [
    {
     "data": {
      "text/plain": [
       "True"
      ]
     },
     "execution_count": 55,
     "metadata": {},
     "output_type": "execute_result"
    }
   ],
   "source": [
    "2 == 2"
   ]
  },
  {
   "cell_type": "code",
   "execution_count": 56,
   "id": "89ae8b7a",
   "metadata": {},
   "outputs": [
    {
     "data": {
      "text/plain": [
       "False"
      ]
     },
     "execution_count": 56,
     "metadata": {},
     "output_type": "execute_result"
    }
   ],
   "source": [
    "2 == \"2\""
   ]
  },
  {
   "cell_type": "code",
   "execution_count": 57,
   "id": "cf596717",
   "metadata": {},
   "outputs": [
    {
     "data": {
      "text/plain": [
       "False"
      ]
     },
     "execution_count": 57,
     "metadata": {},
     "output_type": "execute_result"
    }
   ],
   "source": [
    "2 > 7 # two is grather then 7"
   ]
  },
  {
   "cell_type": "code",
   "execution_count": 58,
   "id": "3f3faaa5",
   "metadata": {},
   "outputs": [
    {
     "data": {
      "text/plain": [
       "True"
      ]
     },
     "execution_count": 58,
     "metadata": {},
     "output_type": "execute_result"
    }
   ],
   "source": [
    "2 < 7 # two is lessthen 7"
   ]
  },
  {
   "cell_type": "code",
   "execution_count": 59,
   "id": "eed156cb",
   "metadata": {},
   "outputs": [
    {
     "data": {
      "text/plain": [
       "False"
      ]
     },
     "execution_count": 59,
     "metadata": {},
     "output_type": "execute_result"
    }
   ],
   "source": [
    "5 > 5"
   ]
  },
  {
   "cell_type": "code",
   "execution_count": 60,
   "id": "f27fe5ec",
   "metadata": {},
   "outputs": [
    {
     "data": {
      "text/plain": [
       "True"
      ]
     },
     "execution_count": 60,
     "metadata": {},
     "output_type": "execute_result"
    }
   ],
   "source": [
    "5 >= 5 # left 5 is grather or equal right 5"
   ]
  },
  {
   "cell_type": "code",
   "execution_count": 61,
   "id": "5c573e20",
   "metadata": {},
   "outputs": [
    {
     "data": {
      "text/plain": [
       "False"
      ]
     },
     "execution_count": 61,
     "metadata": {},
     "output_type": "execute_result"
    }
   ],
   "source": [
    "2 !=  2 # left two not equal to right two"
   ]
  },
  {
   "cell_type": "code",
   "execution_count": 62,
   "id": "e958f9f9",
   "metadata": {},
   "outputs": [
    {
     "data": {
      "text/plain": [
       "True"
      ]
     },
     "execution_count": 62,
     "metadata": {},
     "output_type": "execute_result"
    }
   ],
   "source": [
    "5 <= 5"
   ]
  },
  {
   "cell_type": "markdown",
   "id": "2e707b17",
   "metadata": {},
   "source": [
    "## Python Logical Operators\n",
    "* and = lazmi\n",
    "* or = optional"
   ]
  },
  {
   "cell_type": "markdown",
   "id": "34dff821",
   "metadata": {},
   "source": [
    "#### and:\n",
    "* if all values of compresion returns are True then it will return True\n"
   ]
  },
  {
   "cell_type": "code",
   "execution_count": 63,
   "id": "545040a9",
   "metadata": {},
   "outputs": [
    {
     "data": {
      "text/plain": [
       "True"
      ]
     },
     "execution_count": 63,
     "metadata": {},
     "output_type": "execute_result"
    }
   ],
   "source": [
    "True and True and True and True # all should be true"
   ]
  },
  {
   "cell_type": "code",
   "execution_count": 64,
   "id": "a042f241",
   "metadata": {},
   "outputs": [
    {
     "data": {
      "text/plain": [
       "False"
      ]
     },
     "execution_count": 64,
     "metadata": {},
     "output_type": "execute_result"
    }
   ],
   "source": [
    "True and False and True and True"
   ]
  },
  {
   "cell_type": "code",
   "execution_count": 65,
   "id": "a0844b67",
   "metadata": {},
   "outputs": [
    {
     "data": {
      "text/plain": [
       "False"
      ]
     },
     "execution_count": 65,
     "metadata": {},
     "output_type": "execute_result"
    }
   ],
   "source": [
    "False and False and False and True"
   ]
  },
  {
   "cell_type": "code",
   "execution_count": 70,
   "id": "ee2bace9",
   "metadata": {},
   "outputs": [
    {
     "name": "stdout",
     "output_type": "stream",
     "text": [
      "Please Enter User Name: Pakistan zinda bad\n",
      "Please Enter Your Passwordasdf3\n",
      "\n",
      "Pakistan zinda bad\n",
      "asdf3\n"
     ]
    }
   ],
   "source": [
    "user = input(\"Please Enter User Name: \") # take input from user runtime\n",
    "pas = input(\"Please Enter Your Password\")\n",
    "\n",
    "print()\n",
    "\n",
    "print(user)\n",
    "print(pas)"
   ]
  },
  {
   "cell_type": "code",
   "execution_count": 72,
   "id": "22e5caa9",
   "metadata": {},
   "outputs": [
    {
     "name": "stdout",
     "output_type": "stream",
     "text": [
      "Please Enter User Name: admin\n",
      "Please Enter Your Passwordadmin12\n"
     ]
    },
    {
     "data": {
      "text/plain": [
       "True"
      ]
     },
     "execution_count": 72,
     "metadata": {},
     "output_type": "execute_result"
    }
   ],
   "source": [
    "user = input(\"Please Enter User Name: \") \n",
    "pas = input(\"Please Enter Your Password\")\n",
    "\n",
    "user == \"admin\" and pas == \"admin12\"\n",
    "\n",
    "\n",
    "# user = \"admin\"\n",
    "# pas = \"admin12\"\n",
    "\n",
    "# user == \"admin\" and pas == \"admin12\"\n",
    "# \"admin\" == \"admin\" and 'admin12' == \"admin12\"\n",
    "# True and 'admin12' == \"admin12\"\n",
    "# True and True\n",
    "# True"
   ]
  },
  {
   "cell_type": "markdown",
   "id": "fa0ca1de",
   "metadata": {},
   "source": [
    "# OR\n",
    "if any of condition is true then it will return True"
   ]
  },
  {
   "cell_type": "code",
   "execution_count": 73,
   "id": "d884ac73",
   "metadata": {},
   "outputs": [
    {
     "data": {
      "text/plain": [
       "True"
      ]
     },
     "execution_count": 73,
     "metadata": {},
     "output_type": "execute_result"
    }
   ],
   "source": [
    "True or True or True or True # all should be true"
   ]
  },
  {
   "cell_type": "code",
   "execution_count": 74,
   "id": "7783f601",
   "metadata": {},
   "outputs": [
    {
     "data": {
      "text/plain": [
       "True"
      ]
     },
     "execution_count": 74,
     "metadata": {},
     "output_type": "execute_result"
    }
   ],
   "source": [
    "False or True or True or True # all should be true"
   ]
  },
  {
   "cell_type": "code",
   "execution_count": 75,
   "id": "1766a01d",
   "metadata": {},
   "outputs": [
    {
     "data": {
      "text/plain": [
       "True"
      ]
     },
     "execution_count": 75,
     "metadata": {},
     "output_type": "execute_result"
    }
   ],
   "source": [
    "False or False or False or True # all should be true"
   ]
  },
  {
   "cell_type": "markdown",
   "id": "e8c31931",
   "metadata": {},
   "source": [
    "# not"
   ]
  },
  {
   "cell_type": "code",
   "execution_count": 76,
   "id": "aa37e28a",
   "metadata": {},
   "outputs": [
    {
     "data": {
      "text/plain": [
       "True"
      ]
     },
     "execution_count": 76,
     "metadata": {},
     "output_type": "execute_result"
    }
   ],
   "source": [
    "user = \"admin\"\n",
    "not user == \"qasim\""
   ]
  },
  {
   "cell_type": "code",
   "execution_count": 79,
   "id": "d34b0641",
   "metadata": {},
   "outputs": [
    {
     "data": {
      "text/plain": [
       "False"
      ]
     },
     "execution_count": 79,
     "metadata": {},
     "output_type": "execute_result"
    }
   ],
   "source": [
    "user = \"qasim\"\n",
    "not user == \"qasim\""
   ]
  },
  {
   "cell_type": "markdown",
   "id": "da9ec96d",
   "metadata": {},
   "source": [
    "# Python Identity Operators\n"
   ]
  },
  {
   "cell_type": "code",
   "execution_count": 81,
   "id": "dc9f0979",
   "metadata": {},
   "outputs": [
    {
     "name": "stdout",
     "output_type": "stream",
     "text": [
      "7394784\n",
      "7394784\n"
     ]
    }
   ],
   "source": [
    "a = 5\n",
    "y = 5\n",
    "\n",
    "print(id(a))\n",
    "print(id(y))"
   ]
  },
  {
   "cell_type": "code",
   "execution_count": 82,
   "id": "5849a8f6",
   "metadata": {},
   "outputs": [
    {
     "data": {
      "text/plain": [
       "True"
      ]
     },
     "execution_count": 82,
     "metadata": {},
     "output_type": "execute_result"
    }
   ],
   "source": [
    "a == y # compaire value only"
   ]
  },
  {
   "cell_type": "code",
   "execution_count": 83,
   "id": "629e9157",
   "metadata": {},
   "outputs": [
    {
     "data": {
      "text/plain": [
       "True"
      ]
     },
     "execution_count": 83,
     "metadata": {},
     "output_type": "execute_result"
    }
   ],
   "source": [
    "a is y # compaire object is same or not"
   ]
  },
  {
   "cell_type": "markdown",
   "id": "99d0a134",
   "metadata": {},
   "source": [
    "# Python Membership Operators\n",
    "* in\n",
    "* not in"
   ]
  },
  {
   "cell_type": "code",
   "execution_count": 84,
   "id": "7ac83365",
   "metadata": {},
   "outputs": [
    {
     "data": {
      "text/plain": [
       "True"
      ]
     },
     "execution_count": 84,
     "metadata": {},
     "output_type": "execute_result"
    }
   ],
   "source": [
    "a = \"\"\"\n",
    "Pakistan zinda bad\n",
    "we love our country\n",
    "Hello world\n",
    "Muhammad Qasim\n",
    "\"\"\"\n",
    "\n",
    "\n",
    "\"Qasim\" in a # contain search"
   ]
  },
  {
   "cell_type": "code",
   "execution_count": 85,
   "id": "6aa4db2b",
   "metadata": {},
   "outputs": [
    {
     "data": {
      "text/plain": [
       "True"
      ]
     },
     "execution_count": 85,
     "metadata": {},
     "output_type": "execute_result"
    }
   ],
   "source": [
    "\"zinda\" in a"
   ]
  },
  {
   "cell_type": "code",
   "execution_count": 86,
   "id": "0ec56f4f",
   "metadata": {},
   "outputs": [
    {
     "data": {
      "text/plain": [
       "True"
      ]
     },
     "execution_count": 86,
     "metadata": {},
     "output_type": "execute_result"
    }
   ],
   "source": [
    "\"kistan\" in a"
   ]
  },
  {
   "cell_type": "code",
   "execution_count": 87,
   "id": "cb38fe7d",
   "metadata": {},
   "outputs": [
    {
     "data": {
      "text/plain": [
       "True"
      ]
     },
     "execution_count": 87,
     "metadata": {},
     "output_type": "execute_result"
    }
   ],
   "source": [
    "'mmad Q' in a"
   ]
  },
  {
   "cell_type": "code",
   "execution_count": 88,
   "id": "1e0bde1c",
   "metadata": {},
   "outputs": [
    {
     "data": {
      "text/plain": [
       "True"
      ]
     },
     "execution_count": 88,
     "metadata": {},
     "output_type": "execute_result"
    }
   ],
   "source": [
    "names = [\"qasim\",'hamza',\"junaind\",'rashid','konain']\n",
    "\n",
    "'rashid' in names"
   ]
  },
  {
   "cell_type": "code",
   "execution_count": 89,
   "id": "41b9e3a1",
   "metadata": {},
   "outputs": [
    {
     "data": {
      "text/plain": [
       "False"
      ]
     },
     "execution_count": 89,
     "metadata": {},
     "output_type": "execute_result"
    }
   ],
   "source": [
    "names = [\"qasim\",'hamza',\"junaind\",'rashid','konain']\n",
    "\n",
    "'rashid' not in names"
   ]
  },
  {
   "cell_type": "code",
   "execution_count": 90,
   "id": "890d55d3",
   "metadata": {},
   "outputs": [
    {
     "name": "stdout",
     "output_type": "stream",
     "text": [
      "7394784\n",
      "139782255449584\n"
     ]
    }
   ],
   "source": [
    "a = 5\n",
    "b = \"5\"\n",
    "\n",
    "print(id(a))\n",
    "print(id(b))\n",
    "# deep copy"
   ]
  },
  {
   "cell_type": "code",
   "execution_count": 91,
   "id": "f551c247",
   "metadata": {},
   "outputs": [
    {
     "name": "stdout",
     "output_type": "stream",
     "text": [
      "7394784\n",
      "7394784\n"
     ]
    }
   ],
   "source": [
    "a = 5\n",
    "b = int(\"5\")\n",
    "\n",
    "print(id(a))\n",
    "print(id(b))"
   ]
  },
  {
   "cell_type": "code",
   "execution_count": 93,
   "id": "e11b3357",
   "metadata": {},
   "outputs": [
    {
     "name": "stdout",
     "output_type": "stream",
     "text": [
      "7394784\n",
      "7394784\n"
     ]
    }
   ],
   "source": [
    "a = 5\n",
    "b = a\n",
    "\n",
    "print(id(a))\n",
    "print(id(b))"
   ]
  },
  {
   "cell_type": "code",
   "execution_count": 94,
   "id": "bc693894",
   "metadata": {},
   "outputs": [
    {
     "data": {
      "text/plain": [
       "True"
      ]
     },
     "execution_count": 94,
     "metadata": {},
     "output_type": "execute_result"
    }
   ],
   "source": [
    "a is b"
   ]
  },
  {
   "cell_type": "code",
   "execution_count": 95,
   "id": "b5b14269",
   "metadata": {},
   "outputs": [
    {
     "data": {
      "text/plain": [
       "False"
      ]
     },
     "execution_count": 95,
     "metadata": {},
     "output_type": "execute_result"
    }
   ],
   "source": [
    "a = 5\n",
    "b = \"5\"\n",
    "a is b"
   ]
  },
  {
   "cell_type": "code",
   "execution_count": null,
   "id": "45c7d765",
   "metadata": {},
   "outputs": [],
   "source": []
  }
 ],
 "metadata": {
  "kernelspec": {
   "display_name": "Python 3",
   "language": "python",
   "name": "python3"
  },
  "language_info": {
   "codemirror_mode": {
    "name": "ipython",
    "version": 3
   },
   "file_extension": ".py",
   "mimetype": "text/x-python",
   "name": "python",
   "nbconvert_exporter": "python",
   "pygments_lexer": "ipython3",
   "version": "3.7.15"
  }
 },
 "nbformat": 4,
 "nbformat_minor": 5
}
