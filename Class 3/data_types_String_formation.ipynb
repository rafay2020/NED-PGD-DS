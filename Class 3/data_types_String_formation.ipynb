{
 "cells": [
  {
   "cell_type": "markdown",
   "id": "a783bc52",
   "metadata": {},
   "source": [
    "function identification **word()**\n",
    "* print()\n",
    "* len()\n",
    "* dir()\n",
    "* type()\n",
    "\n",
    "### data type\n",
    "* int  1\n",
    "* float 2.0\n",
    "* string \"pakistan\"\n",
    "* string 'pakistan'\n",
    "* string ''' pakistan '''\n",
    "* string \"\"\" pakistan \"\"\"\n",
    "\n",
    "https://www.markdownguide.org/cheat-sheet/"
   ]
  },
  {
   "cell_type": "code",
   "execution_count": 1,
   "id": "25ae2e27",
   "metadata": {},
   "outputs": [
    {
     "name": "stdout",
     "output_type": "stream",
     "text": [
      "\n"
     ]
    }
   ],
   "source": [
    "print()"
   ]
  },
  {
   "cell_type": "code",
   "execution_count": 4,
   "id": "884a70fc",
   "metadata": {},
   "outputs": [
    {
     "name": "stdout",
     "output_type": "stream",
     "text": [
      "Pakistan\n"
     ]
    }
   ],
   "source": [
    "print(\"Pakistan\") #pass string data type value"
   ]
  },
  {
   "cell_type": "code",
   "execution_count": 5,
   "id": "e10f0710",
   "metadata": {},
   "outputs": [
    {
     "name": "stdout",
     "output_type": "stream",
     "text": [
      "pakistan\n"
     ]
    }
   ],
   "source": [
    "print('pakistan') #pass string data type value"
   ]
  },
  {
   "cell_type": "code",
   "execution_count": 6,
   "id": "4cd497d5",
   "metadata": {},
   "outputs": [
    {
     "name": "stdout",
     "output_type": "stream",
     "text": [
      "pakistan\n"
     ]
    }
   ],
   "source": [
    "print('''pakistan''')"
   ]
  },
  {
   "cell_type": "code",
   "execution_count": 7,
   "id": "185803a8",
   "metadata": {},
   "outputs": [
    {
     "name": "stdout",
     "output_type": "stream",
     "text": [
      "pakistan\n"
     ]
    }
   ],
   "source": [
    "print(\"\"\"pakistan\"\"\")"
   ]
  },
  {
   "cell_type": "code",
   "execution_count": 8,
   "id": "fc305f12",
   "metadata": {},
   "outputs": [
    {
     "name": "stdout",
     "output_type": "stream",
     "text": [
      "2\n"
     ]
    }
   ],
   "source": [
    "print(2)"
   ]
  },
  {
   "cell_type": "code",
   "execution_count": 9,
   "id": "b0a1fbe5",
   "metadata": {},
   "outputs": [
    {
     "name": "stdout",
     "output_type": "stream",
     "text": [
      "7.9\n"
     ]
    }
   ],
   "source": [
    "print(7.9)"
   ]
  },
  {
   "cell_type": "code",
   "execution_count": 11,
   "id": "639055fe",
   "metadata": {},
   "outputs": [
    {
     "name": "stdout",
     "output_type": "stream",
     "text": [
      "Pakistan China 20 7.2\n"
     ]
    }
   ],
   "source": [
    "print(\"Pakistan\",\"China\",20, 7.20)"
   ]
  },
  {
   "cell_type": "markdown",
   "id": "d38f1750",
   "metadata": {},
   "source": [
    "# Variable"
   ]
  },
  {
   "cell_type": "raw",
   "id": "378e5db2",
   "metadata": {},
   "source": [
    "variable_name = variable_value\n"
   ]
  },
  {
   "cell_type": "code",
   "execution_count": 13,
   "id": "e9988b53",
   "metadata": {},
   "outputs": [
    {
     "name": "stdout",
     "output_type": "stream",
     "text": [
      "200\n",
      "pakistan\n",
      "200\n",
      "We love our country\n",
      "200\n"
     ]
    }
   ],
   "source": [
    "print(200)\n",
    "print(\"pakistan\")\n",
    "print(200)\n",
    "print(\"We love our country\")\n",
    "print(200)"
   ]
  },
  {
   "cell_type": "code",
   "execution_count": 20,
   "id": "1c406770",
   "metadata": {},
   "outputs": [
    {
     "name": "stdout",
     "output_type": "stream",
     "text": [
      "200\n",
      "pakistan\n",
      "200\n",
      "We love our country\n",
      "200\n"
     ]
    }
   ],
   "source": [
    "print(200);print(\"pakistan\");print(200);print(\"We love our country\");print(200)"
   ]
  },
  {
   "cell_type": "code",
   "execution_count": 14,
   "id": "e1730b7c",
   "metadata": {},
   "outputs": [
    {
     "name": "stdout",
     "output_type": "stream",
     "text": [
      "300\n",
      "pakistan\n",
      "300\n",
      "We love our country\n",
      "300\n"
     ]
    }
   ],
   "source": [
    "print(300)\n",
    "print(\"pakistan\")\n",
    "print(300)\n",
    "print(\"We love our country\")\n",
    "print(300)"
   ]
  },
  {
   "cell_type": "code",
   "execution_count": 16,
   "id": "539f5e76",
   "metadata": {},
   "outputs": [
    {
     "name": "stdout",
     "output_type": "stream",
     "text": [
      "500\n",
      "pakistan\n",
      "500\n",
      "We love our country\n",
      "500\n"
     ]
    }
   ],
   "source": [
    "# variable_name = variable_value\n",
    "a = 500\n",
    "print(a)\n",
    "print(\"pakistan\")\n",
    "print(a)\n",
    "print(\"We love our country\")\n",
    "print(a)"
   ]
  },
  {
   "cell_type": "code",
   "execution_count": 21,
   "id": "b9b9f173",
   "metadata": {},
   "outputs": [
    {
     "name": "stdout",
     "output_type": "stream",
     "text": [
      "500 pakistan 500 We love our country 500\n"
     ]
    }
   ],
   "source": [
    "# variable_name = variable_value\n",
    "a = 500\n",
    "\n",
    "print(a,\"pakistan\",a,\"We love our country\",a)"
   ]
  },
  {
   "cell_type": "code",
   "execution_count": 26,
   "id": "04d44a96",
   "metadata": {},
   "outputs": [
    {
     "name": "stdout",
     "output_type": "stream",
     "text": [
      "500\n",
      "pakistan\n",
      "500\n",
      "We love our country\n",
      "500\n"
     ]
    }
   ],
   "source": [
    "# variable_name = variable_value\n",
    "a = 500\n",
    "\n",
    "print(a,\"pakistan\",a,\"We love our country\",a, sep='\\n')"
   ]
  },
  {
   "cell_type": "code",
   "execution_count": 27,
   "id": "1704b18d",
   "metadata": {},
   "outputs": [
    {
     "name": "stdout",
     "output_type": "stream",
     "text": [
      "NED Student Idientity Card\n",
      "Name: Muhammad Qasim\n",
      "Father's Name Muhammad Aslam\n",
      "Weight 84\n"
     ]
    }
   ],
   "source": [
    "name = \"Muhammad Qasim\"\n",
    "father_name = \"Muhammad Aslam\"\n",
    "weight = 84\n",
    "\n",
    "\n",
    "\n",
    "print(\"NED Student Idientity Card\")\n",
    "print(\"Name:\",name)\n",
    "print(\"Father's Name\", father_name)\n",
    "print(\"Weight\",weight)"
   ]
  },
  {
   "cell_type": "code",
   "execution_count": 30,
   "id": "5eaa6447",
   "metadata": {},
   "outputs": [
    {
     "name": "stdout",
     "output_type": "stream",
     "text": [
      "Muhammad Qasim\n",
      "<class 'str'>\n",
      "139757902105712\n"
     ]
    }
   ],
   "source": [
    "name = \"Muhammad Qasim\"\n",
    "print(name) # show variable value\n",
    "print(type(name)) # show variable data type class\n",
    "print(id(name)) # show memory address"
   ]
  },
  {
   "cell_type": "code",
   "execution_count": null,
   "id": "23ddfecf",
   "metadata": {},
   "outputs": [],
   "source": []
  },
  {
   "cell_type": "code",
   "execution_count": 31,
   "id": "b8a276f7",
   "metadata": {},
   "outputs": [
    {
     "name": "stdout",
     "output_type": "stream",
     "text": [
      "84\n",
      "<class 'int'>\n",
      "7397312\n"
     ]
    }
   ],
   "source": [
    "weight = 84\n",
    "print(weight) # show variable value\n",
    "print(type(weight)) # show variable data type class\n",
    "print(id(weight)) # show memory address"
   ]
  },
  {
   "cell_type": "code",
   "execution_count": 32,
   "id": "805241ab",
   "metadata": {},
   "outputs": [
    {
     "name": "stdout",
     "output_type": "stream",
     "text": [
      "84.5\n",
      "<class 'float'>\n",
      "139757924995504\n"
     ]
    }
   ],
   "source": [
    "weight = 84.5\n",
    "print(weight) # show variable value\n",
    "print(type(weight)) # show variable data type class\n",
    "print(id(weight)) # show memory address"
   ]
  },
  {
   "cell_type": "code",
   "execution_count": 33,
   "id": "e4b4760e",
   "metadata": {},
   "outputs": [
    {
     "name": "stdout",
     "output_type": "stream",
     "text": [
      "True\n",
      "<class 'bool'>\n",
      "7271584\n"
     ]
    }
   ],
   "source": [
    "a = True\n",
    "print(a) # show variable value\n",
    "print(type(a)) # show variable data type class\n",
    "print(id(a)) # show memory address"
   ]
  },
  {
   "cell_type": "code",
   "execution_count": 34,
   "id": "1b3d621b",
   "metadata": {},
   "outputs": [
    {
     "name": "stdout",
     "output_type": "stream",
     "text": [
      "False\n",
      "<class 'bool'>\n",
      "7271552\n"
     ]
    }
   ],
   "source": [
    "a = False\n",
    "print(a) # show variable value\n",
    "print(type(a)) # show variable data type class\n",
    "print(id(a)) # show memory address"
   ]
  },
  {
   "cell_type": "code",
   "execution_count": 35,
   "id": "19cfaf38",
   "metadata": {},
   "outputs": [
    {
     "name": "stdout",
     "output_type": "stream",
     "text": [
      "[1, 2, 3]\n",
      "<class 'list'>\n",
      "139757910550560\n"
     ]
    }
   ],
   "source": [
    "a = [1,2,3]\n",
    "print(a) # show variable value\n",
    "print(type(a)) # show variable data type class\n",
    "print(id(a)) # show memory address"
   ]
  },
  {
   "cell_type": "code",
   "execution_count": 36,
   "id": "efcdcbe5",
   "metadata": {},
   "outputs": [
    {
     "name": "stdout",
     "output_type": "stream",
     "text": [
      "(1, 2, 3)\n",
      "<class 'tuple'>\n",
      "139757909488576\n"
     ]
    }
   ],
   "source": [
    "a = (1,2,3)\n",
    "print(a) # show variable value\n",
    "print(type(a)) # show variable data type class\n",
    "print(id(a)) # show memory address"
   ]
  },
  {
   "cell_type": "code",
   "execution_count": 37,
   "id": "4faab763",
   "metadata": {},
   "outputs": [
    {
     "name": "stdout",
     "output_type": "stream",
     "text": [
      "{'name': 'qasim'}\n",
      "<class 'dict'>\n",
      "139757909542144\n"
     ]
    }
   ],
   "source": [
    "a = {'name':'qasim'}\n",
    "print(a) # show variable value\n",
    "print(type(a)) # show variable data type class\n",
    "print(id(a)) # show memory address"
   ]
  },
  {
   "cell_type": "markdown",
   "id": "6b09468f",
   "metadata": {},
   "source": [
    "# String Data types with variable and text formation"
   ]
  },
  {
   "cell_type": "code",
   "execution_count": 40,
   "id": "2efc066f",
   "metadata": {},
   "outputs": [
    {
     "name": "stdout",
     "output_type": "stream",
     "text": [
      "<class 'str'>\n",
      "Pakistan zinda bad\n"
     ]
    }
   ],
   "source": [
    "a = \"Pakistan zinda bad\" # single line string\n",
    "\n",
    "\n",
    "print(type(a))\n",
    "print(a)"
   ]
  },
  {
   "cell_type": "code",
   "execution_count": 41,
   "id": "01734c7c",
   "metadata": {},
   "outputs": [
    {
     "name": "stdout",
     "output_type": "stream",
     "text": [
      "<class 'str'>\n",
      "Pakistan zinda bad\n"
     ]
    }
   ],
   "source": [
    "a = 'Pakistan zinda bad' # signle line string\n",
    "\n",
    "\n",
    "print(type(a))\n",
    "print(a)"
   ]
  },
  {
   "cell_type": "code",
   "execution_count": 42,
   "id": "7103dc17",
   "metadata": {},
   "outputs": [
    {
     "name": "stdout",
     "output_type": "stream",
     "text": [
      "<class 'str'>\n",
      "\n",
      "hello world\n",
      "Pakistan zinda bad\n",
      "We love our country!\n",
      "\n"
     ]
    }
   ],
   "source": [
    "# multiline string\n",
    "a = \"\"\"\n",
    "hello world\n",
    "Pakistan zinda bad\n",
    "We love our country!\n",
    "\"\"\"\n",
    "\n",
    "print(type(a))\n",
    "print(a)"
   ]
  },
  {
   "cell_type": "code",
   "execution_count": 43,
   "id": "a5ba0131",
   "metadata": {},
   "outputs": [
    {
     "ename": "SyntaxError",
     "evalue": "invalid syntax (<ipython-input-43-f38542d16676>, line 1)",
     "output_type": "error",
     "traceback": [
      "\u001b[0;36m  File \u001b[0;32m\"<ipython-input-43-f38542d16676>\"\u001b[0;36m, line \u001b[0;32m1\u001b[0m\n\u001b[0;31m    a = 'Father's Name\u001b[0m\n\u001b[0m                ^\u001b[0m\n\u001b[0;31mSyntaxError\u001b[0m\u001b[0;31m:\u001b[0m invalid syntax\n"
     ]
    }
   ],
   "source": [
    "a = 'Father's Name'"
   ]
  },
  {
   "cell_type": "code",
   "execution_count": 45,
   "id": "05deddec",
   "metadata": {},
   "outputs": [
    {
     "name": "stdout",
     "output_type": "stream",
     "text": [
      "<class 'str'>\n",
      "Father's Name\n"
     ]
    }
   ],
   "source": [
    "a = \"Father's Name\"\n",
    "print(type(a))\n",
    "print(a)"
   ]
  },
  {
   "cell_type": "code",
   "execution_count": 46,
   "id": "c42d43c9",
   "metadata": {},
   "outputs": [
    {
     "name": "stdout",
     "output_type": "stream",
     "text": [
      "<class 'str'>\n",
      "Father\"s Name\n"
     ]
    }
   ],
   "source": [
    "a = 'Father\"s Name'\n",
    "print(type(a))\n",
    "print(a)"
   ]
  },
  {
   "cell_type": "code",
   "execution_count": 47,
   "id": "1b95f4d7",
   "metadata": {},
   "outputs": [
    {
     "name": "stdout",
     "output_type": "stream",
     "text": [
      "Father's Name\n",
      "Father\"s Name\n"
     ]
    }
   ],
   "source": [
    "a = 'Father\\'s Name' # convert ' special charater to normal character\n",
    "b = \"Father\\\"s Name\"\n",
    "\n",
    "print(a)\n",
    "print(b)"
   ]
  },
  {
   "cell_type": "code",
   "execution_count": 53,
   "id": "1a4f8729",
   "metadata": {},
   "outputs": [
    {
     "name": "stdout",
     "output_type": "stream",
     "text": [
      "<class 'str'>\n",
      "NED University\n",
      "Student Name:Muhammad Qasim\n",
      "Father's Name:Muhammad Aslam\n"
     ]
    }
   ],
   "source": [
    "id_card = \"NED University\\nStudent Name:Muhammad Qasim\\nFather's Name:Muhammad Aslam\"\n",
    "\n",
    "print(type(id_card))\n",
    "print(id_card)"
   ]
  },
  {
   "cell_type": "code",
   "execution_count": 54,
   "id": "57e5cd62",
   "metadata": {},
   "outputs": [
    {
     "name": "stdout",
     "output_type": "stream",
     "text": [
      "<class 'str'>\n",
      "NED University\n",
      "Student Name:Muhammad Qasim\n",
      "Father's Name:Muhammad Aslam\n"
     ]
    }
   ],
   "source": [
    "id_card = \"\"\"NED University\n",
    "Student Name:Muhammad Qasim\n",
    "Father's Name:Muhammad Aslam\"\"\"\n",
    "\n",
    "print(type(id_card))\n",
    "print(id_card)"
   ]
  },
  {
   "cell_type": "code",
   "execution_count": 55,
   "id": "484ad893",
   "metadata": {},
   "outputs": [
    {
     "name": "stdout",
     "output_type": "stream",
     "text": [
      "<class 'str'>\n",
      "NED University\n",
      "Student Name:Muhammad Qasim\n",
      "Father's Name:Muhammad Aslam\n"
     ]
    }
   ],
   "source": [
    "id_card = '''NED University\n",
    "Student Name:Muhammad Qasim\n",
    "Father's Name:Muhammad Aslam'''\n",
    "\n",
    "print(type(id_card))\n",
    "print(id_card)"
   ]
  },
  {
   "cell_type": "code",
   "execution_count": 56,
   "id": "e8cedf25",
   "metadata": {},
   "outputs": [
    {
     "ename": "SyntaxError",
     "evalue": "EOL while scanning string literal (<ipython-input-56-49cc94b7d0ad>, line 1)",
     "output_type": "error",
     "traceback": [
      "\u001b[0;36m  File \u001b[0;32m\"<ipython-input-56-49cc94b7d0ad>\"\u001b[0;36m, line \u001b[0;32m1\u001b[0m\n\u001b[0;31m    id_card = 'NED University\u001b[0m\n\u001b[0m                             ^\u001b[0m\n\u001b[0;31mSyntaxError\u001b[0m\u001b[0;31m:\u001b[0m EOL while scanning string literal\n"
     ]
    }
   ],
   "source": [
    "id_card = 'NED University\n",
    "Student Name:Muhammad Qasim\n",
    "Father's Name:Muhammad Aslam'\n",
    "\n",
    "print(type(id_card))\n",
    "print(id_card)"
   ]
  },
  {
   "cell_type": "markdown",
   "id": "7c994382",
   "metadata": {},
   "source": [
    "### Concatination"
   ]
  },
  {
   "cell_type": "code",
   "execution_count": 57,
   "id": "5a87019f",
   "metadata": {},
   "outputs": [
    {
     "name": "stdout",
     "output_type": "stream",
     "text": [
      "MuhammadQasim\n"
     ]
    }
   ],
   "source": [
    "fname = \"Muhammad\"\n",
    "lname = \"Qasim\"\n",
    "\n",
    "full_name = fname + lname\n",
    "print(full_name)"
   ]
  },
  {
   "cell_type": "code",
   "execution_count": 58,
   "id": "9eb8b2c0",
   "metadata": {},
   "outputs": [
    {
     "name": "stdout",
     "output_type": "stream",
     "text": [
      "Muhammad Qasim\n"
     ]
    }
   ],
   "source": [
    "fname = \"Muhammad\"\n",
    "lname = \"Qasim\"\n",
    "\n",
    "full_name = fname +\" \"+ lname\n",
    "print(full_name)"
   ]
  },
  {
   "cell_type": "code",
   "execution_count": 62,
   "id": "3ec74947",
   "metadata": {},
   "outputs": [
    {
     "ename": "TypeError",
     "evalue": "can only concatenate str (not \"int\") to str",
     "output_type": "error",
     "traceback": [
      "\u001b[0;31m----------------------------------------------------------------------\u001b[0m",
      "\u001b[0;31mTypeError\u001b[0m                            Traceback (most recent call last)",
      "\u001b[0;32m<ipython-input-62-2b310e322599>\u001b[0m in \u001b[0;36m<module>\u001b[0;34m\u001b[0m\n\u001b[1;32m      2\u001b[0m \u001b[0mname\u001b[0m \u001b[0;34m=\u001b[0m \u001b[0;34m\"Qasim\"\u001b[0m\u001b[0;34m\u001b[0m\u001b[0;34m\u001b[0m\u001b[0m\n\u001b[1;32m      3\u001b[0m \u001b[0;34m\u001b[0m\u001b[0m\n\u001b[0;32m----> 4\u001b[0;31m \u001b[0mresult\u001b[0m \u001b[0;34m=\u001b[0m \u001b[0;34m\"Student Name: \"\u001b[0m\u001b[0;34m+\u001b[0m\u001b[0mname\u001b[0m\u001b[0;34m+\u001b[0m\u001b[0;34m\", \"\u001b[0m\u001b[0;34m+\u001b[0m\u001b[0mage\u001b[0m\u001b[0;34m\u001b[0m\u001b[0;34m\u001b[0m\u001b[0m\n\u001b[0m\u001b[1;32m      5\u001b[0m \u001b[0;34m\u001b[0m\u001b[0m\n\u001b[1;32m      6\u001b[0m \u001b[0;34m\u001b[0m\u001b[0m\n",
      "\u001b[0;31mTypeError\u001b[0m: can only concatenate str (not \"int\") to str"
     ]
    }
   ],
   "source": [
    "age = 30\n",
    "name = \"Qasim\"\n",
    "\n",
    "result = \"Student Name: \"+name+\", \"+age \n",
    "\n",
    "\n",
    "print(result)"
   ]
  },
  {
   "cell_type": "code",
   "execution_count": 67,
   "id": "bc749875",
   "metadata": {},
   "outputs": [
    {
     "name": "stdout",
     "output_type": "stream",
     "text": [
      "Student Name: Qasim, 30\n"
     ]
    }
   ],
   "source": [
    "age = 30\n",
    "name = \"Qasim\"\n",
    "\n",
    "result = \"Student Name: \"+name+\", \"+str(age)\n",
    "\n",
    "\n",
    "print(result)"
   ]
  },
  {
   "cell_type": "code",
   "execution_count": 63,
   "id": "3a576fb8",
   "metadata": {},
   "outputs": [
    {
     "data": {
      "text/plain": [
       "'11'"
      ]
     },
     "execution_count": 63,
     "metadata": {},
     "output_type": "execute_result"
    }
   ],
   "source": [
    "\"1\" + \"1\""
   ]
  },
  {
   "cell_type": "code",
   "execution_count": 64,
   "id": "c9223019",
   "metadata": {},
   "outputs": [
    {
     "data": {
      "text/plain": [
       "2"
      ]
     },
     "execution_count": 64,
     "metadata": {},
     "output_type": "execute_result"
    }
   ],
   "source": [
    "1 + 1"
   ]
  },
  {
   "cell_type": "code",
   "execution_count": 65,
   "id": "a8c364da",
   "metadata": {},
   "outputs": [
    {
     "ename": "TypeError",
     "evalue": "can only concatenate str (not \"int\") to str",
     "output_type": "error",
     "traceback": [
      "\u001b[0;31m----------------------------------------------------------------------\u001b[0m",
      "\u001b[0;31mTypeError\u001b[0m                            Traceback (most recent call last)",
      "\u001b[0;32m<ipython-input-65-ec358fc6499a>\u001b[0m in \u001b[0;36m<module>\u001b[0;34m\u001b[0m\n\u001b[0;32m----> 1\u001b[0;31m \u001b[0;34m\"1\"\u001b[0m \u001b[0;34m+\u001b[0m \u001b[0;36m1\u001b[0m\u001b[0;34m\u001b[0m\u001b[0;34m\u001b[0m\u001b[0m\n\u001b[0m",
      "\u001b[0;31mTypeError\u001b[0m: can only concatenate str (not \"int\") to str"
     ]
    }
   ],
   "source": [
    "\"1\" + 1"
   ]
  },
  {
   "cell_type": "code",
   "execution_count": 66,
   "id": "846cac2d",
   "metadata": {},
   "outputs": [
    {
     "data": {
      "text/plain": [
       "'11'"
      ]
     },
     "execution_count": 66,
     "metadata": {},
     "output_type": "execute_result"
    }
   ],
   "source": [
    "\"1\" + str(1)"
   ]
  },
  {
   "cell_type": "code",
   "execution_count": 68,
   "id": "957f8975",
   "metadata": {},
   "outputs": [
    {
     "name": "stdout",
     "output_type": "stream",
     "text": [
      "<class 'int'>\n"
     ]
    }
   ],
   "source": [
    "print(type(1))"
   ]
  },
  {
   "cell_type": "code",
   "execution_count": 69,
   "id": "b835548d",
   "metadata": {},
   "outputs": [
    {
     "name": "stdout",
     "output_type": "stream",
     "text": [
      "<class 'str'>\n"
     ]
    }
   ],
   "source": [
    "print(type(str(1))) # type casting = Number to string"
   ]
  },
  {
   "cell_type": "code",
   "execution_count": 73,
   "id": "37ec9082",
   "metadata": {},
   "outputs": [
    {
     "ename": "TypeError",
     "evalue": "can only concatenate str (not \"int\") to str",
     "output_type": "error",
     "traceback": [
      "\u001b[0;31m----------------------------------------------------------------------\u001b[0m",
      "\u001b[0;31mTypeError\u001b[0m                            Traceback (most recent call last)",
      "\u001b[0;32m<ipython-input-73-77da08f14e76>\u001b[0m in \u001b[0;36m<module>\u001b[0;34m\u001b[0m\n\u001b[1;32m      4\u001b[0m \u001b[0mage\u001b[0m \u001b[0;34m=\u001b[0m \u001b[0;36m30\u001b[0m\u001b[0;34m\u001b[0m\u001b[0;34m\u001b[0m\u001b[0m\n\u001b[1;32m      5\u001b[0m \u001b[0;34m\u001b[0m\u001b[0m\n\u001b[0;32m----> 6\u001b[0;31m \u001b[0mid_card\u001b[0m \u001b[0;34m=\u001b[0m \u001b[0;34m\"NED University\\nStudent Name: \"\u001b[0m\u001b[0;34m+\u001b[0m\u001b[0mfname\u001b[0m\u001b[0;34m+\u001b[0m\u001b[0;34m\" \"\u001b[0m\u001b[0;34m+\u001b[0m\u001b[0mlname\u001b[0m\u001b[0;34m+\u001b[0m\u001b[0;34m\"\\nAge: \"\u001b[0m\u001b[0;34m+\u001b[0m\u001b[0mage\u001b[0m\u001b[0;34m\u001b[0m\u001b[0;34m\u001b[0m\u001b[0m\n\u001b[0m\u001b[1;32m      7\u001b[0m \u001b[0;34m\u001b[0m\u001b[0m\n\u001b[1;32m      8\u001b[0m \u001b[0mprint\u001b[0m\u001b[0;34m(\u001b[0m\u001b[0mid_card\u001b[0m\u001b[0;34m)\u001b[0m\u001b[0;34m\u001b[0m\u001b[0;34m\u001b[0m\u001b[0m\n",
      "\u001b[0;31mTypeError\u001b[0m: can only concatenate str (not \"int\") to str"
     ]
    }
   ],
   "source": [
    "fname = \"Muhammad\"\n",
    "lname = \"Qasim\"\n",
    "weight = 84\n",
    "age = 30\n",
    "\n",
    "id_card = \"NED University\\nStudent Name: \"+fname+\" \"+lname+\"\\nAge: \"+age\n",
    "\n",
    "print(id_card)"
   ]
  },
  {
   "cell_type": "code",
   "execution_count": 75,
   "id": "11f5634b",
   "metadata": {},
   "outputs": [
    {
     "name": "stdout",
     "output_type": "stream",
     "text": [
      "NED University\n",
      "Student Name: Muhammad Qasim\n",
      "Age: 30\n"
     ]
    }
   ],
   "source": [
    "fname = \"Muhammad\"\n",
    "lname = \"Qasim\"\n",
    "age = 30\n",
    "\n",
    "id_card = \"NED University\\nStudent Name: \"+fname+\" \"+lname+\"\\nAge: \"+str(age)\n",
    "\n",
    "print(id_card)"
   ]
  },
  {
   "cell_type": "code",
   "execution_count": null,
   "id": "bdc6cde6",
   "metadata": {},
   "outputs": [],
   "source": []
  }
 ],
 "metadata": {
  "kernelspec": {
   "display_name": "Python 3",
   "language": "python",
   "name": "python3"
  },
  "language_info": {
   "codemirror_mode": {
    "name": "ipython",
    "version": 3
   },
   "file_extension": ".py",
   "mimetype": "text/x-python",
   "name": "python",
   "nbconvert_exporter": "python",
   "pygments_lexer": "ipython3",
   "version": "3.7.15"
  }
 },
 "nbformat": 4,
 "nbformat_minor": 5
}
