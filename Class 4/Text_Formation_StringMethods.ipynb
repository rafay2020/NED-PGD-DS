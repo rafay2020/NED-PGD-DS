{
 "cells": [
  {
   "cell_type": "code",
   "execution_count": 2,
   "id": "686a9bab",
   "metadata": {},
   "outputs": [
    {
     "name": "stdout",
     "output_type": "stream",
     "text": [
      "The Zen of Python, by Tim Peters\n",
      "\n",
      "Beautiful is better than ugly.\n",
      "Explicit is better than implicit.\n",
      "Simple is better than complex.\n",
      "Complex is better than complicated.\n",
      "Flat is better than nested.\n",
      "Sparse is better than dense.\n",
      "Readability counts.\n",
      "Special cases aren't special enough to break the rules.\n",
      "Although practicality beats purity.\n",
      "Errors should never pass silently.\n",
      "Unless explicitly silenced.\n",
      "In the face of ambiguity, refuse the temptation to guess.\n",
      "There should be one-- and preferably only one --obvious way to do it.\n",
      "Although that way may not be obvious at first unless you're Dutch.\n",
      "Now is better than never.\n",
      "Although never is often better than *right* now.\n",
      "If the implementation is hard to explain, it's a bad idea.\n",
      "If the implementation is easy to explain, it may be a good idea.\n",
      "Namespaces are one honking great idea -- let's do more of those!\n"
     ]
    }
   ],
   "source": [
    "import this"
   ]
  },
  {
   "cell_type": "markdown",
   "id": "758612cf",
   "metadata": {},
   "source": [
    "https://peps.python.org/pep-0020/"
   ]
  },
  {
   "cell_type": "code",
   "execution_count": 1,
   "id": "f3be0ea4",
   "metadata": {},
   "outputs": [
    {
     "ename": "SyntaxError",
     "evalue": "invalid syntax (2257675578.py, line 1)",
     "output_type": "error",
     "traceback": [
      "\u001b[1;36m  File \u001b[1;32m\"C:\\Users\\Dr Najeed\\AppData\\Local\\Temp\\ipykernel_16072\\2257675578.py\"\u001b[1;36m, line \u001b[1;32m1\u001b[0m\n\u001b[1;33m    student name = \"Ali\"\u001b[0m\n\u001b[1;37m            ^\u001b[0m\n\u001b[1;31mSyntaxError\u001b[0m\u001b[1;31m:\u001b[0m invalid syntax\n"
     ]
    }
   ],
   "source": [
    "student name = \"Ali\"\n"
   ]
  },
  {
   "cell_type": "code",
   "execution_count": 4,
   "id": "af0bd99d",
   "metadata": {},
   "outputs": [
    {
     "name": "stdout",
     "output_type": "stream",
     "text": [
      "Ali\n"
     ]
    }
   ],
   "source": [
    "student_name = \"Ali\"\n",
    "print(student_name)"
   ]
  },
  {
   "cell_type": "code",
   "execution_count": 11,
   "id": "0ed3f4c9",
   "metadata": {},
   "outputs": [
    {
     "name": "stdout",
     "output_type": "stream",
     "text": [
      "\n",
      "NED PGD \n",
      "Batch: 04\n",
      "Student: Ali Father’s Name: Hamza\n",
      "Age: 30 Gender: Male Class Timing: 5:15 to 7:15\n"
     ]
    }
   ],
   "source": [
    "student_name = \"Ali\"\n",
    "studnet_father_name = \"Hamza\"\n",
    "batch = '04'\n",
    "university_name = \"NED\"\n",
    "age = 30\n",
    "gender = \"Male\"\n",
    "date_of_admission = \"2022-01-16\"\n",
    "class_timing = '5:15 to 7:15'\n",
    "\n",
    "\n",
    "student_card = \"\"\"\n",
    "NED PGD \n",
    "Batch: \"\"\"+str(batch)+\"\"\"\n",
    "Student: \"\"\"+str(student_name)+\"\"\" Father’s Name: \"\"\"+str(studnet_father_name)+\"\"\"\n",
    "Age: \"\"\"+str(age)+\"\"\" Gender: \"\"\"+str(gender)+\"\"\" Class Timing: \"\"\"+str(class_timing)\n",
    "\n",
    "print(student_card)\n"
   ]
  },
  {
   "cell_type": "code",
   "execution_count": 8,
   "id": "9e0e94e0",
   "metadata": {},
   "outputs": [
    {
     "data": {
      "text/plain": [
       "12"
      ]
     },
     "execution_count": 8,
     "metadata": {},
     "output_type": "execute_result"
    }
   ],
   "source": [
    "5 + 7"
   ]
  },
  {
   "cell_type": "code",
   "execution_count": 9,
   "id": "9041b603",
   "metadata": {},
   "outputs": [
    {
     "data": {
      "text/plain": [
       "'57'"
      ]
     },
     "execution_count": 9,
     "metadata": {},
     "output_type": "execute_result"
    }
   ],
   "source": [
    "\"5\" + \"7\""
   ]
  },
  {
   "cell_type": "code",
   "execution_count": 10,
   "id": "b5d5293f",
   "metadata": {},
   "outputs": [
    {
     "data": {
      "text/plain": [
       "'57'"
      ]
     },
     "execution_count": 10,
     "metadata": {},
     "output_type": "execute_result"
    }
   ],
   "source": [
    "'5' + '7'"
   ]
  },
  {
   "cell_type": "code",
   "execution_count": 16,
   "id": "137adc91",
   "metadata": {},
   "outputs": [
    {
     "name": "stdout",
     "output_type": "stream",
     "text": [
      "HeLLo WoRLd!\n",
      "Hello world!\n",
      "hello world!\n",
      "Hello World!\n"
     ]
    }
   ],
   "source": [
    "a = \"HeLLo WoRLd!\"\n",
    "print(a)\n",
    "print(a.capitalize())\n",
    "print(a.lower())\n",
    "print(a.title())"
   ]
  },
  {
   "cell_type": "markdown",
   "id": "2decf436",
   "metadata": {},
   "source": [
    "## formation with .format string method (sequance wise)"
   ]
  },
  {
   "cell_type": "code",
   "execution_count": 20,
   "id": "be31d23f",
   "metadata": {},
   "outputs": [
    {
     "name": "stdout",
     "output_type": "stream",
     "text": [
      "\n",
      "NED PGD \n",
      "Batch: 04\n",
      "Student: Ali Father’s Name: Hamza\n",
      "Age: 30 Gender: Male Class Timing: 5:15 to 7:15\n",
      "\n"
     ]
    }
   ],
   "source": [
    "student_name = \"Ali\"\n",
    "studnet_father_name = \"Hamza\"\n",
    "batch = '04'\n",
    "university_name = \"NED\"\n",
    "age = 30\n",
    "gender = \"Male\"\n",
    "date_of_admission = \"2022-01-16\"\n",
    "class_timing = '5:15 to 7:15'\n",
    "\n",
    "\n",
    "card = \"\"\"\n",
    "NED PGD \n",
    "Batch: {}\n",
    "Student: {} Father’s Name: {}\n",
    "Age: {} Gender: {} Class Timing: {}\n",
    "\"\"\".format(batch,student_name,studnet_father_name,age,gender,class_timing)\n",
    "\n",
    "print(card)"
   ]
  },
  {
   "cell_type": "code",
   "execution_count": 24,
   "id": "9da4a0cc",
   "metadata": {},
   "outputs": [
    {
     "name": "stdout",
     "output_type": "stream",
     "text": [
      "\n",
      "NED PGD \n",
      "Batch: Ali\n",
      "Student: Hamza Father’s Name: 04\n",
      "Age: NED Gender: 30 Class Timing: Male\n",
      "\n"
     ]
    }
   ],
   "source": [
    "student_name = \"Ali\"\n",
    "studnet_father_name = \"Hamza\"\n",
    "batch = '04'\n",
    "university_name = \"NED\"\n",
    "age = 30\n",
    "gender = \"Male\"\n",
    "date_of_admission = \"2022-01-16\"\n",
    "class_timing = '5:15 to 7:15'\n",
    "\n",
    "\n",
    "card = \"\"\"\n",
    "NED PGD \n",
    "Batch: {}\n",
    "Student: {} Father’s Name: {}\n",
    "Age: {} Gender: {} Class Timing: {}\n",
    "\"\"\".format(student_name,studnet_father_name,batch,university_name,age,gender,date_of_admission,class_timing)\n",
    "#               0      ,       1           ,  2  ,  3            ,4  , 5    , 6               ,7   \n",
    "\n",
    "print(card)"
   ]
  },
  {
   "cell_type": "markdown",
   "id": "c6bfca93",
   "metadata": {},
   "source": [
    "## formation with .format string method (sequance wise)"
   ]
  },
  {
   "cell_type": "code",
   "execution_count": 21,
   "id": "1bfb1bd0",
   "metadata": {},
   "outputs": [
    {
     "name": "stdout",
     "output_type": "stream",
     "text": [
      "\n",
      "NED PGD \n",
      "Batch: 04\n",
      "Student: Ali Father’s Name: Hamza\n",
      "Age: 30 Gender: Male Class Timing: 5:15 to 7:15\n",
      "\n"
     ]
    }
   ],
   "source": [
    "student_name = \"Ali\"\n",
    "studnet_father_name = \"Hamza\"\n",
    "batch = '04'\n",
    "university_name = \"NED\"\n",
    "age = 30\n",
    "gender = \"Male\"\n",
    "date_of_admission = \"2022-01-16\"\n",
    "class_timing = '5:15 to 7:15'\n",
    "\n",
    "\n",
    "card = \"\"\"\n",
    "NED PGD \n",
    "Batch: {2}\n",
    "Student: {0} Father’s Name: {1}\n",
    "Age: {4} Gender: {5} Class Timing: {7}\n",
    "\"\"\".format(student_name,studnet_father_name,batch,university_name,age,gender,date_of_admission,class_timing)\n",
    "#               0      ,       1           ,  2  ,  3            ,4  , 5    , 6               ,7   \n",
    "print(card)"
   ]
  },
  {
   "cell_type": "raw",
   "id": "281479ab",
   "metadata": {},
   "source": [
    "# formation with\n",
    "\n",
    "python 2.7.1\n",
    "print \"Pakistan\"\n",
    "#      core_structure.new_features.bugs_fixing\n",
    "python 3.10.1\n",
    "print(\"Pakistan\")"
   ]
  },
  {
   "cell_type": "markdown",
   "id": "c8092bc5",
   "metadata": {},
   "source": [
    "## f\"pakistan {variable_name}\""
   ]
  },
  {
   "cell_type": "code",
   "execution_count": 26,
   "id": "2875fc8c",
   "metadata": {},
   "outputs": [
    {
     "name": "stdout",
     "output_type": "stream",
     "text": [
      "\n",
      "NED PGD \n",
      "Batch: 04\n",
      "Student: Ali Father’s Name: Hamza\n",
      "Age: 30 Gender: Male Class Timing: 5:15 to 7:15\n",
      "\n"
     ]
    }
   ],
   "source": [
    "student_name = \"Ali\"\n",
    "studnet_father_name = \"Hamza\"\n",
    "batch = '04'\n",
    "university_name = \"NED\"\n",
    "age = 30\n",
    "gender = \"Male\"\n",
    "date_of_admission = \"2022-01-16\"\n",
    "class_timing = '5:15 to 7:15'\n",
    "\n",
    "card = f\"\"\"\n",
    "NED PGD \n",
    "Batch: {batch}\n",
    "Student: {student_name} Father’s Name: {studnet_father_name}\n",
    "Age: {age} Gender: {gender} Class Timing: {class_timing}\n",
    "\"\"\"\n",
    "\n",
    "print(card)"
   ]
  },
  {
   "cell_type": "markdown",
   "id": "c9013cb1",
   "metadata": {},
   "source": [
    "## Old way for formation text"
   ]
  },
  {
   "cell_type": "code",
   "execution_count": 30,
   "id": "82222a7f",
   "metadata": {},
   "outputs": [
    {
     "name": "stdout",
     "output_type": "stream",
     "text": [
      "\n",
      "NED PGD \n",
      "Batch: 04\n",
      "Student: Ali Father’s Name: Hamza\n",
      "Age: 30 Gender: Male Class Timing: 5:15 to 7:15\n",
      "\n"
     ]
    }
   ],
   "source": [
    "student_name = \"Ali\"\n",
    "studnet_father_name = \"Hamza\"\n",
    "batch = '04'\n",
    "university_name = \"NED\"\n",
    "age = 30\n",
    "gender = \"Male\"\n",
    "date_of_admission = \"2022-01-16\"\n",
    "class_timing = '5:15 to 7:15'\n",
    "\n",
    "#data type = symbol, place holder\n",
    "# string  = %s\n",
    "# int     = %d\n",
    "\n",
    "card = \"\"\"\n",
    "NED PGD \n",
    "Batch: %s\n",
    "Student: %s Father’s Name: %s\n",
    "Age: %d Gender: %s Class Timing: %s\n",
    "\"\"\" % (batch,student_name,studnet_father_name,age,gender,class_timing)\n",
    "\n",
    "print(card)"
   ]
  },
  {
   "cell_type": "markdown",
   "id": "178beede",
   "metadata": {},
   "source": [
    "# Additional Work Start"
   ]
  },
  {
   "cell_type": "code",
   "execution_count": 35,
   "id": "52d4eed5",
   "metadata": {},
   "outputs": [
    {
     "data": {
      "text/html": [
       "<div>\n",
       "<style scoped>\n",
       "    .dataframe tbody tr th:only-of-type {\n",
       "        vertical-align: middle;\n",
       "    }\n",
       "\n",
       "    .dataframe tbody tr th {\n",
       "        vertical-align: top;\n",
       "    }\n",
       "\n",
       "    .dataframe thead th {\n",
       "        text-align: right;\n",
       "    }\n",
       "</style>\n",
       "<table border=\"1\" class=\"dataframe\">\n",
       "  <thead>\n",
       "    <tr style=\"text-align: right;\">\n",
       "      <th></th>\n",
       "      <th>id</th>\n",
       "      <th>name</th>\n",
       "      <th>fname</th>\n",
       "      <th>course</th>\n",
       "    </tr>\n",
       "  </thead>\n",
       "  <tbody>\n",
       "    <tr>\n",
       "      <th>0</th>\n",
       "      <td>1</td>\n",
       "      <td>Ahmed</td>\n",
       "      <td>Hunain</td>\n",
       "      <td>Python3</td>\n",
       "    </tr>\n",
       "    <tr>\n",
       "      <th>1</th>\n",
       "      <td>2</td>\n",
       "      <td>junaid</td>\n",
       "      <td>Iqbal</td>\n",
       "      <td>Python</td>\n",
       "    </tr>\n",
       "    <tr>\n",
       "      <th>2</th>\n",
       "      <td>3</td>\n",
       "      <td>Rashid</td>\n",
       "      <td>Imran</td>\n",
       "      <td>AI</td>\n",
       "    </tr>\n",
       "    <tr>\n",
       "      <th>3</th>\n",
       "      <td>4</td>\n",
       "      <td>Qasim</td>\n",
       "      <td>Yasir</td>\n",
       "      <td>Python</td>\n",
       "    </tr>\n",
       "    <tr>\n",
       "      <th>4</th>\n",
       "      <td>5</td>\n",
       "      <td>Konain</td>\n",
       "      <td>Nusrat</td>\n",
       "      <td>Data Science</td>\n",
       "    </tr>\n",
       "    <tr>\n",
       "      <th>5</th>\n",
       "      <td>6</td>\n",
       "      <td>Yasir</td>\n",
       "      <td>Rashid</td>\n",
       "      <td>Python</td>\n",
       "    </tr>\n",
       "    <tr>\n",
       "      <th>6</th>\n",
       "      <td>7</td>\n",
       "      <td>Jasim</td>\n",
       "      <td>Abid</td>\n",
       "      <td>Python</td>\n",
       "    </tr>\n",
       "  </tbody>\n",
       "</table>\n",
       "</div>"
      ],
      "text/plain": [
       "   id    name   fname        course\n",
       "0   1   Ahmed  Hunain       Python3\n",
       "1   2  junaid   Iqbal        Python\n",
       "2   3  Rashid   Imran            AI\n",
       "3   4   Qasim   Yasir        Python\n",
       "4   5  Konain  Nusrat  Data Science\n",
       "5   6   Yasir  Rashid        Python\n",
       "6   7   Jasim    Abid        Python"
      ]
     },
     "execution_count": 35,
     "metadata": {},
     "output_type": "execute_result"
    }
   ],
   "source": [
    "import pandas as pd\n",
    "import numpy as np\n",
    "\n",
    "df = pd.read_excel(\"./data.xlsx\")\n",
    "df.head(7)"
   ]
  },
  {
   "cell_type": "code",
   "execution_count": 36,
   "id": "218ea8c4",
   "metadata": {},
   "outputs": [
    {
     "name": "stdout",
     "output_type": "stream",
     "text": [
      "\n",
      "    NED PGD \n",
      "    Student Id:1 \n",
      "    Student: Ahmed Father’s Name: Hunain\n",
      "    Course: Python3\n",
      "    \n",
      "=====================\n",
      "\n",
      "    NED PGD \n",
      "    Student Id:2 \n",
      "    Student: junaid Father’s Name: Iqbal\n",
      "    Course: Python\n",
      "    \n",
      "=====================\n",
      "\n",
      "    NED PGD \n",
      "    Student Id:3 \n",
      "    Student: Rashid Father’s Name: Imran\n",
      "    Course: AI\n",
      "    \n",
      "=====================\n",
      "\n",
      "    NED PGD \n",
      "    Student Id:4 \n",
      "    Student: Qasim Father’s Name: Yasir\n",
      "    Course: Python\n",
      "    \n",
      "=====================\n",
      "\n",
      "    NED PGD \n",
      "    Student Id:5 \n",
      "    Student: Konain Father’s Name: Nusrat\n",
      "    Course: Data Science\n",
      "    \n",
      "=====================\n",
      "\n",
      "    NED PGD \n",
      "    Student Id:6 \n",
      "    Student: Yasir Father’s Name: Rashid\n",
      "    Course: Python\n",
      "    \n",
      "=====================\n",
      "\n",
      "    NED PGD \n",
      "    Student Id:7 \n",
      "    Student: Jasim Father’s Name: Abid\n",
      "    Course: Python\n",
      "    \n",
      "=====================\n"
     ]
    }
   ],
   "source": [
    "for sid,name,fname,course in df.values:\n",
    "    card = f\"\"\"\n",
    "    NED PGD \n",
    "    Student Id:{sid} \n",
    "    Student: {name} Father’s Name: {fname}\n",
    "    Course: {course}\n",
    "    \"\"\" \n",
    "    print(card)\n",
    "    print('=====================')"
   ]
  },
  {
   "cell_type": "markdown",
   "id": "a91d6265",
   "metadata": {},
   "source": [
    "# Additional Work End"
   ]
  },
  {
   "cell_type": "markdown",
   "id": "a14ad09e",
   "metadata": {},
   "source": [
    "# Help on any python function"
   ]
  },
  {
   "cell_type": "code",
   "execution_count": 37,
   "id": "be796203",
   "metadata": {},
   "outputs": [
    {
     "name": "stdout",
     "output_type": "stream",
     "text": [
      "Help on built-in function print in module builtins:\n",
      "\n",
      "print(...)\n",
      "    print(value, ..., sep=' ', end='\\n', file=sys.stdout, flush=False)\n",
      "    \n",
      "    Prints the values to a stream, or to sys.stdout by default.\n",
      "    Optional keyword arguments:\n",
      "    file:  a file-like object (stream); defaults to the current sys.stdout.\n",
      "    sep:   string inserted between values, default a space.\n",
      "    end:   string appended after the last value, default a newline.\n",
      "    flush: whether to forcibly flush the stream.\n",
      "\n"
     ]
    }
   ],
   "source": [
    "help(print)"
   ]
  },
  {
   "cell_type": "code",
   "execution_count": 38,
   "id": "215623bb",
   "metadata": {},
   "outputs": [],
   "source": [
    "help?"
   ]
  },
  {
   "cell_type": "code",
   "execution_count": 39,
   "id": "4f6b19d1",
   "metadata": {},
   "outputs": [],
   "source": [
    "help??"
   ]
  },
  {
   "cell_type": "code",
   "execution_count": 40,
   "id": "61a242c3",
   "metadata": {},
   "outputs": [],
   "source": [
    "?help"
   ]
  },
  {
   "cell_type": "code",
   "execution_count": 41,
   "id": "2e1eb8ce",
   "metadata": {},
   "outputs": [],
   "source": [
    "??help"
   ]
  },
  {
   "cell_type": "raw",
   "id": "b458cdeb",
   "metadata": {},
   "source": [
    "write function and open close parenthesis ()\n",
    "press Shift+Tab"
   ]
  },
  {
   "cell_type": "code",
   "execution_count": null,
   "id": "d5dd8cd3",
   "metadata": {},
   "outputs": [],
   "source": [
    "print()"
   ]
  },
  {
   "cell_type": "markdown",
   "id": "38a8463f",
   "metadata": {},
   "source": [
    "# How we can see all method list of any data type"
   ]
  },
  {
   "cell_type": "code",
   "execution_count": 42,
   "id": "53a42cd0",
   "metadata": {},
   "outputs": [
    {
     "data": {
      "text/plain": [
       "['__add__',\n",
       " '__class__',\n",
       " '__contains__',\n",
       " '__delattr__',\n",
       " '__dir__',\n",
       " '__doc__',\n",
       " '__eq__',\n",
       " '__format__',\n",
       " '__ge__',\n",
       " '__getattribute__',\n",
       " '__getitem__',\n",
       " '__getnewargs__',\n",
       " '__gt__',\n",
       " '__hash__',\n",
       " '__init__',\n",
       " '__init_subclass__',\n",
       " '__iter__',\n",
       " '__le__',\n",
       " '__len__',\n",
       " '__lt__',\n",
       " '__mod__',\n",
       " '__mul__',\n",
       " '__ne__',\n",
       " '__new__',\n",
       " '__reduce__',\n",
       " '__reduce_ex__',\n",
       " '__repr__',\n",
       " '__rmod__',\n",
       " '__rmul__',\n",
       " '__setattr__',\n",
       " '__sizeof__',\n",
       " '__str__',\n",
       " '__subclasshook__',\n",
       " 'capitalize',\n",
       " 'casefold',\n",
       " 'center',\n",
       " 'count',\n",
       " 'encode',\n",
       " 'endswith',\n",
       " 'expandtabs',\n",
       " 'find',\n",
       " 'format',\n",
       " 'format_map',\n",
       " 'index',\n",
       " 'isalnum',\n",
       " 'isalpha',\n",
       " 'isascii',\n",
       " 'isdecimal',\n",
       " 'isdigit',\n",
       " 'isidentifier',\n",
       " 'islower',\n",
       " 'isnumeric',\n",
       " 'isprintable',\n",
       " 'isspace',\n",
       " 'istitle',\n",
       " 'isupper',\n",
       " 'join',\n",
       " 'ljust',\n",
       " 'lower',\n",
       " 'lstrip',\n",
       " 'maketrans',\n",
       " 'partition',\n",
       " 'removeprefix',\n",
       " 'removesuffix',\n",
       " 'replace',\n",
       " 'rfind',\n",
       " 'rindex',\n",
       " 'rjust',\n",
       " 'rpartition',\n",
       " 'rsplit',\n",
       " 'rstrip',\n",
       " 'split',\n",
       " 'splitlines',\n",
       " 'startswith',\n",
       " 'strip',\n",
       " 'swapcase',\n",
       " 'title',\n",
       " 'translate',\n",
       " 'upper',\n",
       " 'zfill']"
      ]
     },
     "execution_count": 42,
     "metadata": {},
     "output_type": "execute_result"
    }
   ],
   "source": [
    "dir(str)"
   ]
  },
  {
   "cell_type": "code",
   "execution_count": 43,
   "id": "478c340c",
   "metadata": {},
   "outputs": [
    {
     "data": {
      "text/plain": [
       "['__abs__',\n",
       " '__add__',\n",
       " '__and__',\n",
       " '__bool__',\n",
       " '__ceil__',\n",
       " '__class__',\n",
       " '__delattr__',\n",
       " '__dir__',\n",
       " '__divmod__',\n",
       " '__doc__',\n",
       " '__eq__',\n",
       " '__float__',\n",
       " '__floor__',\n",
       " '__floordiv__',\n",
       " '__format__',\n",
       " '__ge__',\n",
       " '__getattribute__',\n",
       " '__getnewargs__',\n",
       " '__gt__',\n",
       " '__hash__',\n",
       " '__index__',\n",
       " '__init__',\n",
       " '__init_subclass__',\n",
       " '__int__',\n",
       " '__invert__',\n",
       " '__le__',\n",
       " '__lshift__',\n",
       " '__lt__',\n",
       " '__mod__',\n",
       " '__mul__',\n",
       " '__ne__',\n",
       " '__neg__',\n",
       " '__new__',\n",
       " '__or__',\n",
       " '__pos__',\n",
       " '__pow__',\n",
       " '__radd__',\n",
       " '__rand__',\n",
       " '__rdivmod__',\n",
       " '__reduce__',\n",
       " '__reduce_ex__',\n",
       " '__repr__',\n",
       " '__rfloordiv__',\n",
       " '__rlshift__',\n",
       " '__rmod__',\n",
       " '__rmul__',\n",
       " '__ror__',\n",
       " '__round__',\n",
       " '__rpow__',\n",
       " '__rrshift__',\n",
       " '__rshift__',\n",
       " '__rsub__',\n",
       " '__rtruediv__',\n",
       " '__rxor__',\n",
       " '__setattr__',\n",
       " '__sizeof__',\n",
       " '__str__',\n",
       " '__sub__',\n",
       " '__subclasshook__',\n",
       " '__truediv__',\n",
       " '__trunc__',\n",
       " '__xor__',\n",
       " 'as_integer_ratio',\n",
       " 'bit_length',\n",
       " 'conjugate',\n",
       " 'denominator',\n",
       " 'from_bytes',\n",
       " 'imag',\n",
       " 'numerator',\n",
       " 'real',\n",
       " 'to_bytes']"
      ]
     },
     "execution_count": 43,
     "metadata": {},
     "output_type": "execute_result"
    }
   ],
   "source": [
    "dir(int)"
   ]
  },
  {
   "cell_type": "code",
   "execution_count": 44,
   "id": "421c8e32",
   "metadata": {},
   "outputs": [
    {
     "data": {
      "text/plain": [
       "['__add__',\n",
       " '__class__',\n",
       " '__class_getitem__',\n",
       " '__contains__',\n",
       " '__delattr__',\n",
       " '__delitem__',\n",
       " '__dir__',\n",
       " '__doc__',\n",
       " '__eq__',\n",
       " '__format__',\n",
       " '__ge__',\n",
       " '__getattribute__',\n",
       " '__getitem__',\n",
       " '__gt__',\n",
       " '__hash__',\n",
       " '__iadd__',\n",
       " '__imul__',\n",
       " '__init__',\n",
       " '__init_subclass__',\n",
       " '__iter__',\n",
       " '__le__',\n",
       " '__len__',\n",
       " '__lt__',\n",
       " '__mul__',\n",
       " '__ne__',\n",
       " '__new__',\n",
       " '__reduce__',\n",
       " '__reduce_ex__',\n",
       " '__repr__',\n",
       " '__reversed__',\n",
       " '__rmul__',\n",
       " '__setattr__',\n",
       " '__setitem__',\n",
       " '__sizeof__',\n",
       " '__str__',\n",
       " '__subclasshook__',\n",
       " 'append',\n",
       " 'clear',\n",
       " 'copy',\n",
       " 'count',\n",
       " 'extend',\n",
       " 'index',\n",
       " 'insert',\n",
       " 'pop',\n",
       " 'remove',\n",
       " 'reverse',\n",
       " 'sort']"
      ]
     },
     "execution_count": 44,
     "metadata": {},
     "output_type": "execute_result"
    }
   ],
   "source": [
    "dir(list)"
   ]
  },
  {
   "cell_type": "code",
   "execution_count": 45,
   "id": "62aa058e",
   "metadata": {},
   "outputs": [
    {
     "data": {
      "text/plain": [
       "['__add__',\n",
       " '__class__',\n",
       " '__contains__',\n",
       " '__delattr__',\n",
       " '__dir__',\n",
       " '__doc__',\n",
       " '__eq__',\n",
       " '__format__',\n",
       " '__ge__',\n",
       " '__getattribute__',\n",
       " '__getitem__',\n",
       " '__getnewargs__',\n",
       " '__gt__',\n",
       " '__hash__',\n",
       " '__init__',\n",
       " '__init_subclass__',\n",
       " '__iter__',\n",
       " '__le__',\n",
       " '__len__',\n",
       " '__lt__',\n",
       " '__mod__',\n",
       " '__mul__',\n",
       " '__ne__',\n",
       " '__new__',\n",
       " '__reduce__',\n",
       " '__reduce_ex__',\n",
       " '__repr__',\n",
       " '__rmod__',\n",
       " '__rmul__',\n",
       " '__setattr__',\n",
       " '__sizeof__',\n",
       " '__str__',\n",
       " '__subclasshook__',\n",
       " 'capitalize',\n",
       " 'casefold',\n",
       " 'center',\n",
       " 'count',\n",
       " 'encode',\n",
       " 'endswith',\n",
       " 'expandtabs',\n",
       " 'find',\n",
       " 'format',\n",
       " 'format_map',\n",
       " 'index',\n",
       " 'isalnum',\n",
       " 'isalpha',\n",
       " 'isascii',\n",
       " 'isdecimal',\n",
       " 'isdigit',\n",
       " 'isidentifier',\n",
       " 'islower',\n",
       " 'isnumeric',\n",
       " 'isprintable',\n",
       " 'isspace',\n",
       " 'istitle',\n",
       " 'isupper',\n",
       " 'join',\n",
       " 'ljust',\n",
       " 'lower',\n",
       " 'lstrip',\n",
       " 'maketrans',\n",
       " 'partition',\n",
       " 'removeprefix',\n",
       " 'removesuffix',\n",
       " 'replace',\n",
       " 'rfind',\n",
       " 'rindex',\n",
       " 'rjust',\n",
       " 'rpartition',\n",
       " 'rsplit',\n",
       " 'rstrip',\n",
       " 'split',\n",
       " 'splitlines',\n",
       " 'startswith',\n",
       " 'strip',\n",
       " 'swapcase',\n",
       " 'title',\n",
       " 'translate',\n",
       " 'upper',\n",
       " 'zfill']"
      ]
     },
     "execution_count": 45,
     "metadata": {},
     "output_type": "execute_result"
    }
   ],
   "source": [
    "a = \"Pakistan\"\n",
    "dir(a)"
   ]
  },
  {
   "cell_type": "raw",
   "id": "8e8f44dd",
   "metadata": {},
   "source": [
    "'capitalize', ok\n",
    " 'casefold', ok\n",
    " 'center', ok\n",
    " 'count', ok\n",
    " 'encode', ok\n",
    " 'endswith', ok\n",
    " 'expandtabs', ok\n",
    " 'find',ok\n",
    " 'format', ok\n",
    " 'format_map',\n",
    " 'index', ok\n",
    " 'isalnum',\n",
    " 'isalpha',\n",
    " 'isascii',\n",
    " 'isdecimal',\n",
    " 'isdigit',\n",
    " 'isidentifier',\n",
    " 'islower',\n",
    " 'isnumeric',\n",
    " 'isprintable',\n",
    " 'isspace',\n",
    " 'istitle',\n",
    " 'isupper',\n",
    " 'join',\n",
    " 'ljust', ok\n",
    " 'lower', ok\n",
    " 'lstrip', ok\n",
    " 'maketrans',\n",
    " 'partition',\n",
    " 'removeprefix',\n",
    " 'removesuffix',\n",
    " 'replace',\n",
    " 'rfind',\n",
    " 'rindex',\n",
    " 'rjust',\n",
    " 'rpartition',\n",
    " 'rsplit',\n",
    " 'rstrip',\n",
    " 'split',\n",
    " 'splitlines',\n",
    " 'startswith',\n",
    " 'strip',\n",
    " 'swapcase',\n",
    " 'title',\n",
    " 'translate',\n",
    " 'upper',\n",
    " 'zfill'"
   ]
  },
  {
   "cell_type": "code",
   "execution_count": 46,
   "id": "d4da36c8",
   "metadata": {},
   "outputs": [
    {
     "name": "stdout",
     "output_type": "stream",
     "text": [
      "Pakistan zida bad!\n"
     ]
    }
   ],
   "source": [
    "a = \"Pakistan ziDa BaD!\"\n",
    "print(a.capitalize())"
   ]
  },
  {
   "cell_type": "code",
   "execution_count": 47,
   "id": "8cccce7a",
   "metadata": {},
   "outputs": [
    {
     "name": "stdout",
     "output_type": "stream",
     "text": [
      "pakistan zida bad!\n"
     ]
    }
   ],
   "source": [
    "a = \"Pakistan ziDa BaD!\"\n",
    "print(a.casefold())"
   ]
  },
  {
   "cell_type": "code",
   "execution_count": 48,
   "id": "332b0f55",
   "metadata": {},
   "outputs": [],
   "source": [
    "a.center?"
   ]
  },
  {
   "cell_type": "code",
   "execution_count": 49,
   "id": "2b5494d6",
   "metadata": {},
   "outputs": [
    {
     "name": "stdout",
     "output_type": "stream",
     "text": [
      "                Pakistan ziDa BaD!                \n"
     ]
    }
   ],
   "source": [
    "print(a.center(50))"
   ]
  },
  {
   "cell_type": "code",
   "execution_count": 50,
   "id": "8332a20b",
   "metadata": {},
   "outputs": [
    {
     "name": "stdout",
     "output_type": "stream",
     "text": [
      "4\n"
     ]
    }
   ],
   "source": [
    "a = \"Pakistan ziDa BaD!\"\n",
    "print(a.count('a'))"
   ]
  },
  {
   "cell_type": "code",
   "execution_count": 51,
   "id": "cabf51c3",
   "metadata": {},
   "outputs": [
    {
     "name": "stdout",
     "output_type": "stream",
     "text": [
      "19\n"
     ]
    }
   ],
   "source": [
    "a = \"Pakistan ziDa BaD!\"\n",
    "print(a.count(''))"
   ]
  },
  {
   "cell_type": "code",
   "execution_count": 53,
   "id": "01b37a11",
   "metadata": {},
   "outputs": [
    {
     "name": "stdout",
     "output_type": "stream",
     "text": [
      "                PAKISTAN ZIDA BAD!                \n"
     ]
    }
   ],
   "source": [
    "print(a.lower().center(50).upper())"
   ]
  },
  {
   "cell_type": "code",
   "execution_count": 54,
   "id": "89ba1cba",
   "metadata": {},
   "outputs": [
    {
     "data": {
      "text/plain": [
       "b'Pakistan ziDa BaD!'"
      ]
     },
     "execution_count": 54,
     "metadata": {},
     "output_type": "execute_result"
    }
   ],
   "source": [
    "a = \"Pakistan ziDa BaD!\"\n",
    "a.encode('cp1252')"
   ]
  },
  {
   "cell_type": "code",
   "execution_count": null,
   "id": "83169095",
   "metadata": {},
   "outputs": [],
   "source": [
    "# utf-8, utf-16, utf-32, utf-16-be, utf-16-le, utf-32-be, utf-32-le"
   ]
  },
  {
   "cell_type": "code",
   "execution_count": 57,
   "id": "02c49a8b",
   "metadata": {},
   "outputs": [
    {
     "name": "stdout",
     "output_type": "stream",
     "text": [
      "   Pakistan Zinda     bad          \n",
      "Pakistan Zinda     bad\n",
      "Pakistan Zinda     bad          \n",
      "   Pakistan Zinda     bad\n"
     ]
    }
   ],
   "source": [
    "a = \"   Pakistan Zinda     bad          \"\n",
    "print(a)\n",
    "print(a.strip())\n",
    "print(a.lstrip())\n",
    "print(a.rstrip())\n"
   ]
  },
  {
   "cell_type": "code",
   "execution_count": 58,
   "id": "31e405e1",
   "metadata": {},
   "outputs": [
    {
     "name": "stdout",
     "output_type": "stream",
     "text": [
      "   Pakistan Zinda     bad          \n",
      "Pakistan Zinda     bad\n",
      "Pakistan Zinda     bad          \n",
      "   Pakistan Zinda     bad\n",
      " Pakistan Zinda bad \n"
     ]
    }
   ],
   "source": [
    "\n",
    "a = \"   Pakistan Zinda     bad          \"\n",
    "print(a)\n",
    "print(a.strip())\n",
    "print(a.lstrip())\n",
    "print(a.rstrip())\n",
    "\n",
    "#additional\n",
    "import re\n",
    "print(re.sub(\" {2,100}\",\" \",a))"
   ]
  },
  {
   "cell_type": "code",
   "execution_count": 61,
   "id": "0214bd48",
   "metadata": {},
   "outputs": [
    {
     "name": "stdout",
     "output_type": "stream",
     "text": [
      "pakistan zinda bad\n"
     ]
    },
    {
     "data": {
      "text/plain": [
       "9"
      ]
     },
     "execution_count": 61,
     "metadata": {},
     "output_type": "execute_result"
    }
   ],
   "source": [
    "a = \"Pakistan Zinda bad\".lower()\n",
    "print(a)\n",
    "a.find('zinda')\n"
   ]
  },
  {
   "cell_type": "code",
   "execution_count": 63,
   "id": "859d738d",
   "metadata": {},
   "outputs": [
    {
     "name": "stdout",
     "output_type": "stream",
     "text": [
      "pakistan zinda bad\n"
     ]
    },
    {
     "data": {
      "text/plain": [
       "True"
      ]
     },
     "execution_count": 63,
     "metadata": {},
     "output_type": "execute_result"
    }
   ],
   "source": [
    "a = \"Pakistan Zinda bad\".lower()\n",
    "print(a)\n",
    "a.endswith(\"bad\")\n"
   ]
  },
  {
   "cell_type": "code",
   "execution_count": 64,
   "id": "ac9499a3",
   "metadata": {},
   "outputs": [
    {
     "name": "stdout",
     "output_type": "stream",
     "text": [
      "pakistan zinda bad we love our country\n"
     ]
    },
    {
     "data": {
      "text/plain": [
       "False"
      ]
     },
     "execution_count": 64,
     "metadata": {},
     "output_type": "execute_result"
    }
   ],
   "source": [
    "a = \"Pakistan Zinda bad we love our country\".lower()\n",
    "print(a)\n",
    "a.endswith(\"bad\")\n"
   ]
  },
  {
   "cell_type": "code",
   "execution_count": 65,
   "id": "7d3810e0",
   "metadata": {},
   "outputs": [
    {
     "name": "stdout",
     "output_type": "stream",
     "text": [
      "pakistan zinda bad we love our country\n"
     ]
    },
    {
     "data": {
      "text/plain": [
       "True"
      ]
     },
     "execution_count": 65,
     "metadata": {},
     "output_type": "execute_result"
    }
   ],
   "source": [
    "a = \"Pakistan Zinda bad we love our country\".lower()\n",
    "print(a)\n",
    "a.startswith(\"pakistan\")"
   ]
  },
  {
   "cell_type": "code",
   "execution_count": 69,
   "id": "274ffb47",
   "metadata": {},
   "outputs": [
    {
     "name": "stdout",
     "output_type": "stream",
     "text": [
      "\n",
      "Name:\t Muhammad Qasim\n",
      "Father's Name:\t Muhammad Qasim\n",
      "\n",
      "\n",
      "Name:                Muhammad Qasim\n",
      "Father's Name:       Muhammad Qasim\n",
      "\n"
     ]
    }
   ],
   "source": [
    "card = \"\"\"\n",
    "Name:\\t Muhammad Qasim\n",
    "Father's Name:\\t Muhammad Qasim\n",
    "\"\"\"\n",
    "\n",
    "print(card)\n",
    "\n",
    "print(card.expandtabs(20))"
   ]
  },
  {
   "cell_type": "code",
   "execution_count": 70,
   "id": "e83e8bf2",
   "metadata": {},
   "outputs": [
    {
     "name": "stdout",
     "output_type": "stream",
     "text": [
      "22\n"
     ]
    }
   ],
   "source": [
    "a = \"Pakistan Zinda bad we love our country\".lower()\n",
    "print(a.index('love'))"
   ]
  },
  {
   "cell_type": "code",
   "execution_count": null,
   "id": "dd6dcf12",
   "metadata": {},
   "outputs": [],
   "source": []
  }
 ],
 "metadata": {
  "kernelspec": {
   "display_name": "Python 3 (ipykernel)",
   "language": "python",
   "name": "python3"
  },
  "language_info": {
   "codemirror_mode": {
    "name": "ipython",
    "version": 3
   },
   "file_extension": ".py",
   "mimetype": "text/x-python",
   "name": "python",
   "nbconvert_exporter": "python",
   "pygments_lexer": "ipython3",
   "version": "3.9.13"
  }
 },
 "nbformat": 4,
 "nbformat_minor": 5
}
