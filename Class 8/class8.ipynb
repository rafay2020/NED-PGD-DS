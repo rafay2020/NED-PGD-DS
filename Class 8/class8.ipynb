{
 "cells": [
  {
   "cell_type": "code",
   "execution_count": 1,
   "id": "c9dafea5",
   "metadata": {},
   "outputs": [],
   "source": [
    "import re"
   ]
  },
  {
   "cell_type": "markdown",
   "id": "d4a5d3b8",
   "metadata": {},
   "source": [
    "https://docs.python.org/3/library/re.html"
   ]
  },
  {
   "cell_type": "code",
   "execution_count": 2,
   "id": "ec3dfd39",
   "metadata": {},
   "outputs": [
    {
     "data": {
      "text/plain": [
       "['a', 'a', 'a', 'a', 'a', 'a']"
      ]
     },
     "execution_count": 2,
     "metadata": {},
     "output_type": "execute_result"
    }
   ],
   "source": [
    "x = \"\"\"\n",
    "pakistan zinda bad abcd afg xyz\n",
    "\"\"\"\n",
    "\n",
    "re.findall('a', x)"
   ]
  },
  {
   "cell_type": "code",
   "execution_count": 4,
   "id": "e390bedf",
   "metadata": {},
   "outputs": [
    {
     "data": {
      "text/plain": [
       "['ab', 'ab']"
      ]
     },
     "execution_count": 4,
     "metadata": {},
     "output_type": "execute_result"
    }
   ],
   "source": [
    "x = \"\"\"\n",
    "pakistan abda zinda bad abcd afg xyz\n",
    "\"\"\"\n",
    "\n",
    "re.findall('ab', x)"
   ]
  },
  {
   "cell_type": "code",
   "execution_count": null,
   "id": "3f29b63d",
   "metadata": {},
   "outputs": [],
   "source": [
    "x = \"\"\"\n",
    "pakistan abda zinda bad abcd afg xyz\n",
    "\"\"\"\n",
    "\n",
    "re.findall('ab', x)"
   ]
  },
  {
   "cell_type": "code",
   "execution_count": 7,
   "id": "8f9b6ec8",
   "metadata": {},
   "outputs": [
    {
     "data": {
      "text/plain": [
       "['ak', 'ab', 'ab', 'af']"
      ]
     },
     "execution_count": 7,
     "metadata": {},
     "output_type": "execute_result"
    }
   ],
   "source": [
    "x = \"\"\"\n",
    "pakistan abda zinda bad abcd afg xyz\n",
    "\"\"\"\n",
    "\n",
    "re.findall('a[kafb]', x)"
   ]
  },
  {
   "cell_type": "code",
   "execution_count": 8,
   "id": "2d537fbc",
   "metadata": {},
   "outputs": [
    {
     "data": {
      "text/plain": [
       "[]"
      ]
     },
     "execution_count": 8,
     "metadata": {},
     "output_type": "execute_result"
    }
   ],
   "source": [
    "x = \"\"\"\n",
    "pakistan abda zinda bad abcd afg xyz\n",
    "\"\"\"\n",
    "\n",
    "re.findall('a\\[kafb\\]', x)"
   ]
  },
  {
   "cell_type": "code",
   "execution_count": 9,
   "id": "9bd14d56",
   "metadata": {},
   "outputs": [
    {
     "data": {
      "text/plain": [
       "['a[kafb]']"
      ]
     },
     "execution_count": 9,
     "metadata": {},
     "output_type": "execute_result"
    }
   ],
   "source": [
    "x = \"\"\"\n",
    "pakistan abda  a[kafb] zinda bad abcd afg xyz\n",
    "\"\"\"\n",
    "\n",
    "re.findall('a\\[kafb\\]', x)"
   ]
  },
  {
   "cell_type": "code",
   "execution_count": 26,
   "id": "06735b22",
   "metadata": {},
   "outputs": [
    {
     "data": {
      "text/plain": [
       "['123', '123', '123', '123', '128', '129', '123']"
      ]
     },
     "execution_count": 26,
     "metadata": {},
     "output_type": "execute_result"
    }
   ],
   "source": [
    "x = \"\"\"\n",
    "123 1234 12345 123 128 129 12358 12\n",
    "\"\"\"\n",
    "\n",
    "re.findall(\"[0-9]{3}\", x)"
   ]
  },
  {
   "cell_type": "code",
   "execution_count": 28,
   "id": "1aaf45a2",
   "metadata": {},
   "outputs": [
    {
     "data": {
      "text/plain": [
       "[' 123 ', ' 129 ']"
      ]
     },
     "execution_count": 28,
     "metadata": {},
     "output_type": "execute_result"
    }
   ],
   "source": [
    "x = \"\"\"\n",
    "123 1234 12345 123 128 129 12358\n",
    "\"\"\"\n",
    "\n",
    "re.findall(\" [0-9]{3} \", x)"
   ]
  },
  {
   "cell_type": "code",
   "execution_count": 33,
   "id": "e4172e1f",
   "metadata": {},
   "outputs": [
    {
     "data": {
      "text/plain": [
       "['123', '123', '128', '129', '111']"
      ]
     },
     "execution_count": 33,
     "metadata": {},
     "output_type": "execute_result"
    }
   ],
   "source": [
    "x = \"\"\"\n",
    "123 1234 12345 123 128 129 12358 111\n",
    "\"\"\"\n",
    "\n",
    "re.findall(r\"\\b[0-9]{3}\\b\", x)"
   ]
  },
  {
   "cell_type": "code",
   "execution_count": 36,
   "id": "e6aeb579",
   "metadata": {},
   "outputs": [
    {
     "data": {
      "text/plain": [
       "['aaa', 'bb2', 'ca2']"
      ]
     },
     "execution_count": 36,
     "metadata": {},
     "output_type": "execute_result"
    }
   ],
   "source": [
    "x = \"\"\"\n",
    "aA2 Aa3 aaa bb2 ca2 aaee2\n",
    "\"\"\"\n",
    "\n",
    "re.findall(r'\\b[a-z0-9]{3}\\b',x)"
   ]
  },
  {
   "cell_type": "code",
   "execution_count": 38,
   "id": "c109330e",
   "metadata": {},
   "outputs": [
    {
     "data": {
      "text/plain": [
       "['12345-1234567-1', '12345-1234537-1', '12345-1234557-1']"
      ]
     },
     "execution_count": 38,
     "metadata": {},
     "output_type": "execute_result"
    }
   ],
   "source": [
    "x = \"\"\"\n",
    "\n",
    "12345-1234567-1\n",
    "12345-1234537-1\n",
    "12345-1234557-1\n",
    "1234312345671\n",
    "1234312345671\n",
    "12343123456711234312345671\n",
    "123431 23456711234312 345671\n",
    "\n",
    "\"\"\"\n",
    "\n",
    "re.findall(r'\\b[0-9]{5}-[0-9]{7}-[0-9]{1}\\b',x)"
   ]
  },
  {
   "cell_type": "code",
   "execution_count": 41,
   "id": "d812610c",
   "metadata": {},
   "outputs": [
    {
     "data": {
      "text/plain": [
       "['12345-1234567-1',\n",
       " '12345-1234537-1',\n",
       " '12345-1234557-1',\n",
       " '1234312345671',\n",
       " '1234312345671']"
      ]
     },
     "execution_count": 41,
     "metadata": {},
     "output_type": "execute_result"
    }
   ],
   "source": [
    "x = \"\"\"\n",
    "\n",
    "12345-1234567-1\n",
    "12345-1234537-1\n",
    "12345-1234557-1\n",
    "1234312345671\n",
    "1234312345671\n",
    "12343123456711234312345671\n",
    "123431 23456711234312 345671\n",
    "\n",
    "\"\"\"\n",
    "\n",
    "re.findall(r'\\b[0-9]{5}-?[0-9]{7}-?[0-9]{1}\\b',x)"
   ]
  },
  {
   "cell_type": "code",
   "execution_count": null,
   "id": "1853db24",
   "metadata": {},
   "outputs": [],
   "source": [
    "x = \"\"\"\n",
    "\n",
    "12345-1234567-1\n",
    "12345-1234537-1\n",
    "12345-1234557-1\n",
    "1234312345671\n",
    "1234312345671\n",
    "12343123456711234312345671\n",
    "123431 23456711234312 345671\n",
    "\n",
    "\"\"\"\n",
    "\n",
    "re.findall(r'\\b[0-9]{5}-?[0-9]{7}-?[0-9]{1}\\b',x)"
   ]
  },
  {
   "cell_type": "code",
   "execution_count": 42,
   "id": "c60dcd15",
   "metadata": {},
   "outputs": [
    {
     "data": {
      "text/plain": [
       "False"
      ]
     },
     "execution_count": 42,
     "metadata": {},
     "output_type": "execute_result"
    }
   ],
   "source": [
    "'12345-1234567-1' == '1234512345671' "
   ]
  },
  {
   "cell_type": "code",
   "execution_count": 43,
   "id": "878a27e4",
   "metadata": {},
   "outputs": [
    {
     "data": {
      "text/plain": [
       "True"
      ]
     },
     "execution_count": 43,
     "metadata": {},
     "output_type": "execute_result"
    }
   ],
   "source": [
    "'12345-1234567-1'.replace('-','') == '1234512345671' "
   ]
  },
  {
   "cell_type": "code",
   "execution_count": 45,
   "id": "54142ad5",
   "metadata": {},
   "outputs": [
    {
     "data": {
      "text/plain": [
       "['2223', '1111', '222', '23']"
      ]
     },
     "execution_count": 45,
     "metadata": {},
     "output_type": "execute_result"
    }
   ],
   "source": [
    "x = \"paki2223stan 1111 zinda abad 222 we love 23 psi \"\n",
    "re.findall('[0-9]+',x)"
   ]
  },
  {
   "cell_type": "code",
   "execution_count": 47,
   "id": "534d0757",
   "metadata": {},
   "outputs": [
    {
     "data": {
      "text/plain": [
       "['2', '2', '2', '3', '1', '1', '1', '1', '2', '2', '2', '2', '3']"
      ]
     },
     "execution_count": 47,
     "metadata": {},
     "output_type": "execute_result"
    }
   ],
   "source": [
    "x = \"paki2223stan 1111 zinda abad 222 we love 23 psi \"\n",
    "re.findall('[0-9]',x)"
   ]
  },
  {
   "cell_type": "code",
   "execution_count": 46,
   "id": "162dd9d0",
   "metadata": {},
   "outputs": [
    {
     "data": {
      "text/plain": [
       "['pakistan ', ' zinda abad ', ' we love ', ' psi ']"
      ]
     },
     "execution_count": 46,
     "metadata": {},
     "output_type": "execute_result"
    }
   ],
   "source": [
    "x = \"pakistan 1111 zinda abad 222 we love 23 psi \"\n",
    "re.findall('[^0-9]+',x)"
   ]
  },
  {
   "cell_type": "code",
   "execution_count": null,
   "id": "5856ea73",
   "metadata": {},
   "outputs": [],
   "source": []
  },
  {
   "cell_type": "markdown",
   "id": "91dd6c06",
   "metadata": {},
   "source": [
    "# Email"
   ]
  },
  {
   "cell_type": "code",
   "execution_count": 74,
   "id": "ed32d571",
   "metadata": {},
   "outputs": [
    {
     "data": {
      "text/plain": [
       "['abcdef@ubl.com',\n",
       " 'qasim@gmail.com',\n",
       " 'adfjaskdlfkla@aaa@sss.com',\n",
       " 'muhammad.qasim@ubl.com.pk']"
      ]
     },
     "execution_count": 74,
     "metadata": {},
     "output_type": "execute_result"
    }
   ],
   "source": [
    "x = \"\"\"\n",
    "abcdef@ubl.com\n",
    "qasim@gmail.com\n",
    "adfjaskdlfkla@aaa@sss.com\n",
    "muhammad.qasim@ubl.com.pk\n",
    "\"\"\"\n",
    "\n",
    "re.findall(r'[A-z0-9._]+@[A-z0-9]+.[A-z]+.?[A-z]+',x)"
   ]
  },
  {
   "cell_type": "code",
   "execution_count": 78,
   "id": "187e6946",
   "metadata": {},
   "outputs": [
    {
     "data": {
      "text/plain": [
       "['abcdef@ubl.com',\n",
       " 'qasim@gmail.com',\n",
       " 'adfjaskdlfkla@aaa@sss.com',\n",
       " 'muhammad.qasim@ubl.com.pk']"
      ]
     },
     "execution_count": 78,
     "metadata": {},
     "output_type": "execute_result"
    }
   ],
   "source": [
    "x = \"\"\"\n",
    "abcdef@ubl.com\n",
    "qasim@gmail.com\n",
    "adfjaskdlfkla@aaa@sss.com\n",
    "muhammad.qasim@ubl.com.pk\n",
    "\"\"\"\n",
    "\n",
    "re.findall(r'.+?@[A-z0-9]+.[A-z]+.?[A-z]+',x)"
   ]
  },
  {
   "cell_type": "code",
   "execution_count": 71,
   "id": "08bdfe3f",
   "metadata": {},
   "outputs": [
    {
     "data": {
      "text/plain": [
       "['abcdef@ubl.com',\n",
       " 'qasim@gmail.com',\n",
       " 'adfjaskdlfkla@aaa@sss.com',\n",
       " 'muhammad.qasim@ubl.com.pk']"
      ]
     },
     "execution_count": 71,
     "metadata": {},
     "output_type": "execute_result"
    }
   ],
   "source": [
    "x = \"\"\"\n",
    "abcdef@ubl.com\n",
    "qasim@gmail.com\n",
    "adfjaskdlfkla@aaa@sss.com\n",
    "muhammad.qasim@ubl.com.pk\n",
    "abc.com\n",
    "\"\"\"\n",
    "\n",
    "re.findall(r'[A-z0-9._]+@[A-z0-9]+.[A-z]+.?[A-z]+',x)"
   ]
  },
  {
   "cell_type": "code",
   "execution_count": 79,
   "id": "fe9ff001",
   "metadata": {},
   "outputs": [
    {
     "data": {
      "text/plain": [
       "['abcdef@ubl.com',\n",
       " 'qasim@gmail.com',\n",
       " 'adfjaskdlfkla@aaa@sss.com',\n",
       " 'muhammad.qasim@ubl.com.pk',\n",
       " 'abc.com']"
      ]
     },
     "execution_count": 79,
     "metadata": {},
     "output_type": "execute_result"
    }
   ],
   "source": [
    "x = \"\"\"\n",
    "abcdef@ubl.com\n",
    "qasim@gmail.com\n",
    "adfjaskdlfkla@aaa@sss.com\n",
    "muhammad.qasim@ubl.com.pk\n",
    "abc.com\n",
    "\"\"\"\n",
    "re.findall(\".+\",x)"
   ]
  },
  {
   "cell_type": "code",
   "execution_count": 82,
   "id": "23b5cae3",
   "metadata": {},
   "outputs": [
    {
     "data": {
      "text/plain": [
       "['abcdef@ubl.com', 'adfjaskdlfkla@aaa@sss.com', 'abc.com']"
      ]
     },
     "execution_count": 82,
     "metadata": {},
     "output_type": "execute_result"
    }
   ],
   "source": [
    "x = \"\"\"\n",
    "abcdef@ubl.com\n",
    "qasim@gmail.com\n",
    "adfjaskdlfkla@aaa@sss.com\n",
    "muhammad.qasim@ubl.com.pk\n",
    "abc.com\n",
    "\"\"\"\n",
    "\n",
    "re.findall('^a.+',x, re.MULTILINE)"
   ]
  },
  {
   "cell_type": "code",
   "execution_count": 84,
   "id": "968efebd",
   "metadata": {},
   "outputs": [
    {
     "data": {
      "text/plain": [
       "['muhammad.qasim@ubl.com.pk', 'kpk']"
      ]
     },
     "execution_count": 84,
     "metadata": {},
     "output_type": "execute_result"
    }
   ],
   "source": [
    "x = \"\"\"\n",
    "abcdef@ubl.com\n",
    "qasim@gmail.com\n",
    "adfjaskdlfkla@aaa@sss.com\n",
    "muhammad.qasim@ubl.com.pk\n",
    "kpk\n",
    "abc.com\n",
    "\"\"\"\n",
    "\n",
    "re.findall('.+k$',x, re.MULTILINE)"
   ]
  },
  {
   "cell_type": "code",
   "execution_count": 85,
   "id": "d75df055",
   "metadata": {},
   "outputs": [
    {
     "data": {
      "text/plain": [
       "['<div>',\n",
       " '<h4>Previous topic</h4>',\n",
       " '<p class=\"topless\">',\n",
       " '<code class=\"xref py py-mod docutils literal notranslate\"><span class=\"pre\">string</span></code> — Common string operations</a></p>',\n",
       " '</div>',\n",
       " '<div>',\n",
       " '<h4>Next topic</h4>',\n",
       " '<p class=\"topless\">',\n",
       " '<code class=\"xref py py-mod docutils literal notranslate\"><span class=\"pre\">difflib</span></code> — Helpers for computing deltas</a></p>',\n",
       " '</div>',\n",
       " '<div role=\"note\" aria-label=\"source link\">',\n",
       " '<h3>This Page</h3>',\n",
       " '<ul class=\"this-page-menu\">',\n",
       " '<li><a href=\"../bugs.html\">Report a Bug</a></li>',\n",
       " '<li>',\n",
       " '</a>',\n",
       " '</li>',\n",
       " '</ul>',\n",
       " '</div>',\n",
       " '</nav>',\n",
       " '</div>']"
      ]
     },
     "execution_count": 85,
     "metadata": {},
     "output_type": "execute_result"
    }
   ],
   "source": [
    "x = \"\"\"\n",
    "  <div>\n",
    "    <h4>Previous topic</h4>\n",
    "    <p class=\"topless\"><a href=\"string.html\"\n",
    "                          title=\"previous chapter\"><code class=\"xref py py-mod docutils literal notranslate\"><span class=\"pre\">string</span></code> — Common string operations</a></p>\n",
    "  </div>\n",
    "  <div>\n",
    "    <h4>Next topic</h4>\n",
    "    <p class=\"topless\"><a href=\"difflib.html\"\n",
    "                          title=\"next chapter\"><code class=\"xref py py-mod docutils literal notranslate\"><span class=\"pre\">difflib</span></code> — Helpers for computing deltas</a></p>\n",
    "  </div>\n",
    "  <div role=\"note\" aria-label=\"source link\">\n",
    "    <h3>This Page</h3>\n",
    "    <ul class=\"this-page-menu\">\n",
    "      <li><a href=\"../bugs.html\">Report a Bug</a></li>\n",
    "      <li>\n",
    "        <a href=\"https://github.com/python/cpython/blob/3.11/Doc/library/re.rst\"\n",
    "            rel=\"nofollow\">Show Source\n",
    "        </a>\n",
    "      </li>\n",
    "    </ul>\n",
    "  </div>\n",
    "        </nav>\n",
    "    </div>\n",
    "\"\"\"\n",
    "\n",
    "re.findall('<.*>',x)"
   ]
  },
  {
   "cell_type": "code",
   "execution_count": 86,
   "id": "adf600ee",
   "metadata": {},
   "outputs": [
    {
     "data": {
      "text/plain": [
       "['<div>',\n",
       " '<h4>',\n",
       " '</h4>',\n",
       " '<p class=\"topless\">',\n",
       " '<code class=\"xref py py-mod docutils literal notranslate\">',\n",
       " '<span class=\"pre\">',\n",
       " '</span>',\n",
       " '</code>',\n",
       " '</a>',\n",
       " '</p>',\n",
       " '</div>',\n",
       " '<div>',\n",
       " '<h4>',\n",
       " '</h4>',\n",
       " '<p class=\"topless\">',\n",
       " '<code class=\"xref py py-mod docutils literal notranslate\">',\n",
       " '<span class=\"pre\">',\n",
       " '</span>',\n",
       " '</code>',\n",
       " '</a>',\n",
       " '</p>',\n",
       " '</div>',\n",
       " '<div role=\"note\" aria-label=\"source link\">',\n",
       " '<h3>',\n",
       " '</h3>',\n",
       " '<ul class=\"this-page-menu\">',\n",
       " '<li>',\n",
       " '<a href=\"../bugs.html\">',\n",
       " '</a>',\n",
       " '</li>',\n",
       " '<li>',\n",
       " '</a>',\n",
       " '</li>',\n",
       " '</ul>',\n",
       " '</div>',\n",
       " '</nav>',\n",
       " '</div>']"
      ]
     },
     "execution_count": 86,
     "metadata": {},
     "output_type": "execute_result"
    }
   ],
   "source": [
    "x = \"\"\"\n",
    "  <div>\n",
    "    <h4>Previous topic</h4>\n",
    "    <p class=\"topless\"><a href=\"string.html\"\n",
    "                          title=\"previous chapter\"><code class=\"xref py py-mod docutils literal notranslate\"><span class=\"pre\">string</span></code> — Common string operations</a></p>\n",
    "  </div>\n",
    "  <div>\n",
    "    <h4>Next topic</h4>\n",
    "    <p class=\"topless\"><a href=\"difflib.html\"\n",
    "                          title=\"next chapter\"><code class=\"xref py py-mod docutils literal notranslate\"><span class=\"pre\">difflib</span></code> — Helpers for computing deltas</a></p>\n",
    "  </div>\n",
    "  <div role=\"note\" aria-label=\"source link\">\n",
    "    <h3>This Page</h3>\n",
    "    <ul class=\"this-page-menu\">\n",
    "      <li><a href=\"../bugs.html\">Report a Bug</a></li>\n",
    "      <li>\n",
    "        <a href=\"https://github.com/python/cpython/blob/3.11/Doc/library/re.rst\"\n",
    "            rel=\"nofollow\">Show Source\n",
    "        </a>\n",
    "      </li>\n",
    "    </ul>\n",
    "  </div>\n",
    "        </nav>\n",
    "    </div>\n",
    "\"\"\"\n",
    "\n",
    "re.findall('<.*?>',x)"
   ]
  },
  {
   "cell_type": "code",
   "execution_count": null,
   "id": "7ea35df9",
   "metadata": {},
   "outputs": [],
   "source": []
  }
 ],
 "metadata": {
  "kernelspec": {
   "display_name": "Python 3",
   "language": "python",
   "name": "python3"
  },
  "language_info": {
   "codemirror_mode": {
    "name": "ipython",
    "version": 3
   },
   "file_extension": ".py",
   "mimetype": "text/x-python",
   "name": "python",
   "nbconvert_exporter": "python",
   "pygments_lexer": "ipython3",
   "version": "3.7.15"
  }
 },
 "nbformat": 4,
 "nbformat_minor": 5
}
