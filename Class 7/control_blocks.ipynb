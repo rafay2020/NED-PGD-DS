{
 "cells": [
  {
   "cell_type": "markdown",
   "id": "9971e915",
   "metadata": {},
   "source": [
    "# Blocks structures\n",
    "* if,else, elif\n",
    "* loop\n",
    "    * for, while\n",
    "        * break\n",
    "        * continue\n",
    "        * pass\n",
    "        * else\n",
    "* def\n",
    "* try\n",
    "    * except, finally\n",
    "* with\n",
    "\n",
    "### python syntax \n",
    "```\n",
    "control_block_keyword:\n",
    "    statment1\n",
    "    statment2\n",
    "    statment3...\n",
    "\n",
    "```\n",
    "### other programming languages:\n",
    "\n",
    "```\n",
    "control_block_keyword{\n",
    "    statment1\n",
    "    statment2\n",
    "    statment3...\n",
    "}\n",
    "\n",
    "```\n",
    "\n"
   ]
  },
  {
   "cell_type": "markdown",
   "id": "236b8d1b",
   "metadata": {},
   "source": [
    "# Linear Programming\n",
    "Example:\n",
    "\n",
    "```\n",
    "print(\"Pakistan zinda bad!\")\n",
    "print(\"Pakistan zinda bad!\")\n",
    "print(\"Pakistan zinda bad!\")\n",
    "print(\"Pakistan zinda bad!\")\n",
    "print(\"Pakistan zinda bad!\")\n",
    "print(\"Pakistan zinda bad!\")\n",
    "print(\"Pakistan zinda bad!\")\n",
    "print(\"Pakistan zinda bad!\")\n",
    "print(\"Pakistan zinda bad!\")\n",
    "print(\"Pakistan zinda bad!\")\n",
    "print(\"Pakistan zinda bad!\")\n",
    "print(\"Pakistan zinda bad!\")\n",
    "print(\"Pakistan zinda bad!\")\n",
    "print(\"Pakistan zinda bad!\")\n",
    "````"
   ]
  },
  {
   "cell_type": "code",
   "execution_count": 1,
   "id": "cb3e3887",
   "metadata": {},
   "outputs": [
    {
     "name": "stdout",
     "output_type": "stream",
     "text": [
      "Pakistan zinda bad!\n",
      "Pakistan zinda bad!\n",
      "Pakistan zinda bad!\n",
      "Pakistan zinda bad!\n",
      "Pakistan zinda bad!\n",
      "Pakistan zinda bad!\n",
      "Pakistan zinda bad!\n",
      "Pakistan zinda bad!\n",
      "Pakistan zinda bad!\n",
      "Pakistan zinda bad!\n",
      "Pakistan zinda bad!\n",
      "Pakistan zinda bad!\n",
      "Pakistan zinda bad!\n",
      "Pakistan zinda bad!\n"
     ]
    }
   ],
   "source": [
    "print(\"Pakistan zinda bad!\")\n",
    "print(\"Pakistan zinda bad!\")\n",
    "print(\"Pakistan zinda bad!\")\n",
    "print(\"Pakistan zinda bad!\")\n",
    "print(\"Pakistan zinda bad!\")\n",
    "print(\"Pakistan zinda bad!\")\n",
    "print(\"Pakistan zinda bad!\")\n",
    "print(\"Pakistan zinda bad!\")\n",
    "print(\"Pakistan zinda bad!\")\n",
    "print(\"Pakistan zinda bad!\")\n",
    "print(\"Pakistan zinda bad!\")\n",
    "print(\"Pakistan zinda bad!\")\n",
    "print(\"Pakistan zinda bad!\")\n",
    "print(\"Pakistan zinda bad!\")"
   ]
  },
  {
   "cell_type": "code",
   "execution_count": 4,
   "id": "7ebd9eb1",
   "metadata": {},
   "outputs": [
    {
     "data": {
      "text/plain": [
       "'Pakistan zinda bad!'"
      ]
     },
     "execution_count": 4,
     "metadata": {},
     "output_type": "execute_result"
    }
   ],
   "source": [
    "'Pakistan zinda bad!'\n",
    "'Pakistan zinda bad!'\n",
    "'Pakistan zinda bad!' # last line return"
   ]
  },
  {
   "cell_type": "code",
   "execution_count": 5,
   "id": "cedc0128",
   "metadata": {},
   "outputs": [
    {
     "data": {
      "text/plain": [
       "True"
      ]
     },
     "execution_count": 5,
     "metadata": {},
     "output_type": "execute_result"
    }
   ],
   "source": [
    "a = 5\n",
    "b = 7\n",
    "\n",
    "a < b"
   ]
  },
  {
   "cell_type": "markdown",
   "id": "6831d020",
   "metadata": {},
   "source": [
    "## Now use Boolean logic with if block\n",
    "### if\n",
    "\n",
    "```\n",
    "if Logic:  # True|False\n",
    "    return_True_block_body\n",
    "else:\n",
    "    return_False_block_body\n",
    "\n",
    "```"
   ]
  },
  {
   "cell_type": "code",
   "execution_count": 6,
   "id": "687c35a7",
   "metadata": {},
   "outputs": [
    {
     "name": "stdout",
     "output_type": "stream",
     "text": [
      "Pakistan\n"
     ]
    }
   ],
   "source": [
    "if True:\n",
    "    print(\"Pakistan\")\n",
    "else:\n",
    "    print(\"USA\")"
   ]
  },
  {
   "cell_type": "code",
   "execution_count": 7,
   "id": "70253763",
   "metadata": {},
   "outputs": [
    {
     "name": "stdout",
     "output_type": "stream",
     "text": [
      "USA\n"
     ]
    }
   ],
   "source": [
    "if False:\n",
    "    print(\"Pakistan\")\n",
    "else:\n",
    "    print(\"USA\")"
   ]
  },
  {
   "cell_type": "code",
   "execution_count": 9,
   "id": "6d24698e",
   "metadata": {},
   "outputs": [
    {
     "name": "stdout",
     "output_type": "stream",
     "text": [
      "A = 5 lessthen or equal B = 7\n"
     ]
    }
   ],
   "source": [
    "a = 5\n",
    "b = 7\n",
    "\n",
    "if a > b:\n",
    "    print(f\"A = {a} is graterthan B = {b}\")\n",
    "else:\n",
    "    print(f\"A = {a} lessthen or equal B = {b}\")\n"
   ]
  },
  {
   "cell_type": "raw",
   "id": "6398a5ba",
   "metadata": {},
   "source": [
    "if False:\n",
    "    print(f\"A = {a} is graterthan B = {b}\")\n",
    "else:\n",
    "    print(f\"A = {a} lessthen or equal B = {b}\")\n"
   ]
  },
  {
   "cell_type": "code",
   "execution_count": null,
   "id": "43b9eb46",
   "metadata": {},
   "outputs": [],
   "source": [
    "a = 20\n",
    "b = 7\n",
    "\n",
    "if a > b:\n",
    "    print(f\"A = {a} is graterthan B = {b}\")\n",
    "else:\n",
    "    print(f\"A = {a} lessthen or equal B = {b}\")\n"
   ]
  },
  {
   "cell_type": "raw",
   "id": "63825b79",
   "metadata": {},
   "source": [
    "\n",
    "if True:\n",
    "    print(f\"A = {a} is graterthan B = {b}\")\n",
    "else:\n",
    "    print(f\"A = {a} lessthen or equal B = {b}\")\n"
   ]
  },
  {
   "cell_type": "markdown",
   "id": "4216a36c",
   "metadata": {},
   "source": [
    "# if, elif, else"
   ]
  },
  {
   "cell_type": "code",
   "execution_count": 10,
   "id": "ac160f6b",
   "metadata": {},
   "outputs": [
    {
     "name": "stdout",
     "output_type": "stream",
     "text": [
      "A value is 7 lessthen B value is: 10\n"
     ]
    }
   ],
   "source": [
    "a = 7\n",
    "b = 10\n",
    "\n",
    "# run one block from below if,elif or else block\n",
    "if a > b:\n",
    "    print(f\"A value is {a}  graterthen B value is:{b}\")\n",
    "elif a < b:\n",
    "    print(f\"A value is {a} lessthen B value is: {b}\")\n",
    "else:\n",
    "    print(f\"A value is {a} equal to B value is: {b}\")\n"
   ]
  },
  {
   "cell_type": "code",
   "execution_count": 11,
   "id": "bec93255",
   "metadata": {},
   "outputs": [
    {
     "name": "stdout",
     "output_type": "stream",
     "text": [
      "A value is 20  graterthen B value is:10\n"
     ]
    }
   ],
   "source": [
    "a = 20\n",
    "b = 10\n",
    "\n",
    "# run one block from below if,elif or else block\n",
    "if a > b:\n",
    "    print(f\"A value is {a}  graterthen B value is:{b}\")\n",
    "elif a < b:\n",
    "    print(f\"A value is {a} lessthen B value is: {b}\")\n",
    "else:\n",
    "    print(f\"A value is {a} equal to B value is: {b}\")\n"
   ]
  },
  {
   "cell_type": "code",
   "execution_count": 12,
   "id": "07792464",
   "metadata": {},
   "outputs": [
    {
     "name": "stdout",
     "output_type": "stream",
     "text": [
      "A value is 10 equal to B value is: 10\n"
     ]
    }
   ],
   "source": [
    "a = 10\n",
    "b = 10\n",
    "\n",
    "# run one block from below if,elif or else block\n",
    "if a > b:\n",
    "    print(f\"A value is {a}  graterthen B value is:{b}\")\n",
    "elif a < b:\n",
    "    print(f\"A value is {a} lessthen B value is: {b}\")\n",
    "else:\n",
    "    print(f\"A value is {a} equal to B value is: {b}\")\n"
   ]
  },
  {
   "cell_type": "markdown",
   "id": "c2eb1cdf",
   "metadata": {},
   "source": [
    "# Grading Example"
   ]
  },
  {
   "cell_type": "code",
   "execution_count": 19,
   "id": "6d889560",
   "metadata": {},
   "outputs": [
    {
     "name": "stdout",
     "output_type": "stream",
     "text": [
      "E\n"
     ]
    }
   ],
   "source": [
    "per = 33\n",
    "\n",
    "if per >= 80:\n",
    "    print(\"A+\")\n",
    "elif per >= 70:\n",
    "    print(\"A\")\n",
    "elif per >= 60:\n",
    "    print(\"B\")\n",
    "elif per >= 50:\n",
    "    print(\"C\")\n",
    "elif per >= 40:\n",
    "    print(\"D\")\n",
    "elif per >= 33:\n",
    "    print(\"E\")\n",
    "else:\n",
    "    print(\"Fail\")"
   ]
  },
  {
   "cell_type": "markdown",
   "id": "051bc616",
   "metadata": {},
   "source": [
    "# Logical Error"
   ]
  },
  {
   "cell_type": "code",
   "execution_count": 21,
   "id": "4d69418f",
   "metadata": {},
   "outputs": [
    {
     "name": "stdout",
     "output_type": "stream",
     "text": [
      "Fail\n"
     ]
    }
   ],
   "source": [
    "a = 82\n",
    "\n",
    "if a >= 0:\n",
    "    print(\"Fail\")\n",
    "elif a >= 33:\n",
    "    print(\"E\")\n",
    "elif a >= 40:\n",
    "    print(\"D\")\n",
    "elif a >= 50:\n",
    "    print(\"C\")\n",
    "elif a >= 60:\n",
    "    print(\"B\")\n",
    "elif a >= 70:\n",
    "    print(\"A\")\n",
    "elif a >= 80:\n",
    "    print(\"A+\")"
   ]
  },
  {
   "cell_type": "code",
   "execution_count": 22,
   "id": "448bf56d",
   "metadata": {},
   "outputs": [
    {
     "name": "stdout",
     "output_type": "stream",
     "text": [
      "Fail\n",
      "pakistan\n"
     ]
    }
   ],
   "source": [
    "a = 82\n",
    "\n",
    "if True:\n",
    "    print(\"Fail\")\n",
    "elif 82 >= 33:\n",
    "    print(\"E\")\n",
    "elif 82 >= 40:\n",
    "    print(\"D\")\n",
    "elif 82 >= 50:\n",
    "    print(\"C\")\n",
    "elif 82 >= 60:\n",
    "    print(\"B\")\n",
    "elif 82 >= 70:\n",
    "    print(\"A\")\n",
    "elif 82 >= 80:\n",
    "    print(\"A+\")\n",
    "    \n",
    "print(\"pakistan\")"
   ]
  },
  {
   "cell_type": "markdown",
   "id": "e4fe91d6",
   "metadata": {},
   "source": [
    "# Relogic the code"
   ]
  },
  {
   "cell_type": "code",
   "execution_count": 23,
   "id": "3051e0bf",
   "metadata": {},
   "outputs": [
    {
     "name": "stdout",
     "output_type": "stream",
     "text": [
      "A+\n"
     ]
    }
   ],
   "source": [
    "a = 82\n",
    "\n",
    "if a >= 0 and a < 33:\n",
    "    print(\"Fail\")\n",
    "elif a >= 33 and a < 40:\n",
    "    print(\"E\")\n",
    "elif a >= 40 and a < 50:\n",
    "    print(\"D\")\n",
    "elif a >= 50 and a < 60:\n",
    "    print(\"C\")\n",
    "elif a >= 60 and a < 70:\n",
    "    print(\"B\")\n",
    "elif a >= 70 and a < 80:\n",
    "    print(\"A\")\n",
    "elif a >= 80:\n",
    "    print(\"A+\")"
   ]
  },
  {
   "cell_type": "code",
   "execution_count": 24,
   "id": "df72433e",
   "metadata": {},
   "outputs": [
    {
     "name": "stdout",
     "output_type": "stream",
     "text": [
      "True\n",
      "False\n",
      "False\n",
      "False\n"
     ]
    }
   ],
   "source": [
    "print(True and True)\n",
    "print(True and False)\n",
    "print(False and True)\n",
    "print(False and False)"
   ]
  },
  {
   "cell_type": "raw",
   "id": "6243e2c1",
   "metadata": {},
   "source": [
    "a = 82\n",
    "\n",
    "if True and False:\n",
    "    print(\"Fail\")\n",
    "elif True and False:\n",
    "    print(\"E\")\n",
    "elif True and False:\n",
    "    print(\"D\")\n",
    "elif True and False:\n",
    "    print(\"C\")\n",
    "elif True and False:\n",
    "    print(\"B\")\n",
    "elif True and False:\n",
    "    print(\"A\")\n",
    "elif True:\n",
    "    print(\"A+\") # this will be print"
   ]
  },
  {
   "cell_type": "code",
   "execution_count": null,
   "id": "1606b09a",
   "metadata": {},
   "outputs": [],
   "source": [
    "True and (True or False or False or True)\n",
    "True and True\n",
    "True"
   ]
  },
  {
   "cell_type": "code",
   "execution_count": 26,
   "id": "c3474617",
   "metadata": {},
   "outputs": [
    {
     "name": "stdout",
     "output_type": "stream",
     "text": [
      "UserName: UserName|email|phoneqasim077\n",
      "Password!admin123\n",
      "Welcome Dear qasim077 NED portal\n"
     ]
    }
   ],
   "source": [
    "username = input(\"UserName: UserName|email|phone\")\n",
    "password = input(\"Password!\")\n",
    "\n",
    "# qasim user: qasim077, m.qasim077@gmail, 03152968211, password: admin123\n",
    "\n",
    "if (username == 'qasim077' or username == 'm.qasim077@gmail.com' or username == '03152968211') and password == \"admin123\" :\n",
    "    print(f\"Welcome Dear {username} NED portal\")\n",
    "else:\n",
    "    print(\"Invalid user!\")"
   ]
  },
  {
   "cell_type": "code",
   "execution_count": 27,
   "id": "0b006440",
   "metadata": {},
   "outputs": [
    {
     "name": "stdout",
     "output_type": "stream",
     "text": [
      "UserName: UserName|email|phonem.qasim077@gmail.com\n",
      "Password!admin123\n",
      "Welcome Dear m.qasim077@gmail.com NED portal\n"
     ]
    }
   ],
   "source": [
    "username = input(\"UserName: UserName|email|phone\")\n",
    "password = input(\"Password!\")\n",
    "\n",
    "# qasim user: qasim077, m.qasim077@gmail, 03152968211, password: admin123\n",
    "\n",
    "if (username == 'qasim077' or username == 'm.qasim077@gmail.com' or username == '03152968211') and password == \"admin123\" :\n",
    "    print(f\"Welcome Dear {username} NED portal\")\n",
    "else:\n",
    "    print(\"Invalid user!\")"
   ]
  },
  {
   "cell_type": "code",
   "execution_count": 28,
   "id": "b8f5bed0",
   "metadata": {},
   "outputs": [
    {
     "name": "stdout",
     "output_type": "stream",
     "text": [
      "UserName: UserName|email|phone03152968211\n",
      "Password!admin123\n",
      "Welcome Dear 03152968211 NED portal\n"
     ]
    }
   ],
   "source": [
    "username = input(\"UserName: UserName|email|phone\")\n",
    "password = input(\"Password!\")\n",
    "\n",
    "# qasim user: qasim077, m.qasim077@gmail, 03152968211, password: admin123\n",
    "\n",
    "if (username == 'qasim077' or username == 'm.qasim077@gmail.com' or username == '03152968211') and password == \"admin123\" :\n",
    "    print(f\"Welcome Dear {username} NED portal\")\n",
    "else:\n",
    "    print(\"Invalid user!\")"
   ]
  },
  {
   "cell_type": "code",
   "execution_count": 29,
   "id": "57a2f01c",
   "metadata": {},
   "outputs": [
    {
     "name": "stdout",
     "output_type": "stream",
     "text": [
      "UserName: UserName|email|phoneqasim077\n",
      "Password!aaaaaa\n",
      "Invalid user!\n"
     ]
    }
   ],
   "source": [
    "username = input(\"UserName: UserName|email|phone\")\n",
    "password = input(\"Password!\")\n",
    "\n",
    "# qasim user: qasim077, m.qasim077@gmail.com, 03152968211, password: admin123\n",
    "\n",
    "if (username == 'qasim077' or username == 'm.qasim077@gmail.com' or username == '03152968211') \\\n",
    "and password == \"admin123\" :\n",
    "    print(f\"Welcome Dear {username} NED portal\")\n",
    "else:\n",
    "    print(\"Invalid user!\")"
   ]
  },
  {
   "cell_type": "code",
   "execution_count": null,
   "id": "7c88b164",
   "metadata": {},
   "outputs": [],
   "source": [
    "Task1\n",
    "* create variable <nationality>, city, university, age\n",
    "* 18+, NED, nationality -> Local students | International Students"
   ]
  },
  {
   "cell_type": "code",
   "execution_count": 32,
   "id": "1a3e0deb",
   "metadata": {},
   "outputs": [
    {
     "name": "stdout",
     "output_type": "stream",
     "text": [
      "Nationalitypakistani\n",
      "CityIslamabad\n",
      "University Name:NED\n",
      "Your Age:30\n",
      "****NED local Student\n"
     ]
    }
   ],
   "source": [
    "nationality = input(\"Nationality\")\n",
    "city = input(\"City\")\n",
    "university = input(\"University Name:\")\n",
    "age = int(input(\"Your Age:\"))\n",
    "\n",
    "if nationality == \"pakistani\" and age >= 18 and university == \"NED\":\n",
    "    print(\"****NED local Student\")\n",
    "elif nationality != 'pakistani' and age >= 18 and university == \"NED\":\n",
    "    print(\"****NED international students!\")\n",
    "else:\n",
    "    print(\"****Not our Students!\")"
   ]
  },
  {
   "cell_type": "code",
   "execution_count": 33,
   "id": "f91a776d",
   "metadata": {},
   "outputs": [
    {
     "name": "stdout",
     "output_type": "stream",
     "text": [
      "Nationalityindian\n",
      "CityDehli\n",
      "University Name:MIT\n",
      "Your Age:25\n",
      "****Not our Students!\n"
     ]
    }
   ],
   "source": [
    "nationality = input(\"Nationality\")\n",
    "city = input(\"City\")\n",
    "university = input(\"University Name:\")\n",
    "age = int(input(\"Your Age:\"))\n",
    "\n",
    "if nationality == \"pakistani\" and age >= 18 and university == \"NED\":\n",
    "    print(\"****NED local Student\")\n",
    "elif nationality != 'pakistani' and age >= 18 and university == \"NED\":\n",
    "    print(\"****NED international students!\")\n",
    "else:\n",
    "    print(\"****Not our Students!\")"
   ]
  },
  {
   "cell_type": "markdown",
   "id": "f854d24c",
   "metadata": {},
   "source": [
    "# if else comprehensive style\n",
    "* write all logic in one line\n",
    "```\n",
    "if Logic: \n",
    "    return_True_block_body\n",
    "else:\n",
    "    return_False_block_body\n",
    "\n",
    "```\n",
    "\n",
    "### Comprehensiv style\n",
    "\n",
    "```\n",
    "return_True_block_body if Logic else return_False_block_body\n",
    "```"
   ]
  },
  {
   "cell_type": "code",
   "execution_count": 34,
   "id": "7a3678bd",
   "metadata": {},
   "outputs": [
    {
     "name": "stdout",
     "output_type": "stream",
     "text": [
      "A<=B\n"
     ]
    }
   ],
   "source": [
    "a = 7\n",
    "b = 10\n",
    "\n",
    "if a > b:\n",
    "    print(\"A>B\")\n",
    "else:\n",
    "    print(\"A<=B\")"
   ]
  },
  {
   "cell_type": "code",
   "execution_count": 35,
   "id": "b92a4cf8",
   "metadata": {},
   "outputs": [
    {
     "name": "stdout",
     "output_type": "stream",
     "text": [
      "A<=B\n"
     ]
    }
   ],
   "source": [
    "#true_block      logic       else_block\n",
    "print(\"A>B\") if a > b else print(\"A<=B\")"
   ]
  },
  {
   "cell_type": "markdown",
   "id": "c5d5c229",
   "metadata": {},
   "source": [
    "# Tuple"
   ]
  },
  {
   "cell_type": "code",
   "execution_count": 36,
   "id": "dcb26f93",
   "metadata": {},
   "outputs": [
    {
     "data": {
      "text/plain": [
       "'Pakistan'"
      ]
     },
     "execution_count": 36,
     "metadata": {},
     "output_type": "execute_result"
    }
   ],
   "source": [
    "data = (\"Pakistan\",\"China\",\"USA\")\n",
    "data[0]"
   ]
  },
  {
   "cell_type": "code",
   "execution_count": 37,
   "id": "c267a622",
   "metadata": {},
   "outputs": [
    {
     "ename": "TypeError",
     "evalue": "'tuple' object does not support item assignment",
     "output_type": "error",
     "traceback": [
      "\u001b[0;31m----------------------------------------------------------------------\u001b[0m",
      "\u001b[0;31mTypeError\u001b[0m                            Traceback (most recent call last)",
      "\u001b[0;32m<ipython-input-37-d57b1c4cf005>\u001b[0m in \u001b[0;36m<module>\u001b[0;34m\u001b[0m\n\u001b[0;32m----> 1\u001b[0;31m \u001b[0mdata\u001b[0m\u001b[0;34m[\u001b[0m\u001b[0;36m0\u001b[0m\u001b[0;34m]\u001b[0m \u001b[0;34m=\u001b[0m \u001b[0;34m\"PK\"\u001b[0m\u001b[0;34m\u001b[0m\u001b[0;34m\u001b[0m\u001b[0m\n\u001b[0m",
      "\u001b[0;31mTypeError\u001b[0m: 'tuple' object does not support item assignment"
     ]
    }
   ],
   "source": [
    "data[0] = \"PK\""
   ]
  },
  {
   "cell_type": "code",
   "execution_count": 38,
   "id": "7d5e3847",
   "metadata": {},
   "outputs": [
    {
     "data": {
      "text/plain": [
       "('PK', 'China', 'USA')"
      ]
     },
     "execution_count": 38,
     "metadata": {},
     "output_type": "execute_result"
    }
   ],
   "source": [
    "data = (\"PK\",\"China\",\"USA\")\n",
    "data"
   ]
  },
  {
   "cell_type": "code",
   "execution_count": 39,
   "id": "8c34b51b",
   "metadata": {},
   "outputs": [
    {
     "data": {
      "text/plain": [
       "['__add__',\n",
       " '__class__',\n",
       " '__contains__',\n",
       " '__delattr__',\n",
       " '__dir__',\n",
       " '__doc__',\n",
       " '__eq__',\n",
       " '__format__',\n",
       " '__ge__',\n",
       " '__getattribute__',\n",
       " '__getitem__',\n",
       " '__getnewargs__',\n",
       " '__gt__',\n",
       " '__hash__',\n",
       " '__init__',\n",
       " '__init_subclass__',\n",
       " '__iter__',\n",
       " '__le__',\n",
       " '__len__',\n",
       " '__lt__',\n",
       " '__mul__',\n",
       " '__ne__',\n",
       " '__new__',\n",
       " '__reduce__',\n",
       " '__reduce_ex__',\n",
       " '__repr__',\n",
       " '__rmul__',\n",
       " '__setattr__',\n",
       " '__sizeof__',\n",
       " '__str__',\n",
       " '__subclasshook__',\n",
       " 'count',\n",
       " 'index']"
      ]
     },
     "execution_count": 39,
     "metadata": {},
     "output_type": "execute_result"
    }
   ],
   "source": [
    "dir(data)"
   ]
  },
  {
   "cell_type": "code",
   "execution_count": null,
   "id": "e0d5d36a",
   "metadata": {},
   "outputs": [],
   "source": []
  }
 ],
 "metadata": {
  "kernelspec": {
   "display_name": "Python 3",
   "language": "python",
   "name": "python3"
  },
  "language_info": {
   "codemirror_mode": {
    "name": "ipython",
    "version": 3
   },
   "file_extension": ".py",
   "mimetype": "text/x-python",
   "name": "python",
   "nbconvert_exporter": "python",
   "pygments_lexer": "ipython3",
   "version": "3.7.15"
  }
 },
 "nbformat": 4,
 "nbformat_minor": 5
}
