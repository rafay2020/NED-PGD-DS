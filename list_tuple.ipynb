{
 "cells": [
  {
   "cell_type": "code",
   "execution_count": 5,
   "id": "2a493a53",
   "metadata": {},
   "outputs": [
    {
     "name": "stdout",
     "output_type": "stream",
     "text": [
      "<class 'str'>\n",
      "Qasim\n",
      "Ali\n",
      "Asif\n"
     ]
    }
   ],
   "source": [
    "sname1 = \"Qasim\"\n",
    "sname2 = \"Ali\"\n",
    "sname3 = \"Asif\"\n",
    "\n",
    "print(type(sname1))\n",
    "print(sname1)\n",
    "print(sname2)\n",
    "print(sname3)"
   ]
  },
  {
   "cell_type": "markdown",
   "id": "40758971",
   "metadata": {},
   "source": [
    "https://www.w3schools.com/python/python_lists.asp#:~:text=%2C%20%22cherry%22%5D-,List,with%20different%20qualities%20and%20usage."
   ]
  },
  {
   "cell_type": "code",
   "execution_count": 6,
   "id": "460ec2fa",
   "metadata": {},
   "outputs": [
    {
     "name": "stdout",
     "output_type": "stream",
     "text": [
      "<class 'list'>\n",
      "['Qasim', 'Ali', 'Asif']\n"
     ]
    }
   ],
   "source": [
    "#index -->          0      1      2\n",
    "student_names = [\"Qasim\",\"Ali\",\"Asif\"]\n",
    "#index <--          -3     -2    -1\n",
    "\n",
    "print(type(student_names))\n",
    "print(student_names)"
   ]
  },
  {
   "cell_type": "code",
   "execution_count": 8,
   "id": "fb2d0d89",
   "metadata": {},
   "outputs": [
    {
     "name": "stdout",
     "output_type": "stream",
     "text": [
      "Ali\n",
      "Ali\n"
     ]
    }
   ],
   "source": [
    "#index -->          0      1      2\n",
    "student_names = [\"Qasim\",\"Ali\",\"Asif\"]\n",
    "#index <--          -3     -2    -1\n",
    "#variable[index]\n",
    "\n",
    "\n",
    "print(student_names[1])\n",
    "print(student_names[-2])"
   ]
  },
  {
   "cell_type": "code",
   "execution_count": 10,
   "id": "31a15c38",
   "metadata": {},
   "outputs": [
    {
     "name": "stdout",
     "output_type": "stream",
     "text": [
      "Qasim Ali Asif\n",
      "Qasim Ali Asif\n"
     ]
    }
   ],
   "source": [
    "#index -->          0      1      2\n",
    "student_names = [\"Qasim\",\"Ali\",\"Asif\"]\n",
    "#index <--          -3     -2    -1\n",
    "#variable[index]\n",
    "\n",
    "print(*student_names)\n",
    "print(student_names[0], student_names[1], student_names[2])"
   ]
  },
  {
   "cell_type": "code",
   "execution_count": 14,
   "id": "876d0964",
   "metadata": {},
   "outputs": [
    {
     "data": {
      "text/plain": [
       "['A',\n",
       " 'B',\n",
       " 'C',\n",
       " 'D',\n",
       " 'E',\n",
       " 'F',\n",
       " 'G',\n",
       " 'H',\n",
       " 'I',\n",
       " 'J',\n",
       " 'K',\n",
       " 'L',\n",
       " 'M',\n",
       " 'N',\n",
       " 'O',\n",
       " 'P',\n",
       " 'Q',\n",
       " 'R',\n",
       " 'S',\n",
       " 'T',\n",
       " 'U',\n",
       " 'V',\n",
       " 'W',\n",
       " 'X',\n",
       " 'Y',\n",
       " 'Z']"
      ]
     },
     "execution_count": 14,
     "metadata": {},
     "output_type": "execute_result"
    }
   ],
   "source": [
    "# Optional\n",
    "abc = [chr(i) for i in range(65,91)]\n",
    "abc"
   ]
  },
  {
   "cell_type": "markdown",
   "id": "e1b46060",
   "metadata": {},
   "source": [
    "# Slicing\n",
    "list[start:end:step]\n",
    "* start: include\n",
    "* end: exclude or end_index - 1\n",
    "* step: sequance = 1"
   ]
  },
  {
   "cell_type": "code",
   "execution_count": 16,
   "id": "537b283c",
   "metadata": {},
   "outputs": [
    {
     "name": "stdout",
     "output_type": "stream",
     "text": [
      "['A', 'B', 'C', 'D', 'E', 'F', 'G', 'H', 'I', 'J', 'K', 'L', 'M', 'N', 'O', 'P', 'Q', 'R', 'S', 'T', 'U', 'V', 'W', 'X', 'Y', 'Z']\n"
     ]
    }
   ],
   "source": [
    "abc = ['A', 'B', 'C', 'D', 'E', 'F', 'G', 'H', 'I', 'J', 'K', 'L', 'M', 'N', 'O', 'P', 'Q', 'R','S','T','U','V','W','X','Y','Z']\n",
    "\n",
    "\n",
    "print(abc)"
   ]
  },
  {
   "cell_type": "code",
   "execution_count": 23,
   "id": "111bb967",
   "metadata": {},
   "outputs": [
    {
     "name": "stdout",
     "output_type": "stream",
     "text": [
      "['B', 'C', 'D', 'E']\n",
      "['B', 'C', 'D', 'E']\n",
      "['B', 'C', 'D', 'E']\n",
      "[]\n"
     ]
    }
   ],
   "source": [
    "#       0    1    2    3    4    5    6    7    8    9    10   11   12   13  14    15   16  17   18  19  20  21  22  23  24  25\n",
    "abc = ['A', 'B', 'C', 'D', 'E', 'F', 'G', 'H', 'I', 'J', 'K', 'L', 'M', 'N', 'O', 'P', 'Q', 'R','S','T','U','V','W','X','Y','Z']\n",
    "#      -26.. .......................................................................... .....................................-1\n",
    "# always run from left to right\n",
    "\n",
    "\n",
    "print(abc[1:5])\n",
    "print(abc[-25:5])\n",
    "print(abc[-25:-21])\n",
    "print(abc[-21:-25])"
   ]
  },
  {
   "cell_type": "code",
   "execution_count": 29,
   "id": "23e41b20",
   "metadata": {},
   "outputs": [
    {
     "name": "stdout",
     "output_type": "stream",
     "text": [
      "['A', 'B', 'C', 'D', 'E']\n",
      "['V', 'W', 'X', 'Y', 'Z']\n"
     ]
    }
   ],
   "source": [
    "#       0    1    2    3    4    5    6    7    8    9    10   11   12   13  14    15   16  17   18  19  20  21  22  23  24  25\n",
    "abc = ['A', 'B', 'C', 'D', 'E', 'F', 'G', 'H', 'I', 'J', 'K', 'L', 'M', 'N', 'O', 'P', 'Q', 'R','S','T','U','V','W','X','Y','Z']\n",
    "#      -26.. .......................................................................... .....................................-1\n",
    "# always run from left to right\n",
    "\n",
    "print(abc[:5])\n",
    "print(abc[5:])\n",
    "print(abc[-5:])"
   ]
  },
  {
   "cell_type": "code",
   "execution_count": 36,
   "id": "fa062b2b",
   "metadata": {},
   "outputs": [
    {
     "name": "stdout",
     "output_type": "stream",
     "text": [
      "['A', 'B', 'C', 'D', 'E', 'F', 'G', 'H', 'I', 'J', 'K', 'L', 'M', 'N', 'O', 'P', 'Q', 'R', 'S', 'T', 'U', 'V', 'W', 'X', 'Y', 'Z']\n",
      "\n",
      "['A', 'C', 'E', 'G', 'I', 'K', 'M', 'O', 'Q', 'S', 'U', 'W', 'Y']\n",
      "['A', 'D', 'G', 'J', 'M', 'P', 'S', 'V', 'Y']\n"
     ]
    }
   ],
   "source": [
    "#       0    1    2    3    4    5    6    7    8    9    10   11   12   13  14    15   16  17   18  19  20  21  22  23  24  25\n",
    "abc = ['A', 'B', 'C', 'D', 'E', 'F', 'G', 'H', 'I', 'J', 'K', 'L', 'M', 'N', 'O', 'P', 'Q', 'R','S','T','U','V','W','X','Y','Z']\n",
    "#      -26.. .......................................................................... .....................................-1\n",
    "# always run from left to right\n",
    "\n",
    "print(abc[::])# start:end:step all\n",
    "print()\n",
    "print(abc[::2])# ::2 step\n",
    "print(abc[::3])# ::2 step"
   ]
  },
  {
   "cell_type": "code",
   "execution_count": 46,
   "id": "8c57e1c2",
   "metadata": {},
   "outputs": [
    {
     "name": "stdout",
     "output_type": "stream",
     "text": [
      "['Z', 'Y', 'X', 'W', 'V', 'U', 'T', 'S', 'R', 'Q', 'P', 'O', 'N', 'M', 'L', 'K', 'J', 'I', 'H', 'G', 'F', 'E', 'D', 'C', 'B', 'A']\n",
      "['Z', 'U', 'P', 'K', 'F', 'A']\n",
      "\n",
      "['F', 'E', 'D', 'C', 'B']\n",
      "['F', 'E', 'D', 'C', 'B']\n"
     ]
    }
   ],
   "source": [
    "#       0    1    2    3    4    5    6    7    8    9    10   11   12   13  14    15   16  17   18  19  20  21  22  23  24  25\n",
    "abc = ['A', 'B', 'C', 'D', 'E', 'F', 'G', 'H', 'I', 'J', 'K', 'L', 'M', 'N', 'O', 'P', 'Q', 'R','S','T','U','V','W','X','Y','Z']\n",
    "#      -26.. .......................................................................... .....................................-1\n",
    "# always run from left to right\n",
    "\n",
    "print(abc[::-1])# start:end:step all\n",
    "print(abc[::-5])# start:end:step all\n",
    "print()\n",
    "print(abc[5:0:-1])\n",
    "\n",
    "print(abc[5:-26:-1]) # <-----"
   ]
  },
  {
   "cell_type": "code",
   "execution_count": 47,
   "id": "3ad57b74",
   "metadata": {},
   "outputs": [
    {
     "name": "stdout",
     "output_type": "stream",
     "text": [
      "[]\n"
     ]
    }
   ],
   "source": [
    "print(abc[5:0]) # ----->"
   ]
  },
  {
   "cell_type": "code",
   "execution_count": 48,
   "id": "517ce939",
   "metadata": {},
   "outputs": [
    {
     "data": {
      "text/plain": [
       "range(2, 21)"
      ]
     },
     "execution_count": 48,
     "metadata": {},
     "output_type": "execute_result"
    }
   ],
   "source": [
    "range(2,21)"
   ]
  },
  {
   "cell_type": "code",
   "execution_count": 50,
   "id": "f948b843",
   "metadata": {},
   "outputs": [
    {
     "data": {
      "text/plain": [
       "[2, 4, 6, 8, 10, 12, 14, 16, 18, 20]"
      ]
     },
     "execution_count": 50,
     "metadata": {},
     "output_type": "execute_result"
    }
   ],
   "source": [
    "list(range(2,21,2))"
   ]
  },
  {
   "cell_type": "code",
   "execution_count": 56,
   "id": "d9ede62f",
   "metadata": {},
   "outputs": [
    {
     "data": {
      "text/plain": [
       "[[1, 2, 3], [4, 5, 6], [7, 8, 9], [10, 11, 12]]"
      ]
     },
     "metadata": {},
     "output_type": "display_data"
    },
    {
     "name": "stdout",
     "output_type": "stream",
     "text": [
      "\n"
     ]
    },
    {
     "data": {
      "text/plain": [
       "[1, 2, 3]"
      ]
     },
     "metadata": {},
     "output_type": "display_data"
    },
    {
     "data": {
      "text/plain": [
       "1"
      ]
     },
     "metadata": {},
     "output_type": "display_data"
    }
   ],
   "source": [
    "data = [[1,2,3],\n",
    "       [4,5,6],\n",
    "       [7,8,9],\n",
    "       [10,11,12]] #list of list = metrics = nested list\n",
    "\n",
    "display(data)\n",
    "print()\n",
    "display(data[0])\n",
    "display(data[0][0])"
   ]
  },
  {
   "cell_type": "code",
   "execution_count": 59,
   "id": "6a33ddff",
   "metadata": {},
   "outputs": [
    {
     "name": "stdout",
     "output_type": "stream",
     "text": [
      "[[1, 2, 3], [4, 5, 6], [7, 8, 9], [10, 11, 12]]\n"
     ]
    },
    {
     "data": {
      "text/plain": [
       "[[100, 2, 3], [4, 5, 6], [7, 8, 9], [10, 11, 12]]"
      ]
     },
     "metadata": {},
     "output_type": "display_data"
    }
   ],
   "source": [
    "data = [[1,2,3],\n",
    "       [4,5,6],\n",
    "       [7,8,9],\n",
    "       [10,11,12]] #list of list = metrics = nested list\n",
    "\n",
    "print(data)\n",
    "\n",
    "data[0][0] = 100 #mutable = changeable\n",
    "\n",
    "display(data)"
   ]
  },
  {
   "cell_type": "markdown",
   "id": "72b0e1de",
   "metadata": {},
   "source": [
    "# List Methods"
   ]
  },
  {
   "cell_type": "code",
   "execution_count": 67,
   "id": "810eb172",
   "metadata": {},
   "outputs": [
    {
     "data": {
      "text/plain": [
       "['append',\n",
       " 'clear',\n",
       " 'copy',\n",
       " 'count',\n",
       " 'extend',\n",
       " 'index',\n",
       " 'insert',\n",
       " 'pop',\n",
       " 'remove',\n",
       " 'reverse',\n",
       " 'sort']"
      ]
     },
     "execution_count": 67,
     "metadata": {},
     "output_type": "execute_result"
    }
   ],
   "source": [
    "[i for i in dir(list) if \"_\" not in i]"
   ]
  },
  {
   "cell_type": "code",
   "execution_count": 69,
   "id": "8e9a4524",
   "metadata": {},
   "outputs": [
    {
     "name": "stdout",
     "output_type": "stream",
     "text": [
      "['Qasim']\n",
      "['Qasim', 'Asif']\n",
      "['Qasim', 'Asif', 'Ali']\n"
     ]
    }
   ],
   "source": [
    "names = []\n",
    "\n",
    "names.append(\"Qasim\");print(names)\n",
    "names.append(\"Asif\");print(names)\n",
    "names.append(\"Ali\");print(names)"
   ]
  },
  {
   "cell_type": "code",
   "execution_count": 70,
   "id": "0d7a19d8",
   "metadata": {},
   "outputs": [
    {
     "data": {
      "text/plain": [
       "['Qasim', 'Asif', 'Ali']"
      ]
     },
     "execution_count": 70,
     "metadata": {},
     "output_type": "execute_result"
    }
   ],
   "source": [
    "names"
   ]
  },
  {
   "cell_type": "code",
   "execution_count": 71,
   "id": "7bb4127a",
   "metadata": {},
   "outputs": [],
   "source": [
    "names.clear()\n"
   ]
  },
  {
   "cell_type": "code",
   "execution_count": 72,
   "id": "b9b548d3",
   "metadata": {},
   "outputs": [
    {
     "data": {
      "text/plain": [
       "[]"
      ]
     },
     "execution_count": 72,
     "metadata": {},
     "output_type": "execute_result"
    }
   ],
   "source": [
    "names"
   ]
  },
  {
   "cell_type": "code",
   "execution_count": 73,
   "id": "afe2bfd5",
   "metadata": {},
   "outputs": [
    {
     "name": "stdout",
     "output_type": "stream",
     "text": [
      "[1, 2, 3]\n",
      "[1, 2, 3]\n"
     ]
    }
   ],
   "source": [
    "a = [1,2,3]\n",
    "b = a\n",
    "print(a)\n",
    "print(b)"
   ]
  },
  {
   "cell_type": "code",
   "execution_count": 76,
   "id": "73eda6ad",
   "metadata": {},
   "outputs": [
    {
     "name": "stdout",
     "output_type": "stream",
     "text": [
      "[1, 2, 3] 139772182396032\n",
      "[1, 2, 3] 139772182396032\n",
      "[200, 2, 3] 139772182396032\n",
      "[200, 2, 3] 139772182396032\n"
     ]
    }
   ],
   "source": [
    "a = [1,2,3]\n",
    "b = a # copy shallow\n",
    "\n",
    "print(a, id(a))\n",
    "print(b, id(b))\n",
    "\n",
    "b[0] = 200\n",
    "\n",
    "print(a, id(a))\n",
    "print(b, id(b))\n"
   ]
  },
  {
   "cell_type": "code",
   "execution_count": 77,
   "id": "98bab600",
   "metadata": {},
   "outputs": [
    {
     "name": "stdout",
     "output_type": "stream",
     "text": [
      "[1, 2, 3] 139772182395952\n",
      "[1, 2, 3] 139772181836976\n",
      "[1, 2, 3] 139772182395952\n",
      "[200, 2, 3] 139772181836976\n"
     ]
    }
   ],
   "source": [
    "a = [1,2,3]\n",
    "b = a.copy() # Deep copy\n",
    "\n",
    "print(a, id(a))\n",
    "print(b, id(b))\n",
    "\n",
    "b[0] = 200\n",
    "\n",
    "print(a, id(a))\n",
    "print(b, id(b))\n"
   ]
  },
  {
   "cell_type": "code",
   "execution_count": 81,
   "id": "6e945f08",
   "metadata": {},
   "outputs": [
    {
     "name": "stdout",
     "output_type": "stream",
     "text": [
      "8\n",
      "2\n",
      "5\n",
      "1\n"
     ]
    }
   ],
   "source": [
    "a = [1,2,1,2,2,2,2,3]\n",
    "\n",
    "print(len(a))\n",
    "print(a.count(1))\n",
    "print(a.count(2))\n",
    "print(a.count(3))"
   ]
  },
  {
   "cell_type": "code",
   "execution_count": 84,
   "id": "4292da5d",
   "metadata": {},
   "outputs": [
    {
     "name": "stdout",
     "output_type": "stream",
     "text": [
      "[1, 2, 3]\n",
      "[1, 2, 3, 'a', 'b', 'c']\n",
      "[1, 2, 3]\n",
      "[1, 2, 3, 'a', 'b', 'c']\n",
      "['a', 'b', 'c']\n"
     ]
    }
   ],
   "source": [
    "a = [1,2,3]\n",
    "b = ['a','b','c']\n",
    "\n",
    "print(a)\n",
    "print(a + b)#temp\n",
    "print(a)\n",
    "a.extend(b)#per\n",
    "\n",
    "print(a)\n",
    "print(b)"
   ]
  },
  {
   "cell_type": "code",
   "execution_count": 85,
   "id": "4e6ee4b0",
   "metadata": {},
   "outputs": [
    {
     "data": {
      "text/plain": [
       "[1, 2, 3, 'a', 'b', 'c']"
      ]
     },
     "execution_count": 85,
     "metadata": {},
     "output_type": "execute_result"
    }
   ],
   "source": [
    "a"
   ]
  },
  {
   "cell_type": "code",
   "execution_count": 88,
   "id": "472a908b",
   "metadata": {},
   "outputs": [
    {
     "name": "stdout",
     "output_type": "stream",
     "text": [
      "2\n",
      "3\n"
     ]
    }
   ],
   "source": [
    "#    0  1  2   3    4    5   6\n",
    "a = [1, 2, 3, 'a', 'b', 'c','a']\n",
    "print(a.index(3))\n",
    "print(a.index('a'))"
   ]
  },
  {
   "cell_type": "code",
   "execution_count": 89,
   "id": "f1f56130",
   "metadata": {},
   "outputs": [
    {
     "data": {
      "text/plain": [
       "[1, 2, 3, 'a', 'b', 'c', 'a']"
      ]
     },
     "execution_count": 89,
     "metadata": {},
     "output_type": "execute_result"
    }
   ],
   "source": [
    "a"
   ]
  },
  {
   "cell_type": "code",
   "execution_count": 90,
   "id": "df052e94",
   "metadata": {},
   "outputs": [
    {
     "data": {
      "text/plain": [
       "[1, 'Qasim', 2, 3, 'a', 'b', 'c', 'a']"
      ]
     },
     "execution_count": 90,
     "metadata": {},
     "output_type": "execute_result"
    }
   ],
   "source": [
    "a.insert(1,\"Qasim\")\n",
    "a\n"
   ]
  },
  {
   "cell_type": "markdown",
   "id": "1011210e",
   "metadata": {},
   "source": [
    "# append Vs Extend"
   ]
  },
  {
   "cell_type": "code",
   "execution_count": 92,
   "id": "559a4001",
   "metadata": {},
   "outputs": [
    {
     "data": {
      "text/plain": [
       "[1, 2, 3, ['a', 'b']]"
      ]
     },
     "execution_count": 92,
     "metadata": {},
     "output_type": "execute_result"
    }
   ],
   "source": [
    "a = [1,2,3]\n",
    "a.append(['a','b'])\n",
    "a"
   ]
  },
  {
   "cell_type": "code",
   "execution_count": 93,
   "id": "f557127b",
   "metadata": {},
   "outputs": [
    {
     "data": {
      "text/plain": [
       "[1, 2, 3, 'a', 'b']"
      ]
     },
     "execution_count": 93,
     "metadata": {},
     "output_type": "execute_result"
    }
   ],
   "source": [
    "a = [1,2,3]\n",
    "a.extend(['a','b'])\n",
    "a"
   ]
  },
  {
   "cell_type": "code",
   "execution_count": 97,
   "id": "ddaf296c",
   "metadata": {},
   "outputs": [
    {
     "name": "stdout",
     "output_type": "stream",
     "text": [
      "[1, 2, 3, 'a']\n",
      "[1, 2, 3]\n",
      "[1, 2]\n",
      "[1]\n"
     ]
    }
   ],
   "source": [
    "a = [1, 2, 3, 'a', 'b']\n",
    "# remove last element from the list and return\n",
    "a.pop()\n",
    "print(a)\n",
    "a.pop()\n",
    "print(a)\n",
    "a.pop()\n",
    "print(a)\n",
    "a.pop()\n",
    "print(a)"
   ]
  },
  {
   "cell_type": "code",
   "execution_count": 101,
   "id": "31024de5",
   "metadata": {},
   "outputs": [
    {
     "data": {
      "text/plain": [
       "[2, 3, 'a', 'b']"
      ]
     },
     "execution_count": 101,
     "metadata": {},
     "output_type": "execute_result"
    }
   ],
   "source": [
    "a = [1, 2, 3, 'a', 'b']\n",
    "a.pop(0)#index\n",
    "a"
   ]
  },
  {
   "cell_type": "code",
   "execution_count": 103,
   "id": "b6a38dfb",
   "metadata": {},
   "outputs": [
    {
     "data": {
      "text/plain": [
       "[1, 2, 3, 'b']"
      ]
     },
     "execution_count": 103,
     "metadata": {},
     "output_type": "execute_result"
    }
   ],
   "source": [
    "a = [1, 2, 3, 'a', 'b']\n",
    "a.remove('a')#index\n",
    "a"
   ]
  },
  {
   "cell_type": "code",
   "execution_count": 106,
   "id": "e2c85c2c",
   "metadata": {},
   "outputs": [
    {
     "data": {
      "text/plain": [
       "[1, 2, 3, 4, 8]"
      ]
     },
     "execution_count": 106,
     "metadata": {},
     "output_type": "execute_result"
    }
   ],
   "source": [
    "a = [1,3,8,2,4]\n",
    "a.sort()\n",
    "a"
   ]
  },
  {
   "cell_type": "code",
   "execution_count": 108,
   "id": "31252123",
   "metadata": {},
   "outputs": [
    {
     "data": {
      "text/plain": [
       "[4, 2, 8, 3, 1]"
      ]
     },
     "execution_count": 108,
     "metadata": {},
     "output_type": "execute_result"
    }
   ],
   "source": [
    "a = [1,3,8,2,4]\n",
    "a.reverse()\n",
    "a"
   ]
  },
  {
   "cell_type": "code",
   "execution_count": 109,
   "id": "3ba8256c",
   "metadata": {},
   "outputs": [
    {
     "data": {
      "text/plain": [
       "[8, 4, 3, 2, 1]"
      ]
     },
     "execution_count": 109,
     "metadata": {},
     "output_type": "execute_result"
    }
   ],
   "source": [
    "a = [1,3,8,2,4]\n",
    "a.sort()\n",
    "a.reverse()\n",
    "a"
   ]
  },
  {
   "cell_type": "code",
   "execution_count": 110,
   "id": "325e350a",
   "metadata": {},
   "outputs": [
    {
     "data": {
      "text/plain": [
       "[8, 4, 3, 2, 1]"
      ]
     },
     "execution_count": 110,
     "metadata": {},
     "output_type": "execute_result"
    }
   ],
   "source": [
    "a = [1,3,8,2,4]\n",
    "a.sort(reverse=True)\n",
    "a"
   ]
  },
  {
   "cell_type": "code",
   "execution_count": null,
   "id": "a83220ad",
   "metadata": {},
   "outputs": [],
   "source": []
  }
 ],
 "metadata": {
  "kernelspec": {
   "display_name": "Python 3",
   "language": "python",
   "name": "python3"
  },
  "language_info": {
   "codemirror_mode": {
    "name": "ipython",
    "version": 3
   },
   "file_extension": ".py",
   "mimetype": "text/x-python",
   "name": "python",
   "nbconvert_exporter": "python",
   "pygments_lexer": "ipython3",
   "version": "3.7.15"
  }
 },
 "nbformat": 4,
 "nbformat_minor": 5
}
