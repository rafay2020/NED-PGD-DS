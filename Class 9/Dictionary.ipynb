{
 "cells": [
  {
   "cell_type": "raw",
   "id": "6cadc0e7",
   "metadata": {},
   "source": [
    "{\n",
    "    key1:value1,\n",
    "    key2:value2,\n",
    "    key2:value3\n",
    "}\n",
    "\n",
    "# always start \"{\" and \"}\"        {}\n",
    "# key and value pair\n",
    "# : seprator between key and value\n",
    "# , seprator between key:value pair \n",
    "\n",
    "# key data types always should be string and int,Boolen -> any type where we can apply hashable function \n",
    "# value = any data type can be store or assign here"
   ]
  },
  {
   "cell_type": "code",
   "execution_count": 16,
   "id": "1295071e",
   "metadata": {},
   "outputs": [
    {
     "data": {
      "text/plain": [
       "'Muhammad Qasim'"
      ]
     },
     "execution_count": 16,
     "metadata": {},
     "output_type": "execute_result"
    }
   ],
   "source": [
    "#            0              1               2    3             4                 5\n",
    "data = [\"Muhammad Qasim\",\"Muhammad Aslam\", 30, \"MSDS\", [\"AI\",\"ML\",\"DL\",\"DS\"], \"KARAS g12C\"]\n",
    "# we will replace index with key\n",
    "data[0]"
   ]
  },
  {
   "cell_type": "code",
   "execution_count": 17,
   "id": "abe7708b",
   "metadata": {},
   "outputs": [
    {
     "data": {
      "text/plain": [
       "list"
      ]
     },
     "execution_count": 17,
     "metadata": {},
     "output_type": "execute_result"
    }
   ],
   "source": [
    "type(data)"
   ]
  },
  {
   "cell_type": "code",
   "execution_count": 18,
   "id": "c8f5a386",
   "metadata": {},
   "outputs": [
    {
     "data": {
      "text/plain": [
       "{'name': 'Muhammad Qasim',\n",
       " 'father name': 'Muhammad Aslam',\n",
       " 'age': 30,\n",
       " 'education': 'MSDS',\n",
       " 'skills': ['AI', 'ML', 'DL', 'DS'],\n",
       " 0: 'Pakistan zinda bad',\n",
       " 'mutation type': 'KARAS g12C'}"
      ]
     },
     "execution_count": 18,
     "metadata": {},
     "output_type": "execute_result"
    }
   ],
   "source": [
    "data = {\n",
    "    \"name\":\"Muhammad Qasim\",\n",
    "    \"father name\": \"Muhammad Aslam\",\n",
    "    \"age\": 30,\n",
    "    \"education\": \"MSDS\",\n",
    "    \"skills\": [\"AI\",\"ML\",\"DL\",\"DS\"],\n",
    "    0:\"Pakistan zinda bad\",\n",
    "    \"mutation type\": \"KARAS g12C\"\n",
    "}\n",
    "\n",
    "data"
   ]
  },
  {
   "cell_type": "code",
   "execution_count": 20,
   "id": "45705926",
   "metadata": {},
   "outputs": [
    {
     "name": "stdout",
     "output_type": "stream",
     "text": [
      "<class 'dict'>\n"
     ]
    }
   ],
   "source": [
    "print(type(data))"
   ]
  },
  {
   "cell_type": "markdown",
   "id": "25e30d28",
   "metadata": {},
   "source": [
    "# How to access value from dictionary"
   ]
  },
  {
   "cell_type": "markdown",
   "id": "16438bd5",
   "metadata": {},
   "source": [
    "```\n",
    "dictionary[key]\n",
    "```"
   ]
  },
  {
   "cell_type": "code",
   "execution_count": 8,
   "id": "5b023c7c",
   "metadata": {},
   "outputs": [],
   "source": [
    "data = {\n",
    "    \"name\":\"Muhammad Qasim\",\n",
    "    \"father name\": \"Muhammad Aslam\",\n",
    "    \"age\": 30,\n",
    "    \"education\": \"MSDS\",\n",
    "    \"skills\": [\"AI\",\"ML\",\"DL\",\"DS\"],\n",
    "    0:\"Pakistan zinda bad\",\n",
    "    \"mutation type\": \"KARAS g12C\"\n",
    "}"
   ]
  },
  {
   "cell_type": "code",
   "execution_count": 15,
   "id": "8fdc4d00",
   "metadata": {},
   "outputs": [
    {
     "ename": "KeyError",
     "evalue": "1",
     "output_type": "error",
     "traceback": [
      "\u001b[0;31m-----------------------------------------------------------------------\u001b[0m",
      "\u001b[0;31mKeyError\u001b[0m                              Traceback (most recent call last)",
      "\u001b[0;32m<ipython-input-15-c402bf503b75>\u001b[0m in \u001b[0;36m<module>\u001b[0;34m\u001b[0m\n\u001b[0;32m----> 1\u001b[0;31m \u001b[0mdata\u001b[0m\u001b[0;34m[\u001b[0m\u001b[0;36m1\u001b[0m\u001b[0;34m]\u001b[0m\u001b[0;34m\u001b[0m\u001b[0;34m\u001b[0m\u001b[0m\n\u001b[0m",
      "\u001b[0;31mKeyError\u001b[0m: 1"
     ]
    }
   ],
   "source": [
    "data[1]"
   ]
  },
  {
   "cell_type": "code",
   "execution_count": 14,
   "id": "5172fdba",
   "metadata": {},
   "outputs": [
    {
     "data": {
      "text/plain": [
       "'Pakistan zinda bad'"
      ]
     },
     "execution_count": 14,
     "metadata": {},
     "output_type": "execute_result"
    }
   ],
   "source": [
    "data[0]# look like passing index but it is key of dictionary"
   ]
  },
  {
   "cell_type": "code",
   "execution_count": 9,
   "id": "0d9f5ec0",
   "metadata": {},
   "outputs": [
    {
     "data": {
      "text/plain": [
       "'Muhammad Qasim'"
      ]
     },
     "execution_count": 9,
     "metadata": {},
     "output_type": "execute_result"
    }
   ],
   "source": [
    "data['name']"
   ]
  },
  {
   "cell_type": "code",
   "execution_count": 10,
   "id": "10ffd0ab",
   "metadata": {},
   "outputs": [
    {
     "data": {
      "text/plain": [
       "'Muhammad Aslam'"
      ]
     },
     "execution_count": 10,
     "metadata": {},
     "output_type": "execute_result"
    }
   ],
   "source": [
    "data['father name']"
   ]
  },
  {
   "cell_type": "code",
   "execution_count": 11,
   "id": "c48e7287",
   "metadata": {},
   "outputs": [
    {
     "data": {
      "text/plain": [
       "30"
      ]
     },
     "execution_count": 11,
     "metadata": {},
     "output_type": "execute_result"
    }
   ],
   "source": [
    "data['age']"
   ]
  },
  {
   "cell_type": "code",
   "execution_count": 13,
   "id": "87a66e67",
   "metadata": {},
   "outputs": [
    {
     "data": {
      "text/plain": [
       "'KARAS g12C'"
      ]
     },
     "execution_count": 13,
     "metadata": {},
     "output_type": "execute_result"
    }
   ],
   "source": [
    "data['mutation type']"
   ]
  },
  {
   "cell_type": "markdown",
   "id": "976e407f",
   "metadata": {},
   "source": [
    "# example of dictionary or JSON data \n",
    "https://dummyjson.com/products"
   ]
  },
  {
   "cell_type": "code",
   "execution_count": 22,
   "id": "075ea37a",
   "metadata": {},
   "outputs": [
    {
     "data": {
      "text/html": [
       "<div>\n",
       "<style scoped>\n",
       "    .dataframe tbody tr th:only-of-type {\n",
       "        vertical-align: middle;\n",
       "    }\n",
       "\n",
       "    .dataframe tbody tr th {\n",
       "        vertical-align: top;\n",
       "    }\n",
       "\n",
       "    .dataframe thead th {\n",
       "        text-align: right;\n",
       "    }\n",
       "</style>\n",
       "<table border=\"1\" class=\"dataframe\">\n",
       "  <thead>\n",
       "    <tr style=\"text-align: right;\">\n",
       "      <th></th>\n",
       "      <th>name</th>\n",
       "      <th>fname</th>\n",
       "      <th>courses</th>\n",
       "    </tr>\n",
       "  </thead>\n",
       "  <tbody>\n",
       "    <tr>\n",
       "      <th>0</th>\n",
       "      <td>Qasim</td>\n",
       "      <td>Aslam</td>\n",
       "      <td>ML</td>\n",
       "    </tr>\n",
       "    <tr>\n",
       "      <th>1</th>\n",
       "      <td>Hamza</td>\n",
       "      <td>Abid</td>\n",
       "      <td>Python</td>\n",
       "    </tr>\n",
       "    <tr>\n",
       "      <th>2</th>\n",
       "      <td>Junaid</td>\n",
       "      <td>Iqbal</td>\n",
       "      <td>DS</td>\n",
       "    </tr>\n",
       "  </tbody>\n",
       "</table>\n",
       "</div>"
      ],
      "text/plain": [
       "     name  fname courses\n",
       "0   Qasim  Aslam      ML\n",
       "1   Hamza   Abid  Python\n",
       "2  Junaid  Iqbal      DS"
      ]
     },
     "execution_count": 22,
     "metadata": {},
     "output_type": "execute_result"
    }
   ],
   "source": [
    "data = {\n",
    "    \"name\":[\"Qasim\",\"Hamza\",\"Junaid\"],\n",
    "    'fname': [\"Aslam\",\"Abid\",\"Iqbal\"],\n",
    "    \"courses\": [\"ML\",\"Python\",\"DS\"]\n",
    "}\n",
    "\n",
    "import pandas as pd\n",
    "df = pd.DataFrame(data)\n",
    "\n",
    "df"
   ]
  },
  {
   "cell_type": "code",
   "execution_count": 24,
   "id": "f49199eb",
   "metadata": {},
   "outputs": [
    {
     "data": {
      "text/html": [
       "<div>\n",
       "<style scoped>\n",
       "    .dataframe tbody tr th:only-of-type {\n",
       "        vertical-align: middle;\n",
       "    }\n",
       "\n",
       "    .dataframe tbody tr th {\n",
       "        vertical-align: top;\n",
       "    }\n",
       "\n",
       "    .dataframe thead th {\n",
       "        text-align: right;\n",
       "    }\n",
       "</style>\n",
       "<table border=\"1\" class=\"dataframe\">\n",
       "  <thead>\n",
       "    <tr style=\"text-align: right;\">\n",
       "      <th></th>\n",
       "      <th>products</th>\n",
       "      <th>total</th>\n",
       "      <th>skip</th>\n",
       "      <th>limit</th>\n",
       "    </tr>\n",
       "  </thead>\n",
       "  <tbody>\n",
       "    <tr>\n",
       "      <th>0</th>\n",
       "      <td>{'id': 1, 'title': 'iPhone 9', 'description': ...</td>\n",
       "      <td>100</td>\n",
       "      <td>0</td>\n",
       "      <td>30</td>\n",
       "    </tr>\n",
       "    <tr>\n",
       "      <th>1</th>\n",
       "      <td>{'id': 2, 'title': 'iPhone X', 'description': ...</td>\n",
       "      <td>100</td>\n",
       "      <td>0</td>\n",
       "      <td>30</td>\n",
       "    </tr>\n",
       "    <tr>\n",
       "      <th>2</th>\n",
       "      <td>{'id': 3, 'title': 'Samsung Universe 9', 'desc...</td>\n",
       "      <td>100</td>\n",
       "      <td>0</td>\n",
       "      <td>30</td>\n",
       "    </tr>\n",
       "    <tr>\n",
       "      <th>3</th>\n",
       "      <td>{'id': 4, 'title': 'OPPOF19', 'description': '...</td>\n",
       "      <td>100</td>\n",
       "      <td>0</td>\n",
       "      <td>30</td>\n",
       "    </tr>\n",
       "    <tr>\n",
       "      <th>4</th>\n",
       "      <td>{'id': 5, 'title': 'Huawei P30', 'description'...</td>\n",
       "      <td>100</td>\n",
       "      <td>0</td>\n",
       "      <td>30</td>\n",
       "    </tr>\n",
       "  </tbody>\n",
       "</table>\n",
       "</div>"
      ],
      "text/plain": [
       "                                            products  total  skip  limit\n",
       "0  {'id': 1, 'title': 'iPhone 9', 'description': ...    100     0     30\n",
       "1  {'id': 2, 'title': 'iPhone X', 'description': ...    100     0     30\n",
       "2  {'id': 3, 'title': 'Samsung Universe 9', 'desc...    100     0     30\n",
       "3  {'id': 4, 'title': 'OPPOF19', 'description': '...    100     0     30\n",
       "4  {'id': 5, 'title': 'Huawei P30', 'description'...    100     0     30"
      ]
     },
     "execution_count": 24,
     "metadata": {},
     "output_type": "execute_result"
    }
   ],
   "source": [
    "df1 = pd.read_json(\"https://dummyjson.com/products\")\n",
    "df1.head()"
   ]
  },
  {
   "cell_type": "markdown",
   "id": "78d661f6",
   "metadata": {},
   "source": [
    "# How we can create list"
   ]
  },
  {
   "cell_type": "code",
   "execution_count": 33,
   "id": "ab6e7c15",
   "metadata": {},
   "outputs": [
    {
     "name": "stdout",
     "output_type": "stream",
     "text": [
      "{'name': 'Muhammad Qasim', 'age': 30, 'course': 'AI'}\n",
      "{'name': 'Asif Khan', 'age': 30, 'course': 'AI'}\n"
     ]
    }
   ],
   "source": [
    "dic1  = {}\n",
    "\n",
    "dic1['name'] = \"Muhammad Qasim\"\n",
    "\n",
    "dic1['age'] = 30\n",
    "dic1[\"course\"] = \"AI\"\n",
    "\n",
    "print(dic1)\n",
    "dic1['name'] = \"Asif Khan\"# update or overwrite\n",
    "print(dic1)"
   ]
  },
  {
   "cell_type": "code",
   "execution_count": 39,
   "id": "05eb36ed",
   "metadata": {},
   "outputs": [
    {
     "data": {
      "text/plain": [
       "['clear',\n",
       " 'copy',\n",
       " 'fromkeys',\n",
       " 'get',\n",
       " 'items',\n",
       " 'keys',\n",
       " 'pop',\n",
       " 'popitem',\n",
       " 'setdefault',\n",
       " 'update',\n",
       " 'values']"
      ]
     },
     "execution_count": 39,
     "metadata": {},
     "output_type": "execute_result"
    }
   ],
   "source": [
    "[i for i in dir(data) if \"__\" not in i]"
   ]
  },
  {
   "cell_type": "code",
   "execution_count": 35,
   "id": "76f9763c",
   "metadata": {},
   "outputs": [],
   "source": []
  },
  {
   "cell_type": "code",
   "execution_count": 43,
   "id": "cfeef33b",
   "metadata": {},
   "outputs": [
    {
     "data": {
      "text/plain": [
       "{'name': 'Muhammad Qasim',\n",
       " 'fname': 'Muhammad Aslam',\n",
       " 'course': 'AI',\n",
       " 'message': 'Muhammad Qasim AI Student'}"
      ]
     },
     "execution_count": 43,
     "metadata": {},
     "output_type": "execute_result"
    }
   ],
   "source": [
    "data  = {}\n",
    "#     key               value\n",
    "data['name'] = \"Muhammad Qasim\" # add key1 value1\n",
    "data['fname'] = \"Muhammad Aslam\"\n",
    "data['course'] = \"AI\"\n",
    "data['message'] = data['name'] +\" \" +data['course'] + \" Student\"\n",
    "\n",
    "data"
   ]
  },
  {
   "cell_type": "code",
   "execution_count": 56,
   "id": "8cc39862",
   "metadata": {},
   "outputs": [
    {
     "data": {
      "text/plain": [
       "['clear',\n",
       " 'copy',\n",
       " 'fromkeys',\n",
       " 'get',\n",
       " 'items',\n",
       " 'keys',\n",
       " 'pop',\n",
       " 'popitem',\n",
       " 'setdefault',\n",
       " 'update',\n",
       " 'values']"
      ]
     },
     "execution_count": 56,
     "metadata": {},
     "output_type": "execute_result"
    }
   ],
   "source": [
    "[i for i in dir(dict) if \"__\" not in i]"
   ]
  },
  {
   "cell_type": "code",
   "execution_count": 45,
   "id": "9d4d8e8c",
   "metadata": {},
   "outputs": [
    {
     "name": "stdout",
     "output_type": "stream",
     "text": [
      "{'name': 'Muhammad Qasim', 'fname': 'Muhammad Aslam', 'course': 'AI', 'message': 'Muhammad Qasim AI Student'}\n",
      "{}\n"
     ]
    }
   ],
   "source": [
    "data  = {}\n",
    "#     key               value\n",
    "data['name'] = \"Muhammad Qasim\" # add key1 value1\n",
    "data['fname'] = \"Muhammad Aslam\"\n",
    "data['course'] = \"AI\"\n",
    "data['message'] = data['name'] +\" \" +data['course'] + \" Student\"\n",
    "\n",
    "print(data)\n",
    "data.clear()# clear all key value pairs\n",
    "print(data)"
   ]
  },
  {
   "cell_type": "code",
   "execution_count": 46,
   "id": "d9364df9",
   "metadata": {},
   "outputs": [
    {
     "data": {
      "text/plain": [
       "{}"
      ]
     },
     "execution_count": 46,
     "metadata": {},
     "output_type": "execute_result"
    }
   ],
   "source": [
    "data"
   ]
  },
  {
   "cell_type": "code",
   "execution_count": 47,
   "id": "45224591",
   "metadata": {},
   "outputs": [
    {
     "name": "stdout",
     "output_type": "stream",
     "text": [
      "{'name': 'Muhammad Qasim', 'fname': 'Muhammad Aslam', 'course': 'AI', 'message': 'Muhammad Qasim AI Student'}\n"
     ]
    },
    {
     "ename": "NameError",
     "evalue": "name 'data' is not defined",
     "output_type": "error",
     "traceback": [
      "\u001b[0;31m-----------------------------------------------------------------------\u001b[0m",
      "\u001b[0;31mNameError\u001b[0m                             Traceback (most recent call last)",
      "\u001b[0;32m<ipython-input-47-f3712eee61db>\u001b[0m in \u001b[0;36m<module>\u001b[0;34m\u001b[0m\n\u001b[1;32m      8\u001b[0m \u001b[0mprint\u001b[0m\u001b[0;34m(\u001b[0m\u001b[0mdata\u001b[0m\u001b[0;34m)\u001b[0m\u001b[0;34m\u001b[0m\u001b[0;34m\u001b[0m\u001b[0m\n\u001b[1;32m      9\u001b[0m \u001b[0;32mdel\u001b[0m \u001b[0mdata\u001b[0m \u001b[0;31m# clear all key value pairs\u001b[0m\u001b[0;34m\u001b[0m\u001b[0;34m\u001b[0m\u001b[0m\n\u001b[0;32m---> 10\u001b[0;31m \u001b[0mprint\u001b[0m\u001b[0;34m(\u001b[0m\u001b[0mdata\u001b[0m\u001b[0;34m)\u001b[0m\u001b[0;34m\u001b[0m\u001b[0;34m\u001b[0m\u001b[0m\n\u001b[0m",
      "\u001b[0;31mNameError\u001b[0m: name 'data' is not defined"
     ]
    }
   ],
   "source": [
    "data  = {}\n",
    "#     key               value\n",
    "data['name'] = \"Muhammad Qasim\" # add key1 value1\n",
    "data['fname'] = \"Muhammad Aslam\"\n",
    "data['course'] = \"AI\"\n",
    "data['message'] = data['name'] +\" \" +data['course'] + \" Student\"\n",
    "\n",
    "print(data)\n",
    "del data # delete data variable\n",
    "print(data)"
   ]
  },
  {
   "cell_type": "markdown",
   "id": "6fa7cb89",
   "metadata": {},
   "source": [
    "# shallow copy and deep copy1"
   ]
  },
  {
   "cell_type": "code",
   "execution_count": 48,
   "id": "68232b02",
   "metadata": {},
   "outputs": [],
   "source": [
    "data = {\n",
    "    'name':'Qasim',\n",
    "    'fname':'Aslam',\n",
    "    'age':30,\n",
    "    \n",
    "}\n",
    "\n",
    "data1 = data\n",
    "data2 = data\n",
    "data3 = data"
   ]
  },
  {
   "cell_type": "code",
   "execution_count": 49,
   "id": "456dbc80",
   "metadata": {},
   "outputs": [
    {
     "name": "stdout",
     "output_type": "stream",
     "text": [
      "{'name': 'Qasim', 'fname': 'Aslam', 'age': 30}\n",
      "{'name': 'Qasim', 'fname': 'Aslam', 'age': 30}\n",
      "{'name': 'Qasim', 'fname': 'Aslam', 'age': 30}\n",
      "{'name': 'Qasim', 'fname': 'Aslam', 'age': 30}\n"
     ]
    }
   ],
   "source": [
    "print(data)\n",
    "print(data1)\n",
    "print(data2)\n",
    "print(data3)"
   ]
  },
  {
   "cell_type": "code",
   "execution_count": 50,
   "id": "d0904b8f",
   "metadata": {},
   "outputs": [
    {
     "name": "stdout",
     "output_type": "stream",
     "text": [
      "{'name': 'Muhammad Qasim', 'fname': 'Aslam', 'age': 30}\n",
      "{'name': 'Muhammad Qasim', 'fname': 'Aslam', 'age': 30}\n",
      "{'name': 'Muhammad Qasim', 'fname': 'Aslam', 'age': 30}\n",
      "{'name': 'Muhammad Qasim', 'fname': 'Aslam', 'age': 30}\n"
     ]
    }
   ],
   "source": [
    "data = {\n",
    "    'name':'Qasim',\n",
    "    'fname':'Aslam',\n",
    "    'age':30,\n",
    "    \n",
    "}\n",
    "\n",
    "\n",
    "data1 = data # nickname = shallow copy\n",
    "data2 = data# nickname = shallow copy\n",
    "data3 = data# nickname = shallow copy\n",
    "\n",
    "data3['name'] = \"Muhammad Qasim\"\n",
    "\n",
    "print(data)\n",
    "print(data1)\n",
    "print(data2)\n",
    "print(data3)"
   ]
  },
  {
   "cell_type": "code",
   "execution_count": 52,
   "id": "45b3fb48",
   "metadata": {},
   "outputs": [
    {
     "name": "stdout",
     "output_type": "stream",
     "text": [
      "{'name': 'Qasim', 'fname': 'Aslam', 'age': 30}\n",
      "{'name': 'Qasim', 'fname': 'Aslam', 'age': 30}\n",
      "{'name': 'Qasim', 'fname': 'Aslam', 'age': 30}\n",
      "{'name': 'Muhammad Qasim', 'fname': 'Aslam', 'age': 30}\n"
     ]
    }
   ],
   "source": [
    "data = {\n",
    "    'name':'Qasim',\n",
    "    'fname':'Aslam',\n",
    "    'age':30,\n",
    "    \n",
    "}\n",
    "\n",
    "\n",
    "data1 = data.copy() # Deep Copy\n",
    "data2 = data.copy() # Deep Copy\n",
    "data3 = data.copy() # Deep Copy\n",
    "\n",
    "data3['name'] = \"Muhammad Qasim\"\n",
    "\n",
    "print(data)\n",
    "print(data1)\n",
    "print(data2)\n",
    "print(data3)"
   ]
  },
  {
   "cell_type": "code",
   "execution_count": 53,
   "id": "a459106f",
   "metadata": {},
   "outputs": [
    {
     "data": {
      "text/plain": [
       "{'name': None, 'Fname': None}"
      ]
     },
     "execution_count": 53,
     "metadata": {},
     "output_type": "execute_result"
    }
   ],
   "source": [
    "{\"name\":None,\n",
    "\"Fname\":None}"
   ]
  },
  {
   "cell_type": "code",
   "execution_count": 55,
   "id": "93e0faa6",
   "metadata": {},
   "outputs": [
    {
     "data": {
      "text/plain": [
       "dict"
      ]
     },
     "execution_count": 55,
     "metadata": {},
     "output_type": "execute_result"
    }
   ],
   "source": [
    "# data types below\n",
    "str\n",
    "int\n",
    "list\n",
    "tuple\n",
    "dict"
   ]
  },
  {
   "cell_type": "markdown",
   "id": "d7b03d52",
   "metadata": {},
   "source": [
    "# Create Dictionary with list of keys"
   ]
  },
  {
   "cell_type": "code",
   "execution_count": 57,
   "id": "d7f71115",
   "metadata": {},
   "outputs": [
    {
     "data": {
      "text/plain": [
       "{'name': None,\n",
       " 'fname': None,\n",
       " 'course': None,\n",
       " 'educations': None,\n",
       " 'address': None,\n",
       " 'timing': None,\n",
       " 'contact': None}"
      ]
     },
     "execution_count": 57,
     "metadata": {},
     "output_type": "execute_result"
    }
   ],
   "source": [
    "keys = [\"name\",'fname','course','educations','address','timing','contact']\n",
    "\n",
    "data = dict.fromkeys(keys)\n",
    "data"
   ]
  },
  {
   "cell_type": "code",
   "execution_count": 58,
   "id": "96ee2484",
   "metadata": {},
   "outputs": [
    {
     "data": {
      "text/plain": [
       "{'name': None,\n",
       " 'fname': None,\n",
       " 'course': None,\n",
       " 'educations': None,\n",
       " 'address': None,\n",
       " 'timing': None,\n",
       " 'contact': None}"
      ]
     },
     "execution_count": 58,
     "metadata": {},
     "output_type": "execute_result"
    }
   ],
   "source": [
    "dict.fromkeys(keys)"
   ]
  },
  {
   "cell_type": "code",
   "execution_count": 59,
   "id": "7d5055c1",
   "metadata": {},
   "outputs": [
    {
     "data": {
      "text/plain": [
       "{'name': 'Not available',\n",
       " 'fname': 'Not available',\n",
       " 'course': 'Not available',\n",
       " 'educations': 'Not available',\n",
       " 'address': 'Not available',\n",
       " 'timing': 'Not available',\n",
       " 'contact': 'Not available'}"
      ]
     },
     "execution_count": 59,
     "metadata": {},
     "output_type": "execute_result"
    }
   ],
   "source": [
    "keys = [\"name\",'fname','course','educations','address','timing','contact']\n",
    "\n",
    "data = dict.fromkeys(keys,\"Not available\")\n",
    "data"
   ]
  },
  {
   "cell_type": "markdown",
   "id": "9adb6617",
   "metadata": {},
   "source": [
    "# problem if key is not available then it show the error"
   ]
  },
  {
   "cell_type": "code",
   "execution_count": 63,
   "id": "a6cd1c61",
   "metadata": {},
   "outputs": [
    {
     "ename": "KeyError",
     "evalue": "'cnic'",
     "output_type": "error",
     "traceback": [
      "\u001b[0;31m-----------------------------------------------------------------------\u001b[0m",
      "\u001b[0;31mKeyError\u001b[0m                              Traceback (most recent call last)",
      "\u001b[0;32m<ipython-input-63-b46bc9d31079>\u001b[0m in \u001b[0;36m<module>\u001b[0;34m\u001b[0m\n\u001b[1;32m      9\u001b[0m }\n\u001b[1;32m     10\u001b[0m \u001b[0;34m\u001b[0m\u001b[0m\n\u001b[0;32m---> 11\u001b[0;31m \u001b[0mprint\u001b[0m\u001b[0;34m(\u001b[0m\u001b[0mdata\u001b[0m\u001b[0;34m[\u001b[0m\u001b[0;34m'cnic'\u001b[0m\u001b[0;34m]\u001b[0m\u001b[0;34m)\u001b[0m\u001b[0;31m# error KeyErro, it will not print others below steps\u001b[0m\u001b[0;34m\u001b[0m\u001b[0;34m\u001b[0m\u001b[0m\n\u001b[0m\u001b[1;32m     12\u001b[0m \u001b[0mprint\u001b[0m\u001b[0;34m(\u001b[0m\u001b[0;34m\"Pakistan\"\u001b[0m\u001b[0;34m)\u001b[0m\u001b[0;34m\u001b[0m\u001b[0;34m\u001b[0m\u001b[0m\n\u001b[1;32m     13\u001b[0m \u001b[0mprint\u001b[0m\u001b[0;34m(\u001b[0m\u001b[0;34m\"Hello World!\"\u001b[0m\u001b[0;34m)\u001b[0m\u001b[0;34m\u001b[0m\u001b[0;34m\u001b[0m\u001b[0m\n",
      "\u001b[0;31mKeyError\u001b[0m: 'cnic'"
     ]
    }
   ],
   "source": [
    "data = {\n",
    "    \"name\":\"Muhammad Qasim\",\n",
    "    \"father name\": \"Muhammad Aslam\",\n",
    "    \"age\": 30,\n",
    "    \"education\": \"MSDS\",\n",
    "    \"skills\": [\"AI\",\"ML\",\"DL\",\"DS\"],\n",
    "    0:\"Pakistan zinda bad\",\n",
    "    \"mutation type\": \"KARAS g12C\"\n",
    "}\n",
    "\n",
    "print(data['cnic'])# error KeyErro, it will not print others below steps\n",
    "print(\"Pakistan\")\n",
    "print(\"Hello World!\")\n",
    "print(\"We Love our country!\")"
   ]
  },
  {
   "cell_type": "code",
   "execution_count": 64,
   "id": "e4d1991b",
   "metadata": {},
   "outputs": [
    {
     "data": {
      "text/plain": [
       "'Muhammad Qasim'"
      ]
     },
     "execution_count": 64,
     "metadata": {},
     "output_type": "execute_result"
    }
   ],
   "source": [
    "data = {\n",
    "    \"name\":\"Muhammad Qasim\",\n",
    "    \"father name\": \"Muhammad Aslam\",\n",
    "    \"age\": 30,\n",
    "    \"education\": \"MSDS\",\n",
    "    \"skills\": [\"AI\",\"ML\",\"DL\",\"DS\"],\n",
    "    0:\"Pakistan zinda bad\",\n",
    "    \"mutation type\": \"KARAS g12C\"\n",
    "}\n",
    "\n",
    "data.get(\"name\")"
   ]
  },
  {
   "cell_type": "code",
   "execution_count": 65,
   "id": "2d984d34",
   "metadata": {},
   "outputs": [],
   "source": [
    "data.get(\"cnic\")"
   ]
  },
  {
   "cell_type": "code",
   "execution_count": 66,
   "id": "38931039",
   "metadata": {},
   "outputs": [
    {
     "name": "stdout",
     "output_type": "stream",
     "text": [
      "Pakistan\n",
      "Hello World!\n",
      "We Love our country!\n"
     ]
    }
   ],
   "source": [
    "print(data.get(\"cnic\"))\n",
    "print(\"Pakistan\")\n",
    "print(\"Hello World!\")\n",
    "print(\"We Love our country!\")"
   ]
  },
  {
   "cell_type": "code",
   "execution_count": 68,
   "id": "69194014",
   "metadata": {},
   "outputs": [
    {
     "name": "stdout",
     "output_type": "stream",
     "text": [
      "Muhammad Qasim\n",
      "Pakistan\n",
      "Hello World!\n",
      "We Love our country!\n"
     ]
    }
   ],
   "source": [
    "print(data.get(\"name\"))\n",
    "print(\"Pakistan\")\n",
    "print(\"Hello World!\")\n",
    "print(\"We Love our country!\")"
   ]
  },
  {
   "cell_type": "code",
   "execution_count": 71,
   "id": "d2fbb6e8",
   "metadata": {},
   "outputs": [
    {
     "name": "stdout",
     "output_type": "stream",
     "text": [
      "Not available\n"
     ]
    }
   ],
   "source": [
    "print(data.get(\"cnic\",\"Not available\"))"
   ]
  },
  {
   "cell_type": "code",
   "execution_count": 70,
   "id": "07552a01",
   "metadata": {},
   "outputs": [
    {
     "name": "stdout",
     "output_type": "stream",
     "text": [
      "Muhammad Qasim\n"
     ]
    }
   ],
   "source": [
    "print(data.get(\"name\",\"Not available\"))"
   ]
  },
  {
   "cell_type": "code",
   "execution_count": 74,
   "id": "068a5f0f",
   "metadata": {},
   "outputs": [],
   "source": [
    "data.get(\"cnic\")"
   ]
  },
  {
   "cell_type": "markdown",
   "id": "8774eba2",
   "metadata": {},
   "source": [
    "# Item, key, value"
   ]
  },
  {
   "cell_type": "code",
   "execution_count": 75,
   "id": "06cd99e7",
   "metadata": {},
   "outputs": [
    {
     "data": {
      "text/plain": [
       "{'name': 'Muhammad Qasim',\n",
       " 'father name': 'Muhammad Aslam',\n",
       " 'age': 30,\n",
       " 'education': 'MSDS',\n",
       " 'skills': ['AI', 'ML', 'DL', 'DS'],\n",
       " 0: 'Pakistan zinda bad',\n",
       " 'mutation type': 'KARAS g12C'}"
      ]
     },
     "execution_count": 75,
     "metadata": {},
     "output_type": "execute_result"
    }
   ],
   "source": [
    "data = {\n",
    "    \"name\":\"Muhammad Qasim\",\n",
    "    \"father name\": \"Muhammad Aslam\",\n",
    "    \"age\": 30,\n",
    "    \"education\": \"MSDS\",\n",
    "    \"skills\": [\"AI\",\"ML\",\"DL\",\"DS\"],\n",
    "    0:\"Pakistan zinda bad\",\n",
    "    \"mutation type\": \"KARAS g12C\"\n",
    "}\n",
    "data"
   ]
  },
  {
   "cell_type": "code",
   "execution_count": 76,
   "id": "896ec7c1",
   "metadata": {},
   "outputs": [
    {
     "data": {
      "text/plain": [
       "dict_items([('name', 'Muhammad Qasim'), ('father name', 'Muhammad Aslam'), ('age', 30), ('education', 'MSDS'), ('skills', ['AI', 'ML', 'DL', 'DS']), (0, 'Pakistan zinda bad'), ('mutation type', 'KARAS g12C')])"
      ]
     },
     "execution_count": 76,
     "metadata": {},
     "output_type": "execute_result"
    }
   ],
   "source": [
    "data.items()"
   ]
  },
  {
   "cell_type": "code",
   "execution_count": 78,
   "id": "b17ffad9",
   "metadata": {},
   "outputs": [
    {
     "data": {
      "text/plain": [
       "dict_keys(['name', 'father name', 'age', 'education', 'skills', 0, 'mutation type'])"
      ]
     },
     "execution_count": 78,
     "metadata": {},
     "output_type": "execute_result"
    }
   ],
   "source": [
    "data.keys()"
   ]
  },
  {
   "cell_type": "code",
   "execution_count": 79,
   "id": "88268296",
   "metadata": {},
   "outputs": [
    {
     "data": {
      "text/plain": [
       "dict_values(['Muhammad Qasim', 'Muhammad Aslam', 30, 'MSDS', ['AI', 'ML', 'DL', 'DS'], 'Pakistan zinda bad', 'KARAS g12C'])"
      ]
     },
     "execution_count": 79,
     "metadata": {},
     "output_type": "execute_result"
    }
   ],
   "source": [
    "data.values()"
   ]
  },
  {
   "cell_type": "code",
   "execution_count": 80,
   "id": "f315f68e",
   "metadata": {},
   "outputs": [
    {
     "name": "stdout",
     "output_type": "stream",
     "text": [
      "['ABC', 'Paki', 'hell', 123]\n"
     ]
    }
   ],
   "source": [
    "l1 = ['ABC',\"Paki\",\"hell\",123]\n",
    "print(l1)"
   ]
  },
  {
   "cell_type": "code",
   "execution_count": 82,
   "id": "cb17c8d6",
   "metadata": {},
   "outputs": [
    {
     "data": {
      "text/plain": [
       "False"
      ]
     },
     "execution_count": 82,
     "metadata": {},
     "output_type": "execute_result"
    }
   ],
   "source": [
    "'xyz' in l1 # boolean return"
   ]
  },
  {
   "cell_type": "code",
   "execution_count": 84,
   "id": "9df47275",
   "metadata": {},
   "outputs": [
    {
     "name": "stdout",
     "output_type": "stream",
     "text": [
      "ABC\n",
      "Paki\n",
      "hell\n",
      "123\n"
     ]
    }
   ],
   "source": [
    "l1 = ['ABC',\"Paki\",\"hell\",123]\n",
    "\n",
    "for abc in l1:\n",
    "    print(abc)"
   ]
  },
  {
   "cell_type": "code",
   "execution_count": 86,
   "id": "b13c4169",
   "metadata": {},
   "outputs": [
    {
     "name": "stdout",
     "output_type": "stream",
     "text": [
      "ABC\n",
      "Paki\n",
      "hell\n",
      "123\n",
      "123\n"
     ]
    }
   ],
   "source": [
    "l1 = ['ABC',\"Paki\",\"hell\",123]\n",
    "\n",
    "for xyz in l1:\n",
    "    print(xyz)# local vairable scop\n"
   ]
  },
  {
   "cell_type": "code",
   "execution_count": 87,
   "id": "7894955b",
   "metadata": {},
   "outputs": [
    {
     "name": "stdout",
     "output_type": "stream",
     "text": [
      "name\n",
      "father name\n",
      "age\n",
      "education\n",
      "skills\n",
      "0\n",
      "mutation type\n"
     ]
    }
   ],
   "source": [
    "data = {\n",
    "    \"name\":\"Muhammad Qasim\",\n",
    "    \"father name\": \"Muhammad Aslam\",\n",
    "    \"age\": 30,\n",
    "    \"education\": \"MSDS\",\n",
    "    \"skills\": [\"AI\",\"ML\",\"DL\",\"DS\"],\n",
    "    0:\"Pakistan zinda bad\",\n",
    "    \"mutation type\": \"KARAS g12C\"\n",
    "}\n",
    "\n",
    "\n",
    "for abc in data:\n",
    "    print(abc)"
   ]
  },
  {
   "cell_type": "code",
   "execution_count": 89,
   "id": "5932fa28",
   "metadata": {},
   "outputs": [
    {
     "name": "stdout",
     "output_type": "stream",
     "text": [
      "('name', 'Muhammad Qasim')\n",
      "('father name', 'Muhammad Aslam')\n",
      "('age', 30)\n",
      "('education', 'MSDS')\n",
      "('skills', ['AI', 'ML', 'DL', 'DS'])\n",
      "(0, 'Pakistan zinda bad')\n",
      "('mutation type', 'KARAS g12C')\n"
     ]
    }
   ],
   "source": [
    "data = {\n",
    "    \"name\":\"Muhammad Qasim\",\n",
    "    \"father name\": \"Muhammad Aslam\",\n",
    "    \"age\": 30,\n",
    "    \"education\": \"MSDS\",\n",
    "    \"skills\": [\"AI\",\"ML\",\"DL\",\"DS\"],\n",
    "    0:\"Pakistan zinda bad\",\n",
    "    \"mutation type\": \"KARAS g12C\"\n",
    "}\n",
    "\n",
    "\n",
    "for abc in data.items():\n",
    "    print(abc)"
   ]
  },
  {
   "cell_type": "code",
   "execution_count": 90,
   "id": "7738e9b5",
   "metadata": {},
   "outputs": [
    {
     "name": "stdout",
     "output_type": "stream",
     "text": [
      "100\n",
      "500\n"
     ]
    }
   ],
   "source": [
    "#100  500  = unzip\n",
    "a1 , a2 = (100, 500)\n",
    "\n",
    "print(a1)\n",
    "print(a2)"
   ]
  },
  {
   "cell_type": "code",
   "execution_count": 91,
   "id": "b086f0f5",
   "metadata": {},
   "outputs": [
    {
     "name": "stdout",
     "output_type": "stream",
     "text": [
      "Keys is : name Value is Muhammad Qasim\n",
      "Keys is : father name Value is Muhammad Aslam\n",
      "Keys is : age Value is 30\n",
      "Keys is : education Value is MSDS\n",
      "Keys is : skills Value is ['AI', 'ML', 'DL', 'DS']\n",
      "Keys is : 0 Value is Pakistan zinda bad\n",
      "Keys is : mutation type Value is KARAS g12C\n"
     ]
    }
   ],
   "source": [
    "data = {\n",
    "    \"name\":\"Muhammad Qasim\",\n",
    "    \"father name\": \"Muhammad Aslam\",\n",
    "    \"age\": 30,\n",
    "    \"education\": \"MSDS\",\n",
    "    \"skills\": [\"AI\",\"ML\",\"DL\",\"DS\"],\n",
    "    0:\"Pakistan zinda bad\",\n",
    "    \"mutation type\": \"KARAS g12C\"\n",
    "}\n",
    "\n",
    "\n",
    "for k,v in data.items():\n",
    "    print(\"Keys is :\", k, \"Value is\",v)"
   ]
  },
  {
   "cell_type": "code",
   "execution_count": 92,
   "id": "73171735",
   "metadata": {},
   "outputs": [
    {
     "name": "stdout",
     "output_type": "stream",
     "text": [
      "name Muhammad Qasim\n",
      "father name Muhammad Aslam\n",
      "age 30\n",
      "education MSDS\n",
      "skills ['AI', 'ML', 'DL', 'DS']\n",
      "0 Pakistan zinda bad\n",
      "mutation type KARAS g12C\n"
     ]
    }
   ],
   "source": [
    "for k,v in data.items():\n",
    "    print(k,v)"
   ]
  },
  {
   "cell_type": "code",
   "execution_count": 93,
   "id": "c17f3a38",
   "metadata": {},
   "outputs": [
    {
     "name": "stdout",
     "output_type": "stream",
     "text": [
      "name\n",
      "father name\n",
      "age\n",
      "education\n",
      "skills\n",
      "0\n",
      "mutation type\n"
     ]
    }
   ],
   "source": [
    "for i in data.keys():\n",
    "    print(i)"
   ]
  },
  {
   "cell_type": "code",
   "execution_count": 94,
   "id": "b0ab4478",
   "metadata": {},
   "outputs": [
    {
     "name": "stdout",
     "output_type": "stream",
     "text": [
      "Muhammad Qasim\n",
      "Muhammad Aslam\n",
      "30\n",
      "MSDS\n",
      "['AI', 'ML', 'DL', 'DS']\n",
      "Pakistan zinda bad\n",
      "KARAS g12C\n"
     ]
    }
   ],
   "source": [
    "for i in data.values():\n",
    "    print(i)"
   ]
  },
  {
   "cell_type": "code",
   "execution_count": 95,
   "id": "821c9af4",
   "metadata": {},
   "outputs": [
    {
     "data": {
      "text/plain": [
       "'Pakistan zinda bad'"
      ]
     },
     "execution_count": 95,
     "metadata": {},
     "output_type": "execute_result"
    }
   ],
   "source": [
    "\"Pakistan zinda bad\""
   ]
  },
  {
   "cell_type": "code",
   "execution_count": 97,
   "id": "1bbdf1dd",
   "metadata": {},
   "outputs": [
    {
     "name": "stdout",
     "output_type": "stream",
     "text": [
      "P\n",
      "a\n",
      "k\n",
      "i\n",
      "s\n",
      "t\n",
      "a\n",
      "n\n",
      " \n",
      "z\n",
      "i\n",
      "n\n",
      "d\n",
      "a\n",
      " \n",
      "b\n",
      "a\n",
      "d\n"
     ]
    }
   ],
   "source": [
    "for i in \"Pakistan zinda bad\":\n",
    "    print(i)"
   ]
  },
  {
   "cell_type": "code",
   "execution_count": 98,
   "id": "2f6d4883",
   "metadata": {},
   "outputs": [
    {
     "data": {
      "text/plain": [
       "['P',\n",
       " 'a',\n",
       " 'k',\n",
       " 'i',\n",
       " 's',\n",
       " 't',\n",
       " 'a',\n",
       " 'n',\n",
       " ' ',\n",
       " 'z',\n",
       " 'i',\n",
       " 'n',\n",
       " 'd',\n",
       " 'a',\n",
       " ' ',\n",
       " 'b',\n",
       " 'a',\n",
       " 'd']"
      ]
     },
     "execution_count": 98,
     "metadata": {},
     "output_type": "execute_result"
    }
   ],
   "source": [
    "list(\"Pakistan zinda bad\")"
   ]
  },
  {
   "cell_type": "code",
   "execution_count": 99,
   "id": "0ed77671",
   "metadata": {},
   "outputs": [
    {
     "data": {
      "text/plain": [
       "{'fname': 'Aslam', 'age': 30, 'qualification': 'MSDS'}"
      ]
     },
     "execution_count": 99,
     "metadata": {},
     "output_type": "execute_result"
    }
   ],
   "source": [
    "data = {\n",
    "    'name':'Qasim',\n",
    "    'fname':'Aslam',\n",
    "    'age':30,\n",
    "    'qualification':'MSDS',\n",
    "\n",
    "}\n",
    "del data['name']\n",
    "data"
   ]
  },
  {
   "cell_type": "markdown",
   "id": "12f2fd3b",
   "metadata": {},
   "source": [
    "# Return and None-Return function"
   ]
  },
  {
   "cell_type": "code",
   "execution_count": 101,
   "id": "1025adde",
   "metadata": {},
   "outputs": [
    {
     "name": "stdout",
     "output_type": "stream",
     "text": [
      "Pakistan\n",
      "None\n"
     ]
    }
   ],
   "source": [
    "a = print(\"Pakistan\") # unable to stort value in variable = None REturn function\n",
    "print(a)# "
   ]
  },
  {
   "cell_type": "code",
   "execution_count": 103,
   "id": "7de78d81",
   "metadata": {},
   "outputs": [
    {
     "name": "stdout",
     "output_type": "stream",
     "text": [
      "8\n"
     ]
    }
   ],
   "source": [
    "a = len(\"Pakistan\")# 8 length to store in \"a\" variable\n",
    "print(a)"
   ]
  },
  {
   "cell_type": "code",
   "execution_count": 105,
   "id": "2a56e2b4",
   "metadata": {},
   "outputs": [
    {
     "data": {
      "text/plain": [
       "{'fname': 'Aslam', 'age': 30, 'qualification': 'MSDS'}"
      ]
     },
     "execution_count": 105,
     "metadata": {},
     "output_type": "execute_result"
    }
   ],
   "source": [
    "data = {\n",
    "    'name':'Qasim',\n",
    "    'fname':'Aslam',\n",
    "    'age':30,\n",
    "    'qualification':'MSDS',\n",
    "\n",
    "}\n",
    "del data['name']\n",
    "data"
   ]
  },
  {
   "cell_type": "markdown",
   "id": "ace99494",
   "metadata": {},
   "source": [
    "# pop return and delete key:value pair"
   ]
  },
  {
   "cell_type": "code",
   "execution_count": 106,
   "id": "4982ab84",
   "metadata": {},
   "outputs": [
    {
     "ename": "SyntaxError",
     "evalue": "invalid syntax (<ipython-input-106-29b8c099446e>, line 8)",
     "output_type": "error",
     "traceback": [
      "\u001b[0;36m  File \u001b[0;32m\"<ipython-input-106-29b8c099446e>\"\u001b[0;36m, line \u001b[0;32m8\u001b[0m\n\u001b[0;31m    a = del data['name']\u001b[0m\n\u001b[0m          ^\u001b[0m\n\u001b[0;31mSyntaxError\u001b[0m\u001b[0;31m:\u001b[0m invalid syntax\n"
     ]
    }
   ],
   "source": [
    "data = {\n",
    "    'name':'Qasim',\n",
    "    'fname':'Aslam',\n",
    "    'age':30,\n",
    "    'qualification':'MSDS',\n",
    "\n",
    "}\n",
    "a = del data['name']\n",
    "print(a)"
   ]
  },
  {
   "cell_type": "code",
   "execution_count": 107,
   "id": "4b3bca04",
   "metadata": {},
   "outputs": [
    {
     "data": {
      "text/plain": [
       "{'fname': 'Aslam', 'age': 30, 'qualification': 'MSDS'}"
      ]
     },
     "execution_count": 107,
     "metadata": {},
     "output_type": "execute_result"
    }
   ],
   "source": [
    "data = {\n",
    "    'name':'Qasim',\n",
    "    'fname':'Aslam',\n",
    "    'age':30,\n",
    "    'qualification':'MSDS',\n",
    "\n",
    "}\n",
    "data.pop(\"name\")\n",
    "data"
   ]
  },
  {
   "cell_type": "code",
   "execution_count": 109,
   "id": "74d3cce0",
   "metadata": {},
   "outputs": [
    {
     "name": "stdout",
     "output_type": "stream",
     "text": [
      "{'fname': 'Aslam', 'age': 30, 'qualification': 'MSDS'}\n",
      "Deleted  Qasim\n"
     ]
    }
   ],
   "source": [
    "data = {\n",
    "    'name':'Qasim',\n",
    "    'fname':'Aslam',\n",
    "    'age':30,\n",
    "    'qualification':'MSDS',\n",
    "\n",
    "}\n",
    "a = data.pop(\"name\")# return value\n",
    "print(data)\n",
    "print(\"Deleted \",a)\n"
   ]
  },
  {
   "cell_type": "code",
   "execution_count": 111,
   "id": "7dc71fcc",
   "metadata": {},
   "outputs": [
    {
     "name": "stdout",
     "output_type": "stream",
     "text": [
      "{'fname': 'Aslam', 'age': 30}\n",
      "['Qasim', 'MSDS']\n"
     ]
    }
   ],
   "source": [
    "completed_task = []\n",
    "\n",
    "data = {\n",
    "    'name':'Qasim',\n",
    "    'fname':'Aslam',\n",
    "    'age':30,\n",
    "    'qualification':'MSDS',\n",
    "\n",
    "}\n",
    "\n",
    "a = data.pop(\"name\")\n",
    "completed_task.append(a)\n",
    "\n",
    "b = data.pop(\"qualification\")\n",
    "completed_task.append(b)\n",
    "\n",
    "print(data)\n",
    "print(completed_task)"
   ]
  },
  {
   "cell_type": "code",
   "execution_count": 114,
   "id": "0c67541d",
   "metadata": {},
   "outputs": [
    {
     "name": "stdout",
     "output_type": "stream",
     "text": [
      "{'name': 'Qasim', 'fname': 'Aslam', 'age': 30, 'qualification': 'MSDS'}\n",
      "Deleted  ('qualification', 'MSDS')\n",
      "{'name': 'Qasim', 'fname': 'Aslam', 'age': 30}\n"
     ]
    }
   ],
   "source": [
    "data = {\n",
    "    'name':'Qasim',\n",
    "    'fname':'Aslam',\n",
    "    'age':30,\n",
    "    'qualification':'MSDS',\n",
    "\n",
    "}\n",
    "print(data)\n",
    "a = data.popitem()# return value\n",
    "\n",
    "print(\"Deleted \",a)\n",
    "print(data)\n"
   ]
  },
  {
   "cell_type": "code",
   "execution_count": null,
   "id": "70aaa334",
   "metadata": {},
   "outputs": [],
   "source": [
    "data = {\n",
    "    'name':'Qasim',\n",
    "    'fname':'Aslam',\n",
    "    'age':30,\n",
    "    'qualification':'MSDS',\n",
    "\n",
    "}\n",
    "print(data)\n",
    "a = data.popitem()# return value\n",
    "\n",
    "print(\"Deleted \",a)\n",
    "print(data)\n"
   ]
  },
  {
   "cell_type": "code",
   "execution_count": 1,
   "id": "24c03f18",
   "metadata": {},
   "outputs": [],
   "source": [
    "data = {\n",
    "    \"name\":\"Muhammad Qasim\",\n",
    "    \"father name\": \"Muhammad Aslam\",\n",
    "    \"age\": 30,\n",
    "    \"education\": \"MSDS\",\n",
    "    \"skills\": [\"AI\",\"ML\",\"DL\",\"DS\"],\n",
    "    0:\"Pakistan zinda bad\",\n",
    "    \"mutation type\": \"KARAS g12C\"\n",
    "}\n",
    "\n"
   ]
  },
  {
   "cell_type": "code",
   "execution_count": 2,
   "id": "6ad18521",
   "metadata": {},
   "outputs": [
    {
     "name": "stdout",
     "output_type": "stream",
     "text": [
      "Not Available\n",
      "{'name': 'Muhammad Qasim', 'father name': 'Muhammad Aslam', 'age': 30, 'education': 'MSDS', 'skills': ['AI', 'ML', 'DL', 'DS'], 0: 'Pakistan zinda bad', 'mutation type': 'KARAS g12C'}\n"
     ]
    }
   ],
   "source": [
    "print(data.get(\"cnic\",\"Not Available\"))\n",
    "print(data)\n"
   ]
  },
  {
   "cell_type": "code",
   "execution_count": 4,
   "id": "4979af26",
   "metadata": {},
   "outputs": [
    {
     "name": "stdout",
     "output_type": "stream",
     "text": [
      "Not Available11\n",
      "{'name': 'Muhammad Qasim', 'father name': 'Muhammad Aslam', 'age': 30, 'education': 'MSDS', 'skills': ['AI', 'ML', 'DL', 'DS'], 0: 'Pakistan zinda bad', 'mutation type': 'KARAS g12C', 'cnic': 'Not Available11'}\n"
     ]
    }
   ],
   "source": [
    "print(data.setdefault(\"cnic\",\"Not Available11\"))\n",
    "print(data)"
   ]
  },
  {
   "cell_type": "code",
   "execution_count": 6,
   "id": "fde45010",
   "metadata": {},
   "outputs": [
    {
     "data": {
      "text/plain": [
       "{'name': 'Muhammad Qasim',\n",
       " 'father name': 'Muhammad Aslam',\n",
       " 'age': 30,\n",
       " 'education': 'MSDS',\n",
       " 'skills': ['AI', 'ML', 'DL', 'DS'],\n",
       " 0: 'Pakistan zinda bad',\n",
       " 'mutation type': 'KARAS g12C',\n",
       " 'cnic': 'Not Available11'}"
      ]
     },
     "execution_count": 6,
     "metadata": {},
     "output_type": "execute_result"
    }
   ],
   "source": [
    "data"
   ]
  },
  {
   "cell_type": "code",
   "execution_count": 7,
   "id": "4c55ae16",
   "metadata": {},
   "outputs": [
    {
     "data": {
      "text/plain": [
       "{'name': 'Muhammad Qasim abc', 'education': 'Master in Data Science'}"
      ]
     },
     "execution_count": 7,
     "metadata": {},
     "output_type": "execute_result"
    }
   ],
   "source": [
    "d2 = {\"name\":\"Muhammad Qasim abc\",\n",
    "     \"education\":\"Master in Data Science\"}\n",
    "d2"
   ]
  },
  {
   "cell_type": "code",
   "execution_count": 8,
   "id": "8e3da2b6",
   "metadata": {},
   "outputs": [
    {
     "data": {
      "text/plain": [
       "{'name': 'Muhammad Qasim abc',\n",
       " 'father name': 'Muhammad Aslam',\n",
       " 'age': 30,\n",
       " 'education': 'Master in Data Science',\n",
       " 'skills': ['AI', 'ML', 'DL', 'DS'],\n",
       " 0: 'Pakistan zinda bad',\n",
       " 'mutation type': 'KARAS g12C',\n",
       " 'cnic': 'Not Available11'}"
      ]
     },
     "execution_count": 8,
     "metadata": {},
     "output_type": "execute_result"
    }
   ],
   "source": [
    "data.update(d2)\n",
    "data"
   ]
  },
  {
   "cell_type": "code",
   "execution_count": null,
   "id": "ea659eda",
   "metadata": {},
   "outputs": [],
   "source": []
  }
 ],
 "metadata": {
  "kernelspec": {
   "display_name": "Python 3",
   "language": "python",
   "name": "python3"
  },
  "language_info": {
   "codemirror_mode": {
    "name": "ipython",
    "version": 3
   },
   "file_extension": ".py",
   "mimetype": "text/x-python",
   "name": "python",
   "nbconvert_exporter": "python",
   "pygments_lexer": "ipython3",
   "version": "3.7.15"
  }
 },
 "nbformat": 4,
 "nbformat_minor": 5
}
